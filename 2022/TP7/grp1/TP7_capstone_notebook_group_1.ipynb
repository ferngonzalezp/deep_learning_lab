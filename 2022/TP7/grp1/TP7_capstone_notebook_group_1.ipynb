{
  "nbformat": 4,
  "nbformat_minor": 0,
  "metadata": {
    "colab": {
      "name": "TP7-capstone_notebook_group_1.ipynb",
      "provenance": [],
      "authorship_tag": "ABX9TyPfN5oUAwdO5wmx/AZOly0X",
      "include_colab_link": true
    },
    "kernelspec": {
      "name": "python3",
      "display_name": "Python 3"
    },
    "language_info": {
      "name": "python"
    }
  },
  "cells": [
    {
      "cell_type": "markdown",
      "metadata": {
        "id": "view-in-github",
        "colab_type": "text"
      },
      "source": [
        "<a href=\"https://colab.research.google.com/github/ferngonzalezp/deep_learning_lab/blob/main/2022/TP7/grp1/TP7_capstone_notebook_group_1.ipynb\" target=\"_parent\"><img src=\"https://colab.research.google.com/assets/colab-badge.svg\" alt=\"Open In Colab\"/></a>"
      ]
    },
    {
      "cell_type": "markdown",
      "source": [
        "# 1. Prepare the data"
      ],
      "metadata": {
        "id": "y_YR1ZRlGNAs"
      }
    },
    {
      "cell_type": "code",
      "execution_count": null,
      "metadata": {
        "id": "t0xfu_8po_AC"
      },
      "outputs": [],
      "source": [
        "import numpy as np\n",
        "import tensorflow as tf\n",
        "from tensorflow import keras\n",
        "from tensorflow.keras import layers\n",
        "import pandas as pd\n",
        "\n",
        "import random\n",
        "random.seed(1)\n",
        "np.random.seed(1)\n",
        "tf.random.set_seed(1)"
      ]
    },
    {
      "cell_type": "code",
      "source": [
        "names =['Frequency', 'angle', 'chord', 'free-stream velocity', 'suction side displacement thickness', 'sound pressure']"
      ],
      "metadata": {
        "id": "2GZbB2LSz252"
      },
      "execution_count": null,
      "outputs": []
    },
    {
      "cell_type": "code",
      "source": [
        "ds = pd.read_table('airfoil_self_noise.dat', sep=\"\\s+\", names=names)"
      ],
      "metadata": {
        "id": "viMF5Lp9yh8O"
      },
      "execution_count": null,
      "outputs": []
    },
    {
      "cell_type": "code",
      "source": [
        "ds.head()"
      ],
      "metadata": {
        "id": "PgJTxIpezexT"
      },
      "execution_count": null,
      "outputs": []
    },
    {
      "cell_type": "markdown",
      "source": [
        "## You will see each column has very different values, normalize the dataset so each column is between 0 and 1."
      ],
      "metadata": {
        "id": "GSKJXj9hGS-j"
      }
    },
    {
      "cell_type": "code",
      "source": [
        "#Write your code here"
      ],
      "metadata": {
        "id": "7ZPIi9x_BM-i"
      },
      "execution_count": null,
      "outputs": []
    },
    {
      "cell_type": "code",
      "source": [
        "#divide the dataset between inputs and targets\n",
        "inputs = np.array(ds.iloc[:,:-1])\n",
        "target = np.array(ds.iloc[:,-1])"
      ],
      "metadata": {
        "id": "MaK9OZr_3B2u"
      },
      "execution_count": null,
      "outputs": []
    },
    {
      "cell_type": "code",
      "source": [
        "#Split the inputs and targets into training and testing splits\n",
        "from sklearn.model_selection import train_test_split\n",
        "\n",
        "x_train, x_test, y_train, y_test = train_test_split(inputs, target, test_size=0.2)"
      ],
      "metadata": {
        "id": "gt55cihnBsbp"
      },
      "execution_count": null,
      "outputs": []
    },
    {
      "cell_type": "markdown",
      "source": [
        "# 2. Build and Train the model"
      ],
      "metadata": {
        "id": "fbvaxGv4HBFD"
      }
    },
    {
      "cell_type": "markdown",
      "source": [
        "In this part you will build an appropiate neural network to fit the problem which is a regression task where we want to find the sound pressure based on 5 predictors. The parameters choice is free. Choose the loss function and metric accordingly."
      ],
      "metadata": {
        "id": "y2VaIMoKHGOb"
      }
    },
    {
      "cell_type": "code",
      "source": [
        "#your code here"
      ],
      "metadata": {
        "id": "vNbeSZdf7DdP"
      },
      "execution_count": null,
      "outputs": []
    },
    {
      "cell_type": "markdown",
      "source": [
        "# 3. Evaluate your model"
      ],
      "metadata": {
        "id": "9mwV5NSGHoCd"
      }
    },
    {
      "cell_type": "markdown",
      "source": [
        "Now you will need to evaluate your model on test data, after that we want to have a more tangible measure, for this you will need to calculate the relative percentage error between the predictions and test data which is:\n",
        "\n",
        "\\begin{equation}\n",
        "  \\epsilon_{rel} =\\frac{1}{N} \\sum^N{ \\frac{|\\hat{y}-y|}{|y|}\\times100}\n",
        "\\end{equation}\n",
        "\n",
        "**The Goal is that this metric is below 10% on test data**"
      ],
      "metadata": {
        "id": "hv2gZU5qHrIS"
      }
    },
    {
      "cell_type": "code",
      "source": [
        "# Your Code Here"
      ],
      "metadata": {
        "id": "EcBicGeZ_Hax"
      },
      "execution_count": null,
      "outputs": []
    }
  ]
}