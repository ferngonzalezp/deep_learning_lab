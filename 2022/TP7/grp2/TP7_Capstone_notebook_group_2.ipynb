{
  "nbformat": 4,
  "nbformat_minor": 0,
  "metadata": {
    "colab": {
      "name": "TP7 - Capstone notebook group 2.ipynb",
      "provenance": [],
      "collapsed_sections": [],
      "authorship_tag": "ABX9TyMqMsFQU4hi2XKi2ulZNY/u",
      "include_colab_link": true
    },
    "kernelspec": {
      "name": "python3",
      "display_name": "Python 3"
    },
    "language_info": {
      "name": "python"
    },
    "accelerator": "GPU"
  },
  "cells": [
    {
      "cell_type": "markdown",
      "metadata": {
        "id": "view-in-github",
        "colab_type": "text"
      },
      "source": [
        "<a href=\"https://colab.research.google.com/github/ferngonzalezp/deep_learning_lab/blob/main/2022/TP7/grp2/TP7_Capstone_notebook_group_2.ipynb\" target=\"_parent\"><img src=\"https://colab.research.google.com/assets/colab-badge.svg\" alt=\"Open In Colab\"/></a>"
      ]
    },
    {
      "cell_type": "markdown",
      "source": [
        "# 1. Data preparation"
      ],
      "metadata": {
        "id": "VVjMiAb556Eg"
      }
    },
    {
      "cell_type": "code",
      "execution_count": null,
      "metadata": {
        "id": "hw0KsYyIYBtM"
      },
      "outputs": [],
      "source": [
        "import numpy as np\n",
        "import pandas as pd\n",
        "from tensorflow import keras\n",
        "from keras import layers\n",
        "import tensorflow as tf\n",
        "from scipy.io import arff"
      ]
    },
    {
      "cell_type": "markdown",
      "source": [
        "In this practice you will train a Deep Learning model on the Higgs dataset. The goal of this task is to train a classificator that can help in the discovery of exotic particles. The abstract of the dataset [article](https://www.nature.com/articles/ncomms5308) describes how deep learning can help in this task:\n",
        "\n",
        "> *Collisions at high-energy particle colliders are a traditionally fruitful source of exotic particle discoveries. Finding these rare particles requires solving difficult signal-versus-background classification problems, hence machine-learning approaches are often used. Standard approaches have relied on ‘shallow’ machine-learning models that have a limited capacity to learn complex nonlinear functions of the inputs, and rely on a painstaking search through manually constructed nonlinear features. Progress on this problem has slowed, as a variety of techniques have shown equivalent performance. Recent advances in the field of deep learning make it possible to learn more complex functions and better discriminate between signal and background classes. Here, using benchmark data sets, we show that deep-learning methods need no manually constructed inputs and yet improve the classification metric by as much as 8% over the best current approaches. This demonstrates that deep-learning approaches can improve the power of collider searches for exotic particles.*\n",
        "\n",
        "\n"
      ],
      "metadata": {
        "id": "RDNCMIff5_VG"
      }
    },
    {
      "cell_type": "code",
      "source": [
        "!gdown 12TAletI8GkzwEPDQtHhbq1W48d64RIIJ"
      ],
      "metadata": {
        "id": "cWEy8wgNycMI"
      },
      "execution_count": null,
      "outputs": []
    },
    {
      "cell_type": "code",
      "source": [
        "data = arff.loadarff('phpZLgL9q.arff')\n",
        "ds = pd.DataFrame(data[0])\n",
        "ds['class'] = ds['class'].astype('category')\n",
        "ds['class']"
      ],
      "metadata": {
        "id": "mu7DO4hdzJQS"
      },
      "execution_count": null,
      "outputs": []
    },
    {
      "cell_type": "code",
      "source": [
        "ds['class'] = ds['class'].cat.codes\n",
        "ds['class']"
      ],
      "metadata": {
        "id": "GWwamUSx2MgE"
      },
      "execution_count": null,
      "outputs": []
    },
    {
      "cell_type": "markdown",
      "source": [
        "**Higgs Boson detection data.** The data has been produced using Monte Carlo simulations. The first 21 features (columns 2-22) are kinematic properties measured by the particle detectors in the accelerator. The last seven features are functions of the first 21 features; these are high-level features derived by physicists to help discriminate between the two classes. There is an interest in using deep learning methods to obviate the need for physicists to manually develop such features.\n",
        "\n",
        "**Attribute Information**\n",
        "* The first column is the class label (1 for signal, 0 for background)\n",
        "* 21 low-level features (kinematic properties): lepton pT, lepton eta, lepton phi, missing energy magnitude, missing energy phi, jet 1 pt, jet 1 eta, jet 1 phi, jet 1 b-tag, jet 2 pt, jet 2 eta, jet 2 phi, jet 2 b-tag, jet 3 pt, jet 3 eta, jet 3 phi, jet 3 b-tag, jet 4 pt, jet 4 eta, jet 4 phi, jet 4 b-tag\n",
        "* 7 high-level features derived by physicists: m_jj, m_jjj, m_lv, m_jlv, m_bb, m_wbb, m_wwbb."
      ],
      "metadata": {
        "id": "Gz4nS62X9DmA"
      }
    },
    {
      "cell_type": "code",
      "source": [
        "ds.head()"
      ],
      "metadata": {
        "id": "6cvmgjnzzRix"
      },
      "execution_count": null,
      "outputs": []
    },
    {
      "cell_type": "code",
      "source": [
        "print(ds.min())\n",
        "print(ds.max())"
      ],
      "metadata": {
        "id": "vJgsWQ8mgKDO"
      },
      "execution_count": null,
      "outputs": []
    },
    {
      "cell_type": "markdown",
      "source": [
        "**Data Normalization**\n",
        "\n",
        "Normalize the dataset in a way that each feature has zero mean and unit variance."
      ],
      "metadata": {
        "id": "uV3w5Ryv9eKP"
      }
    },
    {
      "cell_type": "code",
      "source": [
        "## Your code here"
      ],
      "metadata": {
        "id": "iI5VXJbJaInI"
      },
      "execution_count": null,
      "outputs": []
    },
    {
      "cell_type": "code",
      "source": [
        "ds =  normalize(ds)\n",
        "ds.dropna(inplace=True)"
      ],
      "metadata": {
        "id": "T6Byk8gKv6tq"
      },
      "execution_count": null,
      "outputs": []
    },
    {
      "cell_type": "code",
      "source": [
        "inputs = np.array(ds.select_dtypes(include=['float64']))\n",
        "target = np.array(ds.select_dtypes(include=['int8']))"
      ],
      "metadata": {
        "id": "MaK9OZr_3B2u"
      },
      "execution_count": null,
      "outputs": []
    },
    {
      "cell_type": "code",
      "source": [
        "from sklearn.model_selection import train_test_split\n",
        "\n",
        "x_train, x_test, y_train, y_test = train_test_split(inputs, target, test_size=0.2)"
      ],
      "metadata": {
        "id": "gt55cihnBsbp"
      },
      "execution_count": null,
      "outputs": []
    },
    {
      "cell_type": "markdown",
      "source": [
        "# 2. Build and train the model\n",
        "In this part you will build an appropiate neural network to fit the problem which is a classification task where we want to find whether the signal is 0 or 1. The parameters choice is free. Choose the loss function and metric accordingly."
      ],
      "metadata": {
        "id": "hb5OSnaM95PQ"
      }
    },
    {
      "cell_type": "code",
      "source": [
        "# Your Code here"
      ],
      "metadata": {
        "id": "EcBicGeZ_Hax"
      },
      "execution_count": null,
      "outputs": []
    },
    {
      "cell_type": "markdown",
      "source": [
        "# 3. Evaluate your model"
      ],
      "metadata": {
        "id": "qCJTvNgu-RrP"
      }
    },
    {
      "cell_type": "markdown",
      "source": [
        "Evaluate the model on test data using the accuracy metric. \n",
        "**The Goal is that this metric is at least 72% on test data**"
      ],
      "metadata": {
        "id": "hv2gZU5qHrIS"
      }
    },
    {
      "cell_type": "code",
      "source": [
        "# Your Code Here"
      ],
      "metadata": {
        "id": "yD-EdpsJ-R5P"
      },
      "execution_count": null,
      "outputs": []
    }
  ]
}