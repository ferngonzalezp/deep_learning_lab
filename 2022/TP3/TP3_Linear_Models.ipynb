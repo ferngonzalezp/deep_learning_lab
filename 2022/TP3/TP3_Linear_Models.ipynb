{
  "cells": [
    {
      "cell_type": "markdown",
      "metadata": {
        "id": "view-in-github",
        "colab_type": "text"
      },
      "source": [
        "<a href=\"https://colab.research.google.com/github/ferngonzalezp/deep_learning_lab/blob/main/2022/TP3/TP3_Linear_Models.ipynb\" target=\"_parent\"><img src=\"https://colab.research.google.com/assets/colab-badge.svg\" alt=\"Open In Colab\"/></a>"
      ]
    },
    {
      "cell_type": "markdown",
      "metadata": {
        "id": "sIPzYtLLd6vI"
      },
      "source": [
        "Before you turn this problem in, make sure everything runs as expected. First, **restart the kernel** (in the menubar, select Kernel$\\rightarrow$Restart) and then **run all cells** (in the menubar, select Cell$\\rightarrow$Run All).\n",
        "\n",
        "Make sure you fill in any place that says `YOUR CODE HERE` or \"YOUR ANSWER HERE\", as well as your name and collaborators below:"
      ]
    },
    {
      "cell_type": "code",
      "execution_count": null,
      "metadata": {
        "id": "nkiMN6q_d6vK"
      },
      "outputs": [],
      "source": [
        "NAME = \"\"\n",
        "COLLABORATORS = \"\""
      ]
    },
    {
      "cell_type": "markdown",
      "metadata": {
        "id": "lYLQF1DNd6vL"
      },
      "source": [
        "---"
      ]
    },
    {
      "cell_type": "markdown",
      "metadata": {
        "id": "iGg3qgQoO-R6"
      },
      "source": [
        "# TP3 - Linear Models with Scikit-Learn\n",
        "\n"
      ]
    },
    {
      "cell_type": "markdown",
      "metadata": {
        "id": "Qyt7_BVGPLA8"
      },
      "source": [
        "In this lesson we are going to return to the concept of linear regression and other types of linear models that we could use for regression and classification. We introduce classification problems for the first time here, but essentially what changes is that our model in this case will be a function that maps between input features to labels/classes/targets. Also a new API is introduced, scikit-learn which is built on numpy and is very useful for classic Machine Learning. At the end we will also see a two new concepts in ML: The firs is regularization, a trick that can help to mitigate underfitting/overfitting; the second one, is a method to try to fit data with Non-linear relations using linear models."
      ]
    },
    {
      "cell_type": "markdown",
      "metadata": {
        "id": "ehkqz8mJrFOm"
      },
      "source": [
        "## Part 1: Introduction to Scikit-Learn"
      ]
    },
    {
      "cell_type": "markdown",
      "metadata": {
        "id": "j4tRsExxsMVG"
      },
      "source": [
        "### First model with scikit-learn\n",
        "\n",
        "In this notebook, we present how to build predictive models on tabular\n",
        "datasets, with only numerical features.\n",
        "\n",
        "In particular we will highlight:\n",
        "\n",
        "* the scikit-learn API: `.fit(X, y)`/`.predict(X)`/`.score(X, y)`;\n",
        "* how to evaluate the generalization performance of a model with a train-test\n",
        "  split.\n",
        "\n"
      ]
    },
    {
      "cell_type": "markdown",
      "metadata": {
        "id": "3EUI8YoUuIyW"
      },
      "source": [
        "### Loading the dataset with Pandas\n",
        "\n",
        "We will use the same dataset \"adult_census\". For more details about the dataset see\n",
        "<http://www.openml.org/d/1590>.\n",
        "\n",
        "Numerical data is the most natural type of data used in machine learning and\n",
        "can (almost) directly be fed into predictive models. We will load a\n",
        "subset of the original data with only the numerical columns."
      ]
    },
    {
      "cell_type": "code",
      "execution_count": null,
      "metadata": {
        "id": "XAcYYkp7tMre"
      },
      "outputs": [],
      "source": [
        "import pandas as pd\n",
        "\n",
        "adult_census = pd.read_csv(\"./adult-census-numeric.csv\")"
      ]
    },
    {
      "cell_type": "markdown",
      "metadata": {
        "id": "-K3pmVT-t1A1"
      },
      "source": [
        "Let's have a look at the first records of this dataframe:"
      ]
    },
    {
      "cell_type": "code",
      "execution_count": null,
      "metadata": {
        "id": "rjzqObmstx8_"
      },
      "outputs": [],
      "source": [
        "adult_census.head()"
      ]
    },
    {
      "cell_type": "markdown",
      "metadata": {
        "id": "r_Erc7yZt7Vt"
      },
      "source": [
        "We see that this CSV file contains all information: the target that we would\n",
        "like to predict (i.e. `\"class\"`) and the data that we want to use to train\n",
        "our predictive model (i.e. the remaining columns). The first step is to\n",
        "separate columns to get on one side the target and on the other side the\n",
        "data."
      ]
    },
    {
      "cell_type": "markdown",
      "metadata": {
        "id": "38AgsjcPuMre"
      },
      "source": [
        "### Separate the data and the target\n",
        "\n"
      ]
    },
    {
      "cell_type": "code",
      "execution_count": null,
      "metadata": {
        "id": "y3izP7z0uWVU"
      },
      "outputs": [],
      "source": [
        "target_name = \"class\"\n",
        "target = adult_census[target_name]\n",
        "target"
      ]
    },
    {
      "cell_type": "code",
      "execution_count": null,
      "metadata": {
        "id": "_rqoi5P_uXd-"
      },
      "outputs": [],
      "source": [
        "data = adult_census.drop(columns=[target_name, ])\n",
        "data.head()"
      ]
    },
    {
      "cell_type": "markdown",
      "metadata": {
        "id": "2kDEHs-7ucRM"
      },
      "source": [
        "We can now linger on the variables, also denominated features, that we will\n",
        "use to build our predictive model. In addition, we can also check how many\n",
        "samples are available in our dataset."
      ]
    },
    {
      "cell_type": "code",
      "execution_count": null,
      "metadata": {
        "id": "RmDGsi4FugfP"
      },
      "outputs": [],
      "source": [
        "data.columns"
      ]
    },
    {
      "cell_type": "code",
      "execution_count": null,
      "metadata": {
        "id": "aMejCkOxui73"
      },
      "outputs": [],
      "source": [
        "print(f\"The dataset contains {data.shape[0]} samples and \"\n",
        "      f\"{data.shape[1]} features\")"
      ]
    },
    {
      "cell_type": "markdown",
      "metadata": {
        "id": "SXkd8EbOunRd"
      },
      "source": [
        "### Fit a model and make predictions\n"
      ]
    },
    {
      "cell_type": "markdown",
      "metadata": {
        "id": "YHWbdSVnupkP"
      },
      "source": [
        "We will build a classification model using the \"K-nearest neighbors\"\n",
        "strategy. To predict the target of a new sample, a k-nearest neighbors takes\n",
        "into account its `k` closest samples in the training set and predicts the\n",
        "majority target of these samples.\n",
        "\n",
        "<div class=\"admonition caution alert alert-warning\">\n",
        "<p class=\"first admonition-title\" style=\"font-weight: bold;\">Caution!</p>\n",
        "<p class=\"last\">We use a K-nearest neighbors here. However, be aware that it is seldom useful\n",
        "in practice. We use it because it is an intuitive algorithm.</p>\n",
        "</div>\n",
        "\n",
        "The `fit` method is called to train the model from the input (features) and\n",
        "target data."
      ]
    },
    {
      "cell_type": "code",
      "execution_count": null,
      "metadata": {
        "id": "ZfaQ_qQZvJk-"
      },
      "outputs": [],
      "source": [
        "# to display nice model diagram\n",
        "from sklearn import set_config\n",
        "set_config(display='diagram')"
      ]
    },
    {
      "cell_type": "code",
      "execution_count": null,
      "metadata": {
        "id": "2WFH3exwvK-2"
      },
      "outputs": [],
      "source": [
        "from sklearn.neighbors import KNeighborsClassifier\n",
        "\n",
        "model = KNeighborsClassifier()\n",
        "model.fit(data, target)"
      ]
    },
    {
      "cell_type": "markdown",
      "metadata": {
        "id": "2YewsZbJxT-u"
      },
      "source": [
        "Learning can be represented as follows:\n",
        "\n",
        "![image.png](data:image/png;base64,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)\n",
        "\n",
        "The method `fit` is composed of two elements: (i) a **learning algorithm**\n",
        "and (ii) some **model states**. The learning algorithm takes the training\n",
        "data and training target as input and sets the model states. These model\n",
        "states will be used later to either predict (for classifiers and regressors)\n",
        "or transform data (for transformers).\n",
        "\n",
        "Both the learning algorithm and the type of model states are specific to each\n",
        "type of model."
      ]
    },
    {
      "cell_type": "markdown",
      "metadata": {
        "id": "BRJgc1ryxqZw"
      },
      "source": [
        "<div class=\"admonition note alert alert-info\">\n",
        "<p class=\"first admonition-title\" style=\"font-weight: bold;\">Note</p>\n",
        "<p class=\"last\">Here and later, we use the name <tt class=\"docutils literal\">data</tt> and <tt class=\"docutils literal\">target</tt> to be explicit. In\n",
        "scikit-learn documentation, <tt class=\"docutils literal\">data</tt> is commonly named <tt class=\"docutils literal\">X</tt> and <tt class=\"docutils literal\">target</tt> is\n",
        "commonly called <tt class=\"docutils literal\">y</tt>.</p>\n",
        "</div>"
      ]
    },
    {
      "cell_type": "markdown",
      "metadata": {
        "id": "Hv9fuut8xyB-"
      },
      "source": [
        "Let's use our model to make some predictions using the same dataset."
      ]
    },
    {
      "cell_type": "code",
      "execution_count": null,
      "metadata": {
        "id": "zCZ2dOC5xz_2"
      },
      "outputs": [],
      "source": [
        "target_predicted = model.predict(data)"
      ]
    },
    {
      "cell_type": "markdown",
      "metadata": {
        "id": "9cYQZ-91x3Bm"
      },
      "source": [
        "We can illustrate the prediction mechanism as follows:\n",
        "\n",
        "![image.png](data:image/png;base64,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)\n",
        "\n",
        "To predict, a model uses a **prediction function** that will use the input\n",
        "data together with the model states. As for the learning algorithm and the\n",
        "model states, the prediction function is specific for each type of model."
      ]
    },
    {
      "cell_type": "markdown",
      "metadata": {
        "id": "sFp1vjViyNgG"
      },
      "source": [
        "Let's now have a look at the computed predictions. For the sake of\n",
        "simplicity, we will look at the five first predicted targets."
      ]
    },
    {
      "cell_type": "code",
      "execution_count": null,
      "metadata": {
        "id": "HfDvLUVNyQQf"
      },
      "outputs": [],
      "source": [
        "target_predicted[:5]"
      ]
    },
    {
      "cell_type": "markdown",
      "metadata": {
        "id": "_Qrkz1izyR62"
      },
      "source": [
        "Indeed, we can compare these predictions to the actual data..."
      ]
    },
    {
      "cell_type": "code",
      "execution_count": null,
      "metadata": {
        "id": "2fO9cCl8yUP3"
      },
      "outputs": [],
      "source": [
        "target[:5]"
      ]
    },
    {
      "cell_type": "markdown",
      "metadata": {
        "id": "q07QT24EyaYF"
      },
      "source": [
        "...and we could even check if the predictions agree with the real targets:"
      ]
    },
    {
      "cell_type": "code",
      "execution_count": null,
      "metadata": {
        "id": "_3-IDquwydet"
      },
      "outputs": [],
      "source": [
        "target[:5] == target_predicted[:5]"
      ]
    },
    {
      "cell_type": "code",
      "execution_count": null,
      "metadata": {
        "id": "dnKcMF03yf7u"
      },
      "outputs": [],
      "source": [
        "print(f\"Number of correct prediction: \"\n",
        "      f\"{(target[:5] == target_predicted[:5]).sum()} / 5\")"
      ]
    },
    {
      "cell_type": "markdown",
      "metadata": {
        "id": "CJc6pyifyiR-"
      },
      "source": [
        "Here, we see that our model makes a mistake when predicting for the first\n",
        "sample.\n",
        "\n",
        "To get a better assessment, we can compute the average success rate."
      ]
    },
    {
      "cell_type": "code",
      "execution_count": null,
      "metadata": {
        "id": "IIylg3vUyk42"
      },
      "outputs": [],
      "source": [
        "(target == target_predicted).mean()"
      ]
    },
    {
      "cell_type": "markdown",
      "metadata": {
        "id": "7DQeVbayyoB2"
      },
      "source": [
        "But, can this evaluation be trusted, or is it too good to be true?\n"
      ]
    },
    {
      "cell_type": "markdown",
      "metadata": {
        "id": "RreXa8hFypD3"
      },
      "source": [
        "### Train-test data split\n",
        "\n",
        "When building a machine learning model, it is important to evaluate the\n",
        "trained model on data that was not used to fit it, as **generalization** is\n",
        "more than memorization (meaning we want a rule that generalizes to new data,\n",
        "without comparing to data we memorized).\n",
        "It is harder to conclude on never-seen instances than on already seen ones.\n",
        "\n",
        "Correct evaluation is easily done by leaving out a subset of the data when\n",
        "training the model and using it afterwards for model evaluation.\n",
        "The data used to fit a model is called training data while the data used to\n",
        "assess a model is called testing data.\n",
        "\n",
        "We can load more data, which was actually left-out from the original data\n",
        "set."
      ]
    },
    {
      "cell_type": "code",
      "execution_count": null,
      "metadata": {
        "id": "10PaUQH3y2JO"
      },
      "outputs": [],
      "source": [
        "adult_census_test = pd.read_csv('./adult-census-numeric-test.csv')"
      ]
    },
    {
      "cell_type": "markdown",
      "metadata": {
        "id": "l08r6mDVy_MP"
      },
      "source": [
        "From this new data, we separate our input features and the target to predict,\n",
        "as in the beginning of this notebook."
      ]
    },
    {
      "cell_type": "code",
      "execution_count": null,
      "metadata": {
        "id": "NmLcQ_4EzBVQ"
      },
      "outputs": [],
      "source": [
        "target_test = adult_census_test[target_name]\n",
        "data_test = adult_census_test.drop(columns=[target_name, ])"
      ]
    },
    {
      "cell_type": "markdown",
      "metadata": {
        "id": "-TS6Fp7szDjt"
      },
      "source": [
        "We can check the number of features and samples available in this new set."
      ]
    },
    {
      "cell_type": "code",
      "execution_count": null,
      "metadata": {
        "id": "ceB_o_QhzFTJ"
      },
      "outputs": [],
      "source": [
        "print(f\"The testing dataset contains {data_test.shape[0]} samples and \"\n",
        "      f\"{data_test.shape[1]} features\")"
      ]
    },
    {
      "cell_type": "markdown",
      "metadata": {
        "id": "YGHq_RCTzGt2"
      },
      "source": [
        "\n",
        "Instead of computing the prediction and manually computing the average\n",
        "success rate, we can use the method `score`. When dealing with classifiers\n",
        "this method returns their performance metric."
      ]
    },
    {
      "cell_type": "code",
      "execution_count": null,
      "metadata": {
        "id": "9ELaI_3bzJPl"
      },
      "outputs": [],
      "source": [
        "accuracy = model.score(data_test, target_test)\n",
        "model_name = model.__class__.__name__\n",
        "\n",
        "print(f\"The test accuracy using a {model_name} is \"\n",
        "      f\"{accuracy:.3f}\")"
      ]
    },
    {
      "cell_type": "markdown",
      "metadata": {
        "id": "9ZwnarrkzMPu"
      },
      "source": [
        "Let's check the underlying mechanism when the `score` method is called:\n",
        "\n",
        "![image.png](data:image/png;base64,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)\n",
        "\n",
        "To compute the score, the predictor first computes the predictions (using\n",
        "the `predict` method) and then uses a scoring function to compare the\n",
        "true target `y` and the predictions. Finally, the score is returned."
      ]
    },
    {
      "cell_type": "markdown",
      "metadata": {
        "id": "rUSjAGaKzWjX"
      },
      "source": [
        "If we compare with the accuracy obtained by wrongly evaluating the model\n",
        "on the training set, we find that this evaluation was indeed optimistic\n",
        "compared to the score obtained on a held-out test set.\n",
        "\n",
        "It shows the importance to always testing the generalization performance of\n",
        "predictive models on a different set than the one used to train these models.\n",
        "We will discuss later in more details how predictive models should be\n",
        "evaluated."
      ]
    },
    {
      "cell_type": "markdown",
      "metadata": {
        "id": "IJU5VSrVzZFf"
      },
      "source": [
        "<div class=\"admonition note alert alert-info\">\n",
        "<p class=\"first admonition-title\" style=\"font-weight: bold;\">Note</p>\n",
        "<p class=\"last\">In this course, we will refer to <strong>generalization performance</strong> of a model when\n",
        "referring to the test score or test error obtained by comparing the\n",
        "prediction of a model and the true targets. Equivalent terms for\n",
        "<strong>generalization performance</strong> are predictive performance and statistical\n",
        "performance. We will refer to <strong>computational performance</strong> of a predictive\n",
        "model when accessing the computational costs of training a predictive model\n",
        "or using it to make predictions.</p>\n",
        "</div>"
      ]
    },
    {
      "cell_type": "markdown",
      "metadata": {
        "id": "WPyiePdu0uNg"
      },
      "source": [
        "### Exercise 1: Fitting a Scikit-Learn Model"
      ]
    },
    {
      "cell_type": "markdown",
      "metadata": {
        "id": "A7POi44K2r3R"
      },
      "source": [
        "The goal of this exercise is to fit a similar model as in the previous\n",
        "notebook to get familiar with manipulating scikit-learn objects and in\n",
        "particular the `.fit/.predict/.score` API."
      ]
    },
    {
      "cell_type": "markdown",
      "metadata": {
        "id": "Ka8r_tAH27FR"
      },
      "source": [
        "Let's load the adult census dataset with only numerical variables"
      ]
    },
    {
      "cell_type": "code",
      "execution_count": null,
      "metadata": {
        "id": "ADAR1bxN257q"
      },
      "outputs": [],
      "source": [
        "import pandas as pd\n",
        "adult_census = pd.read_csv(\"./adult-census-numeric.csv\")\n",
        "data = adult_census.drop(columns=\"class\")\n",
        "target = adult_census[\"class\"]"
      ]
    },
    {
      "cell_type": "markdown",
      "metadata": {
        "id": "_zz3usXk2_9B"
      },
      "source": [
        "In the previous notebook we used `model = KNeighborsClassifier()`. All\n",
        "scikit-learn models can be created without arguments, which means that you\n",
        "don't need to understand the details of the model to use it in scikit-learn.\n",
        "\n",
        "One of the `KNeighborsClassifier` parameters is `n_neighbors`. It controls\n",
        "the number of neighbors we are going to use to make a prediction for a new\n",
        "data point.\n",
        "\n",
        "What is the default value of the `n_neighbors` parameter? Hint: Look at the\n",
        "documentation on the [scikit-learn\n",
        "website](https://scikit-learn.org/stable/modules/generated/sklearn.neighbors.KNeighborsClassifier.html)\n",
        "or directly access the description inside your notebook by running the\n",
        "following cell. This will open a pager pointing to the documentation."
      ]
    },
    {
      "cell_type": "markdown",
      "metadata": {
        "id": "yLRBdIqI3QCR"
      },
      "source": [
        "Create a `KNeighborsClassifier` model with `n_neighbors=50`"
      ]
    },
    {
      "cell_type": "code",
      "execution_count": null,
      "metadata": {
        "deletable": false,
        "id": "Sl5LaLIX3O9h",
        "nbgrader": {
          "cell_type": "code",
          "checksum": "f558f48007366ba3aaff3377a369fd75",
          "grade": false,
          "grade_id": "cell-0a771896ae14a69e",
          "locked": false,
          "schema_version": 3,
          "solution": true,
          "task": false
        }
      },
      "outputs": [],
      "source": [
        "# YOUR CODE HERE\n",
        "raise NotImplementedError()"
      ]
    },
    {
      "cell_type": "code",
      "execution_count": null,
      "metadata": {
        "deletable": false,
        "editable": false,
        "nbgrader": {
          "cell_type": "code",
          "checksum": "d4a35a49fc97cd09340cdda0fc4acabe",
          "grade": true,
          "grade_id": "model-knn",
          "locked": true,
          "points": 2,
          "schema_version": 3,
          "solution": false,
          "task": false
        },
        "id": "lBOgycUgd6vZ"
      },
      "outputs": [],
      "source": [
        "assert model.n_neighbors == 50"
      ]
    },
    {
      "cell_type": "markdown",
      "metadata": {
        "id": "UCuR38233UTj"
      },
      "source": [
        "Fit this model on the data and target loaded above"
      ]
    },
    {
      "cell_type": "code",
      "execution_count": null,
      "metadata": {
        "deletable": false,
        "id": "bMY0dyp-3Tyh",
        "nbgrader": {
          "cell_type": "code",
          "checksum": "b60e660e98bc9e7449e292c92f586cbe",
          "grade": false,
          "grade_id": "cell-f2b573038e618193",
          "locked": false,
          "schema_version": 3,
          "solution": true,
          "task": false
        }
      },
      "outputs": [],
      "source": [
        "# YOUR CODE HERE\n",
        "raise NotImplementedError()"
      ]
    },
    {
      "cell_type": "markdown",
      "metadata": {
        "id": "nJPhfWqA3YIR"
      },
      "source": [
        "Use your model to make predictions on the first 10 data points inside the\n",
        "data. Do they match the actual target values?"
      ]
    },
    {
      "cell_type": "code",
      "execution_count": null,
      "metadata": {
        "deletable": false,
        "editable": false,
        "id": "w-TLUjEq3Zsw",
        "nbgrader": {
          "cell_type": "code",
          "checksum": "8a9111ea908e6e03a0cd90f32bff07bb",
          "grade": true,
          "grade_id": "cell-cfa3cdfb18451c92",
          "locked": true,
          "points": 2,
          "schema_version": 3,
          "solution": false,
          "task": false
        }
      },
      "outputs": [],
      "source": [
        "target_predicted = model.predict(data)\n",
        "target_predicted[:10] == target[:10]\n",
        "assert sum(target_predicted[:10] == target[:10]) >= 9"
      ]
    },
    {
      "cell_type": "markdown",
      "metadata": {
        "id": "8WEkZhFH3b1A"
      },
      "source": [
        "Compute the accuracy on the training data."
      ]
    },
    {
      "cell_type": "code",
      "execution_count": null,
      "metadata": {
        "deletable": false,
        "id": "nWgExrqi3di2",
        "nbgrader": {
          "cell_type": "code",
          "checksum": "92c94b78e311b43950f2ba36c7c5bb20",
          "grade": false,
          "grade_id": "cell-1e609b05445926fc",
          "locked": false,
          "schema_version": 3,
          "solution": true,
          "task": false
        }
      },
      "outputs": [],
      "source": [
        "# YOUR CODE HERE\n",
        "raise NotImplementedError()\n",
        "model_name = model.__class__.__name__"
      ]
    },
    {
      "cell_type": "code",
      "execution_count": null,
      "metadata": {
        "deletable": false,
        "editable": false,
        "nbgrader": {
          "cell_type": "code",
          "checksum": "8d07a3a39e16cb39cbaed170f4ad0661",
          "grade": true,
          "grade_id": "cell-8cbf9787c5b2376b",
          "locked": true,
          "points": 2,
          "schema_version": 3,
          "solution": false,
          "task": false
        },
        "id": "Y0DyeJ1td6va"
      },
      "outputs": [],
      "source": [
        "print(f\"The test accuracy using a {model_name} is \"\n",
        "      f\"{accuracy:.3f}\")"
      ]
    },
    {
      "cell_type": "markdown",
      "metadata": {
        "id": "e-c9eMo_3gvA"
      },
      "source": [
        "Now load the test data from `\"./datasets/adult-census-numeric-test.csv\"` and\n",
        "compute the accuracy on the test data."
      ]
    },
    {
      "cell_type": "code",
      "execution_count": null,
      "metadata": {
        "deletable": false,
        "id": "n9pE0t1C3mW5",
        "nbgrader": {
          "cell_type": "code",
          "checksum": "f1713e4140f911a4dd999ae9cf0ba923",
          "grade": false,
          "grade_id": "cell-9f0449d085912cbf",
          "locked": false,
          "schema_version": 3,
          "solution": true,
          "task": false
        }
      },
      "outputs": [],
      "source": [
        "# YOUR CODE HERE\n",
        "raise NotImplementedError()\n",
        "model_name = model.__class__.__name__"
      ]
    },
    {
      "cell_type": "code",
      "execution_count": null,
      "metadata": {
        "deletable": false,
        "editable": false,
        "nbgrader": {
          "cell_type": "code",
          "checksum": "b11ec821ed524269c976a75b6ef1aa75",
          "grade": true,
          "grade_id": "cell-7eea2196426cbbcc",
          "locked": true,
          "points": 2,
          "schema_version": 3,
          "solution": false,
          "task": false
        },
        "id": "DtSQdPiOd6va"
      },
      "outputs": [],
      "source": [
        "print(f\"The test accuracy using a {model_name} is \"\n",
        "      f\"{accuracy:.3f}\")"
      ]
    },
    {
      "cell_type": "markdown",
      "metadata": {
        "id": "nMtP5KFGRSR8"
      },
      "source": [
        "## Part 2: Linear Models\n"
      ]
    },
    {
      "cell_type": "markdown",
      "metadata": {
        "id": "KoLhBTfYqZLe"
      },
      "source": [
        "See the following video that gives a comprehensive overview on linear models. This video is part of the MOOC [Machine learning in Python with Scikit-Learn](https://www.fun-mooc.fr/en/courses/machine-learning-python-scikit-learn/). If you want to go deeper on classic ML and Scikit-Learn it is a good idea to check out this course."
      ]
    },
    {
      "cell_type": "code",
      "execution_count": null,
      "metadata": {
        "cellView": "form",
        "id": "44YleeVIK646"
      },
      "outputs": [],
      "source": [
        "#@title Video: Intutition on Linear Models\n",
        "from IPython.display import YouTubeVideo\n",
        "\n",
        "YouTubeVideo('ksEGivkPP7I', width=800, height=500)"
      ]
    },
    {
      "cell_type": "markdown",
      "metadata": {
        "id": "BqLQdTDNbn_B"
      },
      "source": [
        "### 2.1 Linear Regression with Scikit-learn"
      ]
    },
    {
      "cell_type": "markdown",
      "metadata": {
        "id": "0ZIaieExb9qz"
      },
      "source": [
        "In a previous lesson, we presented the parametrization of a linear model.\n",
        "During the exercise, you saw that varying parameters will give different models\n",
        "that will fit better or worse the data. To evaluate quantitatively this\n",
        "goodness of fit, it is implemented a so-called metric.\n",
        "\n",
        "When doing machine learning, you are interested in selecting the model which\n",
        "will minimize the error on the data available the most.\n",
        "\n",
        "Hopefully, this problem of finding the best parameters values (i.e. that\n",
        "result in the lowest error) can be solved without the need to check every\n",
        "potential parameter combination. Indeed, this problem has a closed-form\n",
        "solution: the best parameter values can be found by solving an equation. This\n",
        "avoids the need for brute-force search. This strategy is implemented in\n",
        "scikit-learn."
      ]
    },
    {
      "cell_type": "code",
      "execution_count": null,
      "metadata": {
        "id": "fM4GS2WarJBk"
      },
      "outputs": [],
      "source": [
        "import pandas as pd\n",
        "\n",
        "penguins = pd.read_csv(\"./penguins_regression.csv\")\n",
        "feature_name = \"Flipper Length (mm)\"\n",
        "target_name = \"Body Mass (g)\"\n",
        "data, target = penguins[[feature_name]], penguins[target_name]"
      ]
    },
    {
      "cell_type": "markdown",
      "metadata": {
        "id": "9nd74Wx0e0Lp"
      },
      "source": [
        "<div class=\"admonition note alert alert-info\">\n",
        "<p class=\"first admonition-title\" style=\"font-weight: bold;\">Note</p>\n",
        "<p class=\"last\">If you want a deeper overview regarding this dataset, you can refer to the\n",
        "Appendix - Datasets description section at the end of this MOOC.</p>\n",
        "</div>"
      ]
    },
    {
      "cell_type": "code",
      "execution_count": null,
      "metadata": {
        "id": "u_-eL7Yfe1sJ"
      },
      "outputs": [],
      "source": [
        "from sklearn.linear_model import LinearRegression\n",
        "\n",
        "linear_regression = LinearRegression()\n",
        "linear_regression.fit(data, target)"
      ]
    },
    {
      "cell_type": "markdown",
      "metadata": {
        "id": "j43LqtOWe4hh"
      },
      "source": [
        "The instance `linear_regression` will store the parameter values in the\n",
        "attributes `coef_` and `intercept_`. We can check what the optimal model\n",
        "found is:"
      ]
    },
    {
      "cell_type": "code",
      "execution_count": null,
      "metadata": {
        "id": "lmNpBuUVe6aZ"
      },
      "outputs": [],
      "source": [
        "weight_flipper_length = linear_regression.coef_[0]\n",
        "weight_flipper_length"
      ]
    },
    {
      "cell_type": "code",
      "execution_count": null,
      "metadata": {
        "id": "efi-TB91e8lT"
      },
      "outputs": [],
      "source": [
        "intercept_body_mass = linear_regression.intercept_\n",
        "intercept_body_mass"
      ]
    },
    {
      "cell_type": "markdown",
      "metadata": {
        "id": "WAHRzHdXfACK"
      },
      "source": [
        "We will use the weight and intercept to plot the model found using the\n",
        "scikit-learn."
      ]
    },
    {
      "cell_type": "code",
      "execution_count": null,
      "metadata": {
        "id": "PTZW1ouSfBq6"
      },
      "outputs": [],
      "source": [
        "import numpy as np\n",
        "\n",
        "flipper_length_range = np.linspace(data.min(), data.max(), num=300)\n",
        "predicted_body_mass = (\n",
        "    weight_flipper_length * flipper_length_range + intercept_body_mass)"
      ]
    },
    {
      "cell_type": "code",
      "execution_count": null,
      "metadata": {
        "id": "zvS1Et6hfDnr"
      },
      "outputs": [],
      "source": [
        "import matplotlib.pyplot as plt\n",
        "import seaborn as sns\n",
        "\n",
        "sns.scatterplot(x=data[feature_name], y=target, color=\"black\", alpha=0.5)\n",
        "plt.plot(flipper_length_range, predicted_body_mass)\n",
        "_ = plt.title(\"Model using LinearRegression from scikit-learn\")"
      ]
    },
    {
      "cell_type": "markdown",
      "metadata": {
        "id": "NEe3wasbfGYD"
      },
      "source": [
        "In the solution of the previous exercise, we implemented a function to\n",
        "compute the goodness of fit of a model. Indeed, we mentioned two metrics: (i)\n",
        "the mean squared error and (ii) the mean absolute error. These metrics are\n",
        "implemented in scikit-learn and we do not need to use our own implementation.\n",
        "\n",
        "We can first compute the mean squared error."
      ]
    },
    {
      "cell_type": "code",
      "execution_count": null,
      "metadata": {
        "id": "7C8zl4ohfH-B"
      },
      "outputs": [],
      "source": [
        "from sklearn.metrics import mean_squared_error\n",
        "\n",
        "inferred_body_mass = linear_regression.predict(data)\n",
        "model_error = mean_squared_error(target, inferred_body_mass)\n",
        "print(f\"The mean squared error of the optimal model is {model_error:.2f}\")"
      ]
    },
    {
      "cell_type": "markdown",
      "metadata": {
        "id": "gkM0nVz6fMUb"
      },
      "source": [
        "A linear regression model minimizes the mean squared error on the training\n",
        "set. This means that the parameters obtained after the fit (i.e. `coef_` and\n",
        "`intercept_`) are the optimal parameters that minimizes the mean squared\n",
        "error. In other words, any other choice of parameters will yield a model with\n",
        "a higher mean squared error on the training set.\n",
        "\n",
        "However, the mean squared error is difficult to interpret. The mean absolute\n",
        "error is more intuitive since it provides an error in the same unit as the\n",
        "one of the target."
      ]
    },
    {
      "cell_type": "code",
      "execution_count": null,
      "metadata": {
        "id": "KqbeumhufLZC"
      },
      "outputs": [],
      "source": [
        "from sklearn.metrics import mean_absolute_error\n",
        "\n",
        "model_error = mean_absolute_error(target, inferred_body_mass)\n",
        "print(f\"The mean absolute error of the optimal model is {model_error:.2f} g\")"
      ]
    },
    {
      "cell_type": "markdown",
      "metadata": {
        "id": "qYG2QaeufQw7"
      },
      "source": [
        "A mean absolute error of 313 means that in average, our model make an error\n",
        "of +/- 313 grams when predicting the body mass of a penguin given its flipper\n",
        "length."
      ]
    },
    {
      "cell_type": "markdown",
      "metadata": {
        "id": "kUxOXszKlHJM"
      },
      "source": [
        "### 2.2 Linear models for classification"
      ]
    },
    {
      "cell_type": "markdown",
      "metadata": {
        "id": "raXiGz3xlN79"
      },
      "source": [
        "In regression, we saw that the target to be predicted was a continuous\n",
        "variable. In classification, this target will be discrete (e.g. categorical).\n",
        "\n",
        "We will go back to our penguin dataset. However, this time we will try to\n",
        "predict the penguin species using the culmen information. We will also\n",
        "simplify our classification problem by selecting only 2 of the penguin\n",
        "species to solve a binary classification problem."
      ]
    },
    {
      "cell_type": "code",
      "execution_count": null,
      "metadata": {
        "id": "hl4r_m72mOke"
      },
      "outputs": [],
      "source": [
        "import pandas as pd\n",
        "\n",
        "penguins = pd.read_csv(\"./penguins_classification.csv\")\n",
        "\n",
        "# only keep the Adelie and Chinstrap classes\n",
        "penguins = penguins.set_index(\"Species\").loc[\n",
        "    [\"Adelie\", \"Chinstrap\"]].reset_index()\n",
        "culmen_columns = [\"Culmen Length (mm)\", \"Culmen Depth (mm)\"]\n",
        "target_column = \"Species\""
      ]
    },
    {
      "cell_type": "markdown",
      "metadata": {
        "id": "5SESaHx5mce9"
      },
      "source": [
        "We can quickly start by visualizing the feature distribution by class:"
      ]
    },
    {
      "cell_type": "code",
      "execution_count": null,
      "metadata": {
        "id": "VuIctQ_DmZ4u"
      },
      "outputs": [],
      "source": [
        "import matplotlib.pyplot as plt\n",
        "\n",
        "for feature_name in culmen_columns:\n",
        "    plt.figure()\n",
        "    # plot the histogram for each specie\n",
        "    penguins.groupby(\"Species\")[feature_name].plot.hist(alpha=0.5, legend=True)\n",
        "    plt.xlabel(feature_name)"
      ]
    },
    {
      "cell_type": "markdown",
      "metadata": {
        "id": "tC5CvnTLmizd"
      },
      "source": [
        "We can observe that we have quite a simple problem. When the culmen\n",
        "length increases, the probability that the penguin is a Chinstrap is closer\n",
        "to 1. However, the culmen depth is not helpful for predicting the penguin\n",
        "species.\n",
        "\n",
        "For model fitting, we will separate the target from the data and\n",
        "we will create a training and a testing set."
      ]
    },
    {
      "cell_type": "code",
      "execution_count": null,
      "metadata": {
        "id": "Z0aNjndZmkWl"
      },
      "outputs": [],
      "source": [
        "from sklearn.model_selection import train_test_split\n",
        "\n",
        "penguins_train, penguins_test = train_test_split(penguins, random_state=0)\n",
        "\n",
        "data_train = penguins_train[culmen_columns]\n",
        "data_test = penguins_test[culmen_columns]\n",
        "\n",
        "target_train = penguins_train[target_column]\n",
        "target_test = penguins_test[target_column]"
      ]
    },
    {
      "cell_type": "markdown",
      "metadata": {
        "id": "WzCR17TYmmU8"
      },
      "source": [
        "\n",
        "The linear regression that we previously saw will predict a continuous\n",
        "output. When the target is a binary outcome, one can use the logistic\n",
        "function to model the probability. This model is known as logistic\n",
        "regression.\n",
        "\n",
        "Scikit-learn provides the class `LogisticRegression` which implements this\n",
        "algorithm."
      ]
    },
    {
      "cell_type": "code",
      "execution_count": null,
      "metadata": {
        "id": "lVQcWvXImoLo"
      },
      "outputs": [],
      "source": [
        "import sklearn\n",
        "sklearn.set_config(display=\"diagram\")"
      ]
    },
    {
      "cell_type": "code",
      "execution_count": null,
      "metadata": {
        "id": "WiXRs_z7mqCl"
      },
      "outputs": [],
      "source": [
        "from sklearn.pipeline import make_pipeline\n",
        "from sklearn.preprocessing import StandardScaler\n",
        "from sklearn.linear_model import LogisticRegression\n",
        "\n",
        "logistic_regression = make_pipeline(\n",
        "    StandardScaler(), LogisticRegression(penalty=\"none\")\n",
        ")\n",
        "logistic_regression.fit(data_train, target_train)\n",
        "accuracy = logistic_regression.score(data_test, target_test)\n",
        "print(f\"Accuracy on test set: {accuracy:.3f}\")"
      ]
    },
    {
      "cell_type": "markdown",
      "metadata": {
        "id": "fNhFk022myvm"
      },
      "source": [
        "\n",
        "Since we are dealing with a classification problem containing only 2\n",
        "features, it is then possible to observe the decision function boundary.\n",
        "The boundary is the rule used by our predictive model to affect a class label\n",
        "given the feature values of the sample.\n",
        "\n",
        "<div class=\"admonition note alert alert-info\">\n",
        "<p class=\"first admonition-title\" style=\"font-weight: bold;\">Note</p>\n",
        "<p class=\"last\">Here, we will use the class <tt class=\"docutils literal\">DecisionBoundaryDisplay</tt>. We provide this class\n",
        "to allow making plots of the decision function boundary in a 2 dimensional\n",
        "space. The implementation can be found <a class=\"reference external\" href=\"https://github.com/INRIA/scikit-learn-mooc/blob/main/python_scripts/helpers/plotting.py\">here</a>.\n",
        "This class is intended to be part of the <tt class=\"docutils literal\"><span class=\"pre\">scikit-learn</span></tt> package in the future\n",
        "as it is proposed in the following <a class=\"reference external\" href=\"https://github.com/scikit-learn/scikit-learn/pull/16061\">Pull-Request</a>.</p>\n",
        "</div>"
      ]
    },
    {
      "cell_type": "code",
      "execution_count": null,
      "metadata": {
        "id": "JMgYXdGmm2b9"
      },
      "outputs": [],
      "source": [
        "import seaborn as sns\n",
        "from helpers.plotting import DecisionBoundaryDisplay\n",
        "\n",
        "DecisionBoundaryDisplay.from_estimator(\n",
        "    logistic_regression, data_test, response_method=\"predict\", cmap=\"RdBu_r\", alpha=0.5\n",
        ")\n",
        "sns.scatterplot(\n",
        "    data=penguins_test, x=culmen_columns[0], y=culmen_columns[1],\n",
        "    hue=target_column, palette=[\"tab:red\", \"tab:blue\"])\n",
        "_ = plt.title(\"Decision boundary of the trained\\n LogisticRegression\")"
      ]
    },
    {
      "cell_type": "markdown",
      "metadata": {
        "id": "CBX9xBlCngPF"
      },
      "source": [
        "Thus, we see that our decision function is represented by a line separating\n",
        "the 2 classes. We should also note that we did not impose any regularization\n",
        "by setting the parameter `penalty` to `'none'`.\n",
        "\n",
        "Since the line is oblique, it means that we used a combination of both\n",
        "features:"
      ]
    },
    {
      "cell_type": "code",
      "execution_count": null,
      "metadata": {
        "id": "gpR3JNPknhwV"
      },
      "outputs": [],
      "source": [
        "coefs = logistic_regression[-1].coef_[0]  # the coefficients is a 2d array\n",
        "weights = pd.Series(coefs, index=culmen_columns)"
      ]
    },
    {
      "cell_type": "code",
      "execution_count": null,
      "metadata": {
        "id": "Iu5B2ekSnjZ1"
      },
      "outputs": [],
      "source": [
        "weights.plot.barh()\n",
        "_ = plt.title(\"Weights of the logistic regression\")"
      ]
    },
    {
      "cell_type": "markdown",
      "metadata": {
        "id": "m0Xwgw1OnlQ3"
      },
      "source": [
        "Indeed, both coefficients are non-null."
      ]
    },
    {
      "cell_type": "markdown",
      "metadata": {
        "id": "o2R5PPp2fiZM"
      },
      "source": [
        "### 2.3 Regularization in Linear Models"
      ]
    },
    {
      "cell_type": "code",
      "execution_count": null,
      "metadata": {
        "cellView": "form",
        "id": "AJ0JhUx-gs0W"
      },
      "outputs": [],
      "source": [
        "#@title Video: Intutition on Regularized Linear Models\n",
        "from IPython.display import YouTubeVideo\n",
        "\n",
        "YouTubeVideo('K64zB_5skls', width=800, height=500)"
      ]
    },
    {
      "cell_type": "markdown",
      "metadata": {
        "id": "9VMDZN7ZhOSC"
      },
      "source": [
        "#### Regularization of linear regression model\n"
      ]
    },
    {
      "cell_type": "markdown",
      "metadata": {
        "id": "o1bavL_1hS2D"
      },
      "source": [
        "In this notebook, we will see the limitations of linear regression models and\n",
        "the advantage of using regularized models instead.\n",
        "\n",
        "Besides, we will also present the preprocessing required when dealing\n",
        "with regularized models, furthermore when the regularization parameter\n",
        "needs to be tuned.\n",
        "\n",
        "We will start by highlighting the over-fitting issue that can arise with\n",
        "a simple linear regression model."
      ]
    },
    {
      "cell_type": "markdown",
      "metadata": {
        "id": "3WKQOHumhazc"
      },
      "source": [
        "#### Effect of regularization\n",
        "\n",
        "We will first load the California housing dataset."
      ]
    },
    {
      "cell_type": "code",
      "execution_count": null,
      "metadata": {
        "id": "IqiBpviXhSU9"
      },
      "outputs": [],
      "source": [
        "from sklearn.datasets import fetch_california_housing\n",
        "\n",
        "data, target = fetch_california_housing(as_frame=True, return_X_y=True)\n",
        "target *= 100  # rescale the target in k$\n",
        "data.head()"
      ]
    },
    {
      "cell_type": "markdown",
      "metadata": {
        "id": "NukIck6xhpZi"
      },
      "source": [
        "Linear models could be used\n",
        "even in settings where `data` and `target` are not linearly linked.\n",
        "\n",
        "We showed that one can use the `PolynomialFeatures` transformer to create\n",
        "additional features encoding non-linear interactions between features.\n",
        "\n",
        "Here, we will use this transformer to augment the feature space.\n",
        "Subsequently, we will train a linear regression model. We will use the\n",
        "out-of-sample test set to evaluate the generalization capabilities of our\n",
        "model."
      ]
    },
    {
      "cell_type": "code",
      "execution_count": null,
      "metadata": {
        "id": "t0qXg4fShQsu"
      },
      "outputs": [],
      "source": [
        "from sklearn.model_selection import cross_validate\n",
        "from sklearn.pipeline import make_pipeline\n",
        "from sklearn.preprocessing import PolynomialFeatures\n",
        "from sklearn.linear_model import LinearRegression\n",
        "\n",
        "linear_regression = make_pipeline(PolynomialFeatures(degree=2),\n",
        "                                  LinearRegression())\n",
        "cv_results = cross_validate(linear_regression, data, target,\n",
        "                            cv=10, scoring=\"neg_mean_squared_error\",\n",
        "                            return_train_score=True,\n",
        "                            return_estimator=True)"
      ]
    },
    {
      "cell_type": "markdown",
      "metadata": {
        "id": "xPIz330whtjF"
      },
      "source": [
        "We can compare the mean squared error on the training and testing set to\n",
        "assess the generalization performance of our model."
      ]
    },
    {
      "cell_type": "code",
      "execution_count": null,
      "metadata": {
        "id": "7LngnxqQhvSF"
      },
      "outputs": [],
      "source": [
        "train_error = -cv_results[\"train_score\"]\n",
        "print(f\"Mean squared error of linear regression model on the train set:\\n\"\n",
        "      f\"{train_error.mean():.3f} +/- {train_error.std():.3f}\")"
      ]
    },
    {
      "cell_type": "code",
      "execution_count": null,
      "metadata": {
        "id": "d4pbRCmvhwlz"
      },
      "outputs": [],
      "source": [
        "test_error = -cv_results[\"test_score\"]\n",
        "print(f\"Mean squared error of linear regression model on the test set:\\n\"\n",
        "      f\"{test_error.mean():.3f} +/- {test_error.std():.3f}\")"
      ]
    },
    {
      "cell_type": "markdown",
      "metadata": {
        "id": "qDYRCSK8h1Yb"
      },
      "source": [
        "The score on the training set is much better. This generalization performance\n",
        "gap between the training and testing score is an indication that our model\n",
        "overfitted our training set.\n",
        "\n",
        "Indeed, this is one of the danger when augmenting the number of features\n",
        "with a `PolynomialFeatures` transformer. Our model will focus on some\n",
        "specific features. We can check the weights of the model to have a\n",
        "confirmation. Let's create a dataframe: the columns will contain the name\n",
        "of the feature while the line the coefficients values stored by each model\n",
        "during the cross-validation.\n",
        "\n",
        "Since we used a `PolynomialFeatures` to augment the data, we will create\n",
        "feature names representative of the feature combination. Scikit-learn\n",
        "provides a `get_feature_names_out` method for this purpose. First, let's get\n",
        "the first fitted model from the cross-validation."
      ]
    },
    {
      "cell_type": "code",
      "execution_count": null,
      "metadata": {
        "id": "XkRYiwXPh0xi"
      },
      "outputs": [],
      "source": [
        "model_first_fold = cv_results[\"estimator\"][0]"
      ]
    },
    {
      "cell_type": "markdown",
      "metadata": {
        "id": "1bY5bis7h69L"
      },
      "source": [
        "Now, we can access to the fitted `PolynomialFeatures` to generate the feature\n",
        "names"
      ]
    },
    {
      "cell_type": "code",
      "execution_count": null,
      "metadata": {
        "id": "47wA-RlOh8yK"
      },
      "outputs": [],
      "source": [
        "feature_names = model_first_fold[0].get_feature_names_out(\n",
        "    input_features=data.columns)\n",
        "feature_names"
      ]
    },
    {
      "cell_type": "markdown",
      "metadata": {
        "id": "vSSGR3t-h_w6"
      },
      "source": [
        "Finally, we can create the dataframe containing all the information."
      ]
    },
    {
      "cell_type": "code",
      "execution_count": null,
      "metadata": {
        "id": "etjAE36LiCFS"
      },
      "outputs": [],
      "source": [
        "import pandas as pd\n",
        "\n",
        "coefs = [est[-1].coef_ for est in cv_results[\"estimator\"]]\n",
        "weights_linear_regression = pd.DataFrame(coefs, columns=feature_names)"
      ]
    },
    {
      "cell_type": "markdown",
      "metadata": {
        "id": "0Pt5bAZYiEib"
      },
      "source": [
        "Now, let's use a box plot to see the coefficients variations."
      ]
    },
    {
      "cell_type": "code",
      "execution_count": null,
      "metadata": {
        "id": "MKuS_jqFiD5O"
      },
      "outputs": [],
      "source": [
        "import matplotlib.pyplot as plt\n",
        "\n",
        "color = {\"whiskers\": \"black\", \"medians\": \"black\", \"caps\": \"black\"}\n",
        "weights_linear_regression.plot.box(color=color, vert=False, figsize=(6, 16))\n",
        "_ = plt.title(\"Linear regression coefficients\")"
      ]
    },
    {
      "cell_type": "markdown",
      "metadata": {
        "id": "_Iz39-1xiIrC"
      },
      "source": [
        "We can force the linear regression model to consider all features in a more\n",
        "homogeneous manner. In fact, we could force large positive or negative weight\n",
        "to shrink toward zero. This is known as regularization. We will use a ridge\n",
        "model which enforces such behavior."
      ]
    },
    {
      "cell_type": "code",
      "execution_count": null,
      "metadata": {
        "id": "EcCU17UYiKli"
      },
      "outputs": [],
      "source": [
        "from sklearn.linear_model import Ridge\n",
        "\n",
        "ridge = make_pipeline(PolynomialFeatures(degree=2),\n",
        "                      Ridge(alpha=100))\n",
        "cv_results = cross_validate(ridge, data, target,\n",
        "                            cv=10, scoring=\"neg_mean_squared_error\",\n",
        "                            return_train_score=True,\n",
        "                            return_estimator=True)"
      ]
    },
    {
      "cell_type": "markdown",
      "metadata": {
        "id": "1CrdMPMbiOos"
      },
      "source": [
        "The code cell above will generate a couple of warnings because the features\n",
        "included both extremely large and extremely small values, which are causing\n",
        "numerical problems when training the predictive model.\n",
        "\n",
        "We can explore the train and test scores of this model."
      ]
    },
    {
      "cell_type": "code",
      "execution_count": null,
      "metadata": {
        "id": "_Fcsw8LiiQQo"
      },
      "outputs": [],
      "source": [
        "train_error = -cv_results[\"train_score\"]\n",
        "print(f\"Mean squared error of linear regression model on the train set:\\n\"\n",
        "      f\"{train_error.mean():.3f} +/- {train_error.std():.3f}\")"
      ]
    },
    {
      "cell_type": "code",
      "execution_count": null,
      "metadata": {
        "id": "QuT3r5DKiRr_"
      },
      "outputs": [],
      "source": [
        "test_error = -cv_results[\"test_score\"]\n",
        "print(f\"Mean squared error of linear regression model on the test set:\\n\"\n",
        "      f\"{test_error.mean():.3f} +/- {test_error.std():.3f}\")"
      ]
    },
    {
      "cell_type": "markdown",
      "metadata": {
        "id": "sGANM4n8iVWd"
      },
      "source": [
        "We see that the training and testing scores are much closer, indicating that\n",
        "our model is less overfitting. We can compare the values of the weights of\n",
        "ridge with the un-regularized linear regression."
      ]
    },
    {
      "cell_type": "code",
      "execution_count": null,
      "metadata": {
        "id": "CBnH4kMViW-T"
      },
      "outputs": [],
      "source": [
        "coefs = [est[-1].coef_ for est in cv_results[\"estimator\"]]\n",
        "weights_ridge = pd.DataFrame(coefs, columns=feature_names)"
      ]
    },
    {
      "cell_type": "code",
      "execution_count": null,
      "metadata": {
        "id": "PMNLB5k0iZAa"
      },
      "outputs": [],
      "source": [
        "weights_ridge.plot.box(color=color, vert=False, figsize=(6, 16))\n",
        "_ = plt.title(\"Ridge weights\")"
      ]
    },
    {
      "cell_type": "markdown",
      "metadata": {
        "id": "s2oNAyg5idPE"
      },
      "source": [
        "By comparing the magnitude of the weights on this plot compared to the\n",
        "previous plot, we see that a ridge model will enforce all weights to have a\n",
        "similar magnitude, while the overall magnitude of the weights is shrunk\n",
        "towards zero with respect to the linear regression model.\n",
        "\n",
        "However, in this example, we omitted two important aspects: (i) the need to\n",
        "scale the data and (ii) the need to search for the best regularization\n",
        "parameter."
      ]
    },
    {
      "cell_type": "markdown",
      "metadata": {
        "id": "IOxE4hnwiloL"
      },
      "source": [
        "#### Feature scaling and regularization"
      ]
    },
    {
      "cell_type": "markdown",
      "metadata": {
        "id": "PufU2_Nrin_f"
      },
      "source": [
        "On the one hand, weights define the link between feature values and the\n",
        "predicted target.\n",
        "On the other hand, regularization adds constraints on the weights of the\n",
        "model through the `alpha` parameter. Therefore, the effect that feature\n",
        "rescaling has on the final weights also interacts with regularization.\n",
        "\n",
        "Let's consider the case where features live on the same scale/units: if\n",
        "two features are found to be equally important by the model, they will be\n",
        "affected similarly by regularization strength.\n",
        "\n",
        "Now, let's consider the scenario where features have completely different\n",
        "data scale (for instance age in years and annual revenue in dollars).\n",
        "If two features are as important, our model will boost the weights of\n",
        "features with small scale and reduce the weights of features with\n",
        "high scale.\n",
        "\n",
        "We recall that regularization forces weights to be closer. Therefore, we get\n",
        "an intuition that if we want to use regularization, dealing with rescaled\n",
        "data would make it easier to find an optimal regularization parameter and\n",
        "thus an adequate model.\n",
        "\n",
        "As a side note, some solvers based on gradient computation are expecting such\n",
        "rescaled data. Unscaled data will be detrimental when computing the optimal\n",
        "weights. Therefore, when working with a linear model and numerical data, it\n",
        "is generally good practice to scale the data.\n",
        "\n",
        "Thus, we will add a `StandardScaler` in the machine learning pipeline. This\n",
        "scaler will be placed just before the regressor."
      ]
    },
    {
      "cell_type": "code",
      "execution_count": null,
      "metadata": {
        "id": "Th5UwKb-iwsL"
      },
      "outputs": [],
      "source": [
        "from sklearn.preprocessing import StandardScaler\n",
        "\n",
        "ridge = make_pipeline(PolynomialFeatures(degree=2), StandardScaler(),\n",
        "                      Ridge(alpha=0.5))\n",
        "cv_results = cross_validate(ridge, data, target,\n",
        "                            cv=10, scoring=\"neg_mean_squared_error\",\n",
        "                            return_train_score=True,\n",
        "                            return_estimator=True)"
      ]
    },
    {
      "cell_type": "code",
      "execution_count": null,
      "metadata": {
        "id": "o_JqupzUiyPQ"
      },
      "outputs": [],
      "source": [
        "train_error = -cv_results[\"train_score\"]\n",
        "print(f\"Mean squared error of linear regression model on the train set:\\n\"\n",
        "      f\"{train_error.mean():.3f} +/- {train_error.std():.3f}\")"
      ]
    },
    {
      "cell_type": "code",
      "execution_count": null,
      "metadata": {
        "id": "AN7lSB0Aizmj"
      },
      "outputs": [],
      "source": [
        "test_error = -cv_results[\"test_score\"]\n",
        "print(f\"Mean squared error of linear regression model on the test set:\\n\"\n",
        "      f\"{test_error.mean():.3f} +/- {test_error.std():.3f}\")"
      ]
    },
    {
      "cell_type": "markdown",
      "metadata": {
        "id": "-pJy5eSoi12E"
      },
      "source": [
        "We observe that scaling data has a positive impact on the test score and that\n",
        "the test score is closer to the train score. It means that our model is less\n",
        "overfitted and that we are getting closer to the best generalization sweet\n",
        "spot.\n",
        "\n",
        "Let's have an additional look to the different weights."
      ]
    },
    {
      "cell_type": "code",
      "execution_count": null,
      "metadata": {
        "id": "Bzz41R8ji3wG"
      },
      "outputs": [],
      "source": [
        "coefs = [est[-1].coef_ for est in cv_results[\"estimator\"]]\n",
        "weights_ridge = pd.DataFrame(coefs, columns=feature_names)"
      ]
    },
    {
      "cell_type": "code",
      "execution_count": null,
      "metadata": {
        "id": "p5jRvaiGi4m1"
      },
      "outputs": [],
      "source": [
        "weights_ridge.plot.box(color=color, vert=False, figsize=(6, 16))\n",
        "_ = plt.title(\"Ridge weights with data scaling\")"
      ]
    },
    {
      "cell_type": "markdown",
      "metadata": {
        "id": "hagb9B7yi8D8"
      },
      "source": [
        "Compare to the previous plots, we see that now all weight magnitudes are\n",
        "closer and that all features are more equally contributing.\n",
        "\n",
        "In the previous example, we fixed `alpha=0.5`. We will now check the impact\n",
        "of the value of `alpha` by increasing its value."
      ]
    },
    {
      "cell_type": "code",
      "execution_count": null,
      "metadata": {
        "id": "P2BAn_Jwi-R8"
      },
      "outputs": [],
      "source": [
        "ridge = make_pipeline(PolynomialFeatures(degree=2), StandardScaler(),\n",
        "                      Ridge(alpha=1_000_000))\n",
        "cv_results = cross_validate(ridge, data, target,\n",
        "                            cv=10, scoring=\"neg_mean_squared_error\",\n",
        "                            return_train_score=True,\n",
        "                            return_estimator=True)"
      ]
    },
    {
      "cell_type": "code",
      "execution_count": null,
      "metadata": {
        "id": "3THHnkuHi_z0"
      },
      "outputs": [],
      "source": [
        "coefs = [est[-1].coef_ for est in cv_results[\"estimator\"]]\n",
        "weights_ridge = pd.DataFrame(coefs, columns=feature_names)"
      ]
    },
    {
      "cell_type": "code",
      "execution_count": null,
      "metadata": {
        "id": "WroPOxGAjBed"
      },
      "outputs": [],
      "source": [
        "weights_ridge.plot.box(color=color, vert=False, figsize=(6, 16))\n",
        "_ = plt.title(\"Ridge weights with data scaling and large alpha\")"
      ]
    },
    {
      "cell_type": "markdown",
      "metadata": {
        "id": "4XzvDAe3jH17"
      },
      "source": [
        "Looking specifically to weights values, we observe that increasing the value\n",
        "of `alpha` will decrease the weight values. A negative value of `alpha` would\n",
        "actually enhance large weights and promote overfitting.\n",
        "\n",
        "<div class=\"admonition note alert alert-info\">\n",
        "<p class=\"first admonition-title\" style=\"font-weight: bold;\">Note</p>\n",
        "<p>Here, we only focus on numerical features. For categorical features, it is\n",
        "generally common to omit scaling when features are encoded with a\n",
        "<tt class=\"docutils literal\">OneHotEncoder</tt> since the feature values are already on a similar scale.</p>\n",
        "<p class=\"last\">However, this choice can be questioned since scaling interacts with\n",
        "regularization as well. For instance, scaling categorical features that are\n",
        "imbalanced (e.g. more occurrences of a specific category) would even out\n",
        "the impact of regularization to each category. However, scaling such features\n",
        "in the presence of rare categories could be problematic (i.e. division by a very\n",
        "small standard deviation) and it can therefore introduce numerical issues.</p>\n",
        "</div>\n",
        "\n",
        "In the previous analysis, we did not study if the parameter `alpha` will have\n",
        "an effect on the performance. We chose the parameter beforehand and fix it\n",
        "for the analysis.\n",
        "\n",
        "In the next section, we will check the impact of the regularization\n",
        "parameter `alpha` and how it should be tuned."
      ]
    },
    {
      "cell_type": "markdown",
      "metadata": {
        "id": "Ei6aukGmjObI"
      },
      "source": [
        "#### Fine tuning the regularization parameter"
      ]
    },
    {
      "cell_type": "markdown",
      "metadata": {
        "id": "UXmbPK_zjLox"
      },
      "source": [
        "As mentioned, the regularization parameter needs to be tuned on each dataset.\n",
        "The default parameter will not lead to the optimal model. Therefore, we need\n",
        "to tune the `alpha` parameter.\n",
        "\n",
        "Model hyperparameter tuning should be done with care. Indeed, we want to\n",
        "find an optimal parameter that maximizes some metrics. Thus, it requires both\n",
        "a training set and testing set.\n",
        "\n",
        "However, this testing set should be different from the out-of-sample testing\n",
        "set that we used to evaluate our model: if we use the same one, we are using\n",
        "an `alpha` which was optimized for this testing set and it breaks the\n",
        "out-of-sample rule.\n",
        "\n",
        "Therefore, we should include search of the hyperparameter `alpha` within the\n",
        "cross-validation. As we saw in previous notebooks, we could use a\n",
        "grid-search. However, some predictor in scikit-learn are available with\n",
        "an integrated hyperparameter search, more efficient than using a grid-search.\n",
        "The name of these predictors finishes by `CV`. In the case of `Ridge`,\n",
        "scikit-learn provides a `RidgeCV` regressor.\n",
        "\n",
        "Therefore, we can use this predictor as the last step of the pipeline.\n",
        "Including the pipeline a cross-validation allows to make a nested\n",
        "cross-validation: the inner cross-validation will search for the best\n",
        "alpha, while the outer cross-validation will give an estimate of the\n",
        "testing score."
      ]
    },
    {
      "cell_type": "code",
      "execution_count": null,
      "metadata": {
        "id": "E9vFK-_ljR91"
      },
      "outputs": [],
      "source": [
        "import numpy as np\n",
        "from sklearn.linear_model import RidgeCV\n",
        "\n",
        "alphas = np.logspace(-2, 0, num=20)\n",
        "ridge = make_pipeline(PolynomialFeatures(degree=2), StandardScaler(),\n",
        "                      RidgeCV(alphas=alphas, store_cv_values=True))"
      ]
    },
    {
      "cell_type": "code",
      "execution_count": null,
      "metadata": {
        "id": "dLiLStFTjTiu"
      },
      "outputs": [],
      "source": [
        "from sklearn.model_selection import ShuffleSplit\n",
        "\n",
        "cv = ShuffleSplit(n_splits=5, random_state=1)\n",
        "cv_results = cross_validate(ridge, data, target,\n",
        "                            cv=cv, scoring=\"neg_mean_squared_error\",\n",
        "                            return_train_score=True,\n",
        "                            return_estimator=True, n_jobs=2)"
      ]
    },
    {
      "cell_type": "code",
      "execution_count": null,
      "metadata": {
        "id": "AUSZxgO4jU9H"
      },
      "outputs": [],
      "source": [
        "train_error = -cv_results[\"train_score\"]\n",
        "print(f\"Mean squared error of linear regression model on the train set:\\n\"\n",
        "      f\"{train_error.mean():.3f} +/- {train_error.std():.3f}\")"
      ]
    },
    {
      "cell_type": "code",
      "execution_count": null,
      "metadata": {
        "id": "nHv2nCiEjWw4"
      },
      "outputs": [],
      "source": [
        "test_error = -cv_results[\"test_score\"]\n",
        "print(f\"Mean squared error of linear regression model on the test set:\\n\"\n",
        "      f\"{test_error.mean():.3f} +/- {test_error.std():.3f}\")"
      ]
    },
    {
      "cell_type": "markdown",
      "metadata": {
        "id": "wZZd0JAoji3z"
      },
      "source": [
        "By optimizing `alpha`, we see that the training and testing scores are close.\n",
        "It indicates that our model is not overfitting.\n",
        "\n",
        "When fitting the ridge regressor, we also requested to store the error found\n",
        "during cross-validation (by setting the parameter `store_cv_values=True`).\n",
        "We will plot the mean squared error for the different `alphas` regularization\n",
        "strength that we tried."
      ]
    },
    {
      "cell_type": "code",
      "execution_count": null,
      "metadata": {
        "id": "NfsC9vNxjY3M"
      },
      "outputs": [],
      "source": [
        "mse_alphas = [est[-1].cv_values_.mean(axis=0)\n",
        "              for est in cv_results[\"estimator\"]]\n",
        "cv_alphas = pd.DataFrame(mse_alphas, columns=alphas)\n",
        "cv_alphas"
      ]
    },
    {
      "cell_type": "code",
      "execution_count": null,
      "metadata": {
        "id": "INXhWZPcjmOE"
      },
      "outputs": [],
      "source": [
        "cv_alphas.mean(axis=0).plot(marker=\"+\")\n",
        "plt.ylabel(\"Mean squared error\\n (lower is better)\")\n",
        "plt.xlabel(\"alpha\")\n",
        "_ = plt.title(\"Error obtained by cross-validation\")"
      ]
    },
    {
      "cell_type": "markdown",
      "metadata": {
        "id": "Ps5Dc58qjofk"
      },
      "source": [
        "As we can see, regularization is just like salt in cooking: one must balance\n",
        "its amount to get the best generalization performance. We can check if the best\n",
        "`alpha` found is stable across the cross-validation fold."
      ]
    },
    {
      "cell_type": "code",
      "execution_count": null,
      "metadata": {
        "id": "BK5PhQV3jp8D"
      },
      "outputs": [],
      "source": [
        "best_alphas = [est[-1].alpha_ for est in cv_results[\"estimator\"]]\n",
        "best_alphas"
      ]
    },
    {
      "cell_type": "markdown",
      "metadata": {
        "id": "5_935t1jjsSL"
      },
      "source": [
        "The optimal regularization strength is not necessarily the same on all\n",
        "cross-validation iterations. But since we expect each cross-validation\n",
        "resampling to stem from the same data distribution, it is common practice\n",
        "to use the average value of the best `alpha` found on different\n",
        "cross-validation folds as our final estimate for the tuned `alpha`."
      ]
    },
    {
      "cell_type": "code",
      "execution_count": null,
      "metadata": {
        "id": "F9BErVcrjtxq"
      },
      "outputs": [],
      "source": [
        "print(f\"The mean optimal alpha leading to the best generalization performance is:\\n\"\n",
        "      f\"{np.mean(best_alphas):.2f} +/- {np.std(best_alphas):.2f}\")"
      ]
    },
    {
      "cell_type": "markdown",
      "metadata": {
        "id": "ZfaCFmZ7subv"
      },
      "source": [
        "### 2.4 Practice on Linear Models"
      ]
    },
    {
      "cell_type": "markdown",
      "metadata": {
        "id": "dzvub_3f4BwW"
      },
      "source": [
        "Open the dataset `ames_housing_no_missing.csv` with the following command:"
      ]
    },
    {
      "cell_type": "code",
      "execution_count": null,
      "metadata": {
        "id": "B9roolnMsssg"
      },
      "outputs": [],
      "source": [
        "import pandas as pd\n",
        "\n",
        "ames_housing = pd.read_csv(\"./ames_housing_no_missing.csv\")\n",
        "target_name = \"SalePrice\"\n",
        "data = ames_housing.drop(columns=target_name)\n",
        "target = ames_housing[target_name]"
      ]
    },
    {
      "cell_type": "markdown",
      "metadata": {
        "id": "vnjNK_A24Xxb"
      },
      "source": [
        "`ames_housing` is a pandas dataframe. The column \"SalePrice\" contains the target variable.\n",
        "\n",
        "To simplify this exercise, we will only used the numerical features defined below:"
      ]
    },
    {
      "cell_type": "code",
      "execution_count": null,
      "metadata": {
        "id": "Hr04FjMY4fIl"
      },
      "outputs": [],
      "source": [
        "numerical_features = [\n",
        "    \"LotFrontage\", \"LotArea\", \"MasVnrArea\", \"BsmtFinSF1\", \"BsmtFinSF2\",\n",
        "    \"BsmtUnfSF\", \"TotalBsmtSF\", \"1stFlrSF\", \"2ndFlrSF\", \"LowQualFinSF\",\n",
        "    \"GrLivArea\", \"BedroomAbvGr\", \"KitchenAbvGr\", \"TotRmsAbvGrd\", \"Fireplaces\",\n",
        "    \"GarageCars\", \"GarageArea\", \"WoodDeckSF\", \"OpenPorchSF\", \"EnclosedPorch\",\n",
        "    \"3SsnPorch\", \"ScreenPorch\", \"PoolArea\", \"MiscVal\",\n",
        "]"
      ]
    },
    {
      "cell_type": "code",
      "execution_count": null,
      "metadata": {
        "id": "S_qdr24o4gvD"
      },
      "outputs": [],
      "source": [
        "data_numerical = data[numerical_features]"
      ]
    },
    {
      "cell_type": "markdown",
      "metadata": {
        "id": "uyvIpWsU4oyz"
      },
      "source": [
        "Start by fitting a ridge regressor (`sklearn.linear_model.Ridge`) fixing the penalty alpha to 0 to not regularize the model. Use a 10-fold cross-validation and pass the argument `return_estimator=True` in `sklearn.model_selection.cross_validate` to access all fitted estimators fitted on each fold. As discussed in the previous notebooks, use an instance of `sklearn.preprocessing.StandardScaler` to scale the data before passing it to the regressor."
      ]
    },
    {
      "cell_type": "code",
      "execution_count": null,
      "metadata": {
        "deletable": false,
        "id": "Y43n4KDp4zkM",
        "nbgrader": {
          "cell_type": "code",
          "checksum": "3235d6abf608db9bee0a5e32c0748210",
          "grade": false,
          "grade_id": "cell-6156c5bf59183c18",
          "locked": false,
          "schema_version": 3,
          "solution": true,
          "task": false
        }
      },
      "outputs": [],
      "source": [
        "from sklearn.linear_model import Ridge\n",
        "from sklearn.model_selection import cross_validate\n",
        "from sklearn.preprocessing import StandardScaler\n",
        "from sklearn.pipeline import make_pipeline\n",
        "# YOUR CODE HERE\n",
        "raise NotImplementedError()"
      ]
    },
    {
      "cell_type": "code",
      "execution_count": null,
      "metadata": {
        "deletable": false,
        "editable": false,
        "nbgrader": {
          "cell_type": "code",
          "checksum": "cb8816aa8c1434e2609d3c16cd2c548c",
          "grade": true,
          "grade_id": "cell-bdedc1b3842fa3c7",
          "locked": true,
          "points": 2,
          "schema_version": 3,
          "solution": false,
          "task": false
        },
        "id": "jCxk_xCed6vp"
      },
      "outputs": [],
      "source": [
        "assert ridge[0].__class__.__name__ == 'StandardScaler'\n",
        "assert ridge[1].__class__.__name__ == 'Ridge'\n",
        "assert ridge[1].alpha == 1"
      ]
    },
    {
      "cell_type": "code",
      "execution_count": null,
      "metadata": {
        "deletable": false,
        "editable": false,
        "id": "eJoiyDmj8EAK",
        "nbgrader": {
          "cell_type": "code",
          "checksum": "b0190329a5cb3badb6bde7cdac3b58a2",
          "grade": false,
          "grade_id": "cell-c86222fa25e13536",
          "locked": true,
          "schema_version": 3,
          "solution": false,
          "task": false
        }
      },
      "outputs": [],
      "source": [
        "coefs = [est[-1].coef_ for est in cv_results[\"estimator\"]]\n",
        "weights_ridge = pd.DataFrame(coefs, columns=numerical_features)"
      ]
    },
    {
      "cell_type": "code",
      "execution_count": null,
      "metadata": {
        "deletable": false,
        "editable": false,
        "id": "bsiZTdZb8EAM",
        "nbgrader": {
          "cell_type": "code",
          "checksum": "3564c5d0d383478865c1962b962283ed",
          "grade": false,
          "grade_id": "cell-085f22ce83a8a8f4",
          "locked": true,
          "schema_version": 3,
          "solution": false,
          "task": false
        }
      },
      "outputs": [],
      "source": [
        "weights_ridge.plot.box(color=color, vert=False, figsize=(6, 16))\n",
        "_ = plt.title(\"Ridge weights with data scaling\")"
      ]
    },
    {
      "cell_type": "code",
      "execution_count": null,
      "metadata": {
        "id": "eYxc_Zk--TV8"
      },
      "outputs": [],
      "source": [
        "variability_with_garageArea = weights_ridge[\"GarageCars\"].std()\n",
        "variability_with_garageArea"
      ]
    },
    {
      "cell_type": "markdown",
      "metadata": {
        "id": "AcpcJ1DY9HCM"
      },
      "source": [
        "Remove the feature `\"GarageArea\"` from the dataset and repeat the previous experiment.\n",
        "\n",
        "What is the impact on the weights of removing \"GarageArea\" from the dataset?"
      ]
    },
    {
      "cell_type": "code",
      "execution_count": null,
      "metadata": {
        "deletable": false,
        "id": "tntxd_QN9QkY",
        "nbgrader": {
          "cell_type": "code",
          "checksum": "8f6454addaef2ca0e559b27184bf44a2",
          "grade": false,
          "grade_id": "cell-dd5cf6643463076c",
          "locked": false,
          "schema_version": 3,
          "solution": true,
          "task": false
        }
      },
      "outputs": [],
      "source": [
        "# YOUR CODE HERE\n",
        "raise NotImplementedError()"
      ]
    },
    {
      "cell_type": "code",
      "execution_count": null,
      "metadata": {
        "id": "uHlRBdtH9Y78"
      },
      "outputs": [],
      "source": [
        "coefs = [est[-1].coef_ for est in cv_results[\"estimator\"]]\n",
        "weights_ridge = pd.DataFrame(coefs, columns=numerical_features)"
      ]
    },
    {
      "cell_type": "code",
      "execution_count": null,
      "metadata": {
        "id": "vWEwJgtr9Y79"
      },
      "outputs": [],
      "source": [
        "weights_ridge.plot.box(color=color, vert=False, figsize=(6, 16))\n",
        "_ = plt.title(\"Ridge weights with data scaling\")"
      ]
    },
    {
      "cell_type": "code",
      "execution_count": null,
      "metadata": {
        "deletable": false,
        "editable": false,
        "id": "0hRSLuSi-EG3",
        "nbgrader": {
          "cell_type": "code",
          "checksum": "c89a9a39f940bf0227c15eec1e223574",
          "grade": true,
          "grade_id": "cell-a799f9546769dc11",
          "locked": true,
          "points": 2,
          "schema_version": 3,
          "solution": false,
          "task": false
        }
      },
      "outputs": [],
      "source": [
        "assert weights_ridge[\"GarageCars\"].std() < variability_with_garageArea\n",
        "variability_no_garageArea = weights_ridge[\"GarageCars\"].std()\n",
        "print(variability_no_garageArea)"
      ]
    },
    {
      "cell_type": "markdown",
      "metadata": {
        "id": "Y0p4TB3D-52d"
      },
      "source": [
        "Now, we will search for the regularization strength that maximizes the generalization performance of our predictive model. Fit a `sklearn.linear_model.RidgeCV` instead of a Ridge regressor on the numerical data without the `\"GarageArea\"` column. Pass `alphas=np.logspace(-3, 3, num=101)` to explore the effect of changing the regularization strength.\n",
        "\n",
        "What is the effect of tuning alpha on the variability of the weights of the feature \"GarageCars\"? Remember that the variability can be assessed by computing the standard deviation."
      ]
    },
    {
      "cell_type": "code",
      "execution_count": null,
      "metadata": {
        "deletable": false,
        "id": "F_-C_eJo_Ope",
        "nbgrader": {
          "cell_type": "code",
          "checksum": "b960ad1182b4244e67d0f21a0ba04e27",
          "grade": false,
          "grade_id": "cell-e304ec93ddd3c918",
          "locked": false,
          "schema_version": 3,
          "solution": true,
          "task": false
        }
      },
      "outputs": [],
      "source": [
        "from sklearn.linear_model import RidgeCV\n",
        "# YOUR CODE HERE\n",
        "raise NotImplementedError()"
      ]
    },
    {
      "cell_type": "code",
      "execution_count": null,
      "metadata": {
        "id": "rAmZxZrd_Opf"
      },
      "outputs": [],
      "source": [
        "coefs = [est[-1].coef_ for est in cv_results[\"estimator\"]]\n",
        "weights_ridge = pd.DataFrame(coefs, columns=numerical_features)"
      ]
    },
    {
      "cell_type": "code",
      "execution_count": null,
      "metadata": {
        "id": "nvg0cig2_Opg"
      },
      "outputs": [],
      "source": [
        "weights_ridge.plot.box(color=color, vert=False, figsize=(6, 16))\n",
        "_ = plt.title(\"Ridge weights with data scaling\")"
      ]
    },
    {
      "cell_type": "code",
      "execution_count": null,
      "metadata": {
        "deletable": false,
        "editable": false,
        "id": "G3c5c6JA_Oph",
        "nbgrader": {
          "cell_type": "code",
          "checksum": "71384b99209c033e4191236db1e3cd79",
          "grade": true,
          "grade_id": "cell-36ad91bd4cc6e89a",
          "locked": true,
          "points": 2,
          "schema_version": 3,
          "solution": false,
          "task": false
        }
      },
      "outputs": [],
      "source": [
        "assert weights_ridge[\"GarageCars\"].std() < variability_no_garageArea\n",
        "print(weights_ridge[\"GarageCars\"].std())"
      ]
    },
    {
      "cell_type": "markdown",
      "metadata": {
        "id": "TbwLfsto_oc9"
      },
      "source": [
        "Check the parameter `alpha_` (the regularization strength) for the different ridge regressors obtained on each fold.\n",
        "\n",
        "In which range does alpha_ fall into for most folds?"
      ]
    },
    {
      "cell_type": "code",
      "execution_count": null,
      "metadata": {
        "id": "pJkXhUwy_8Jd"
      },
      "outputs": [],
      "source": [
        "mse_alphas = [est[-1].cv_values_.mean(axis=0)\n",
        "              for est in cv_results[\"estimator\"]]\n",
        "cv_alphas = pd.DataFrame(mse_alphas, columns=alphas)\n",
        "print(cv_alphas.head())\n",
        "\n",
        "cv_alphas.mean(axis=0).plot(marker=\"+\")\n",
        "plt.ylabel(\"Mean squared error\\n (lower is better)\")\n",
        "plt.xlabel(\"alpha\")\n",
        "_ = plt.title(\"Error obtained by cross-validation\")"
      ]
    },
    {
      "cell_type": "code",
      "execution_count": null,
      "metadata": {
        "deletable": false,
        "id": "UH8jZcgB_8Jf",
        "nbgrader": {
          "cell_type": "code",
          "checksum": "5b6a46efe8169ee7f7521010073b17aa",
          "grade": false,
          "grade_id": "cell-dce4d1e4e1aff651",
          "locked": false,
          "schema_version": 3,
          "solution": true,
          "task": false
        }
      },
      "outputs": [],
      "source": [
        "#Calculate the best alphas\n",
        "def get_best_alphas(cv_results):\n",
        "    # YOUR CODE HERE\n",
        "    raise NotImplementedError()"
      ]
    },
    {
      "cell_type": "code",
      "execution_count": null,
      "metadata": {
        "deletable": false,
        "editable": false,
        "nbgrader": {
          "cell_type": "code",
          "checksum": "25cd48e84049db814363b11a059eb093",
          "grade": true,
          "grade_id": "cell-e2dce5a3566b4397",
          "locked": true,
          "points": 2,
          "schema_version": 3,
          "solution": false,
          "task": false
        },
        "id": "kg7xpzyod6vr"
      },
      "outputs": [],
      "source": [
        "best_alphas = get_best_alphas(cv_results)\n",
        "print(f\"The mean optimal alpha leading to the best generalization performance is:\\n\"\n",
        "      f\"{np.mean(best_alphas):.2f} +/- {np.std(best_alphas):.2f}\")"
      ]
    },
    {
      "cell_type": "markdown",
      "metadata": {
        "id": "qha1AOgnBdYn"
      },
      "source": [
        "Now, we will tackle a classification problem instead of a regression problem. Load the Adult Census dataset with the following snippet of code and we will work only with numerical features."
      ]
    },
    {
      "cell_type": "code",
      "execution_count": null,
      "metadata": {
        "id": "mYzA2UWUBfhH"
      },
      "outputs": [],
      "source": [
        "adult_census = pd.read_csv(\"./adult-census.csv\")\n",
        "target = adult_census[\"class\"]\n",
        "data = adult_census.select_dtypes([\"integer\", \"floating\"])\n",
        "data = data.drop(columns=[\"education-num\"])"
      ]
    },
    {
      "cell_type": "markdown",
      "metadata": {
        "id": "DqLFVzLfPpIM"
      },
      "source": [
        "How many numerical features are present in the dataset contained in the variable data?\n",
        "\n"
      ]
    },
    {
      "cell_type": "code",
      "execution_count": null,
      "metadata": {
        "id": "5541Ft7oPqS8"
      },
      "outputs": [],
      "source": [
        "data.head()"
      ]
    },
    {
      "cell_type": "markdown",
      "metadata": {
        "id": "gfd_brO7P_2Q"
      },
      "source": [
        "Compare the generalization performance using the accuracy of the two following predictive models using a 10-fold cross-validation:\n",
        "\n",
        "* a linear model composed of a `StandardScaler` and a `LogisticRegression`\n",
        "* a `DummyClassifier` predicting the most frequent class"
      ]
    },
    {
      "cell_type": "code",
      "execution_count": null,
      "metadata": {
        "deletable": false,
        "id": "PkODz0FYQJOi",
        "nbgrader": {
          "cell_type": "code",
          "checksum": "907dbbcd5e9c0b7626dd9cf222a8bb30",
          "grade": false,
          "grade_id": "cell-850064a5c0b4fb82",
          "locked": false,
          "schema_version": 3,
          "solution": true,
          "task": false
        }
      },
      "outputs": [],
      "source": [
        "from sklearn.linear_model import LogisticRegression\n",
        "from sklearn.preprocessing import StandardScaler\n",
        "from sklearn.dummy import DummyClassifier\n",
        "from sklearn.model_selection import cross_validate\n",
        "from sklearn.pipeline import make_pipeline\n",
        "from sklearn.preprocessing import OneHotEncoder\n",
        "\n",
        "# YOUR CODE HERE\n",
        "raise NotImplementedError()"
      ]
    },
    {
      "cell_type": "code",
      "execution_count": null,
      "metadata": {
        "deletable": false,
        "editable": false,
        "nbgrader": {
          "cell_type": "code",
          "checksum": "1f92d9e406c9f0abf5c958a20e48c915",
          "grade": true,
          "grade_id": "cell-ceb8fd771ba8f7f9",
          "locked": true,
          "points": 2,
          "schema_version": 3,
          "solution": false,
          "task": false
        },
        "id": "qKIqz-8Cd6vs"
      },
      "outputs": [],
      "source": [
        "assert logistic_regression[0].__class__.__name__ == 'StandardScaler'\n",
        "assert logistic_regression[1].__class__.__name__ == 'LogisticRegression'\n",
        "assert dummy_classifier.strategy == 'most_frequent'"
      ]
    },
    {
      "cell_type": "code",
      "execution_count": null,
      "metadata": {
        "id": "DAYISnKRWLKU"
      },
      "outputs": [],
      "source": [
        "cv_results['test_score'] > cv_results_dummy['test_score']"
      ]
    },
    {
      "cell_type": "code",
      "execution_count": null,
      "metadata": {
        "id": "DOIeRNfiWwJ_"
      },
      "outputs": [],
      "source": [
        "print(\n",
        "    \"Logistic Regression is better than Dummy Classifier for \"\n",
        "    f\"{sum(cv_results['test_score'] > cv_results_dummy['test_score'])} CV iterations out of 10.\"\n",
        "        )"
      ]
    },
    {
      "cell_type": "code",
      "execution_count": null,
      "metadata": {
        "id": "TlkuH8scXK3z"
      },
      "outputs": [],
      "source": [
        "coefs = [est[-1].coef_[0] for est in cv_results[\"estimator\"]]\n",
        "weights = pd.DataFrame(coefs, columns=data.columns)"
      ]
    },
    {
      "cell_type": "code",
      "execution_count": null,
      "metadata": {
        "id": "M_yvHgYeXK30"
      },
      "outputs": [],
      "source": [
        "weights.plot.box(color=color, vert=False, figsize=(6, 16))\n",
        "_ = plt.title(\"logistic regression weights with data scaling\")"
      ]
    },
    {
      "cell_type": "markdown",
      "metadata": {
        "id": "xtHwCyloZfUD"
      },
      "source": [
        "Now, we will work with both numerical and categorical features. You can load Adult Census with the following snippet:"
      ]
    },
    {
      "cell_type": "code",
      "execution_count": null,
      "metadata": {
        "id": "AWn8fEjXZgur"
      },
      "outputs": [],
      "source": [
        "adult_census = pd.read_csv(\"./adult-census.csv\")\n",
        "target = adult_census[\"class\"]\n",
        "data = adult_census.drop(columns=[\"class\", \"education-num\"])"
      ]
    },
    {
      "cell_type": "markdown",
      "metadata": {
        "id": "emrPuSntZn2J"
      },
      "source": [
        "Create a predictive model where the categorical data must be one-hot encoded, the numerical data must be scaled, and the predictor is a logistic regression classifier.\n",
        "\n",
        "Use the same 10-fold cross-validation strategy as above to evaluate this complex pipeline.\n",
        "\n",
        "Look at the cross-validation test scores for both models and count the number of times the model using both numerical and categorical features has a better test score than the model using only numerical features.\n",
        "\n",
        "To do this you can create a preprocessor using `sklearn.compose.make_column_transformer` and `sklearn.compose.make_column_selector`, you can here the documentacion [here](https://scikit-learn.org/stable/modules/generated/sklearn.compose.make_column_transformer.html). The logistic regression will require also more iterations, for this set ther argument `max_iter` to 5000.\n",
        "\n"
      ]
    },
    {
      "cell_type": "code",
      "execution_count": null,
      "metadata": {
        "deletable": false,
        "id": "Y3BtQ0TPZox6",
        "nbgrader": {
          "cell_type": "code",
          "checksum": "7ed1a5ca03eff44fc50055572db7aa4b",
          "grade": false,
          "grade_id": "cell-612659ee66a7f9e6",
          "locked": false,
          "schema_version": 3,
          "solution": true,
          "task": false
        }
      },
      "outputs": [],
      "source": [
        "from sklearn.compose import make_column_transformer\n",
        "from sklearn.compose import make_column_selector as selector\n",
        "\n",
        "# YOUR CODE HERE\n",
        "raise NotImplementedError()"
      ]
    },
    {
      "cell_type": "code",
      "execution_count": null,
      "metadata": {
        "deletable": false,
        "editable": false,
        "nbgrader": {
          "cell_type": "code",
          "checksum": "696cebc5cd6ea0520db9ef771126eaf3",
          "grade": true,
          "grade_id": "cell-aec891cc39d7ce27",
          "locked": true,
          "points": 2,
          "schema_version": 3,
          "solution": false,
          "task": false
        },
        "id": "bQOjECrzd6vt"
      },
      "outputs": [],
      "source": [
        "assert preprocessor.__class__.__name__ == 'ColumnTransformer'\n",
        "assert logistic_regression_numcat[1].max_iter > 1000"
      ]
    },
    {
      "cell_type": "code",
      "execution_count": null,
      "metadata": {
        "id": "k8DGW83nmO9X"
      },
      "outputs": [],
      "source": [
        "print(cv_results_numcat['test_score'])\n",
        "print(cv_results['test_score'])"
      ]
    },
    {
      "cell_type": "code",
      "execution_count": null,
      "metadata": {
        "id": "Ap9R4qUymEJH"
      },
      "outputs": [],
      "source": [
        "print(\n",
        "    \"using all features is better than numerical features only for \"\n",
        "    f\"{sum(cv_results_numcat['test_score'] > cv_results['test_score'])} CV iterations out of 10.\"\n",
        "        )"
      ]
    },
    {
      "cell_type": "code",
      "execution_count": null,
      "metadata": {
        "id": "61P2IRYvvaLc"
      },
      "outputs": [],
      "source": [
        "preprocessor.fit(data)\n",
        "feature_names = (preprocessor.named_transformers_[\"onehotencoder\"]\n",
        "                             .get_feature_names_out(categorical_features)).tolist()\n",
        "feature_names += numerical_features\n",
        "feature_names"
      ]
    },
    {
      "cell_type": "markdown",
      "metadata": {
        "id": "_uxOqzlHer0S"
      },
      "source": [
        "## Appendix"
      ]
    },
    {
      "cell_type": "markdown",
      "metadata": {
        "id": "diHXW2zdcjUK"
      },
      "source": [
        "#### The Penguins dataset: description"
      ]
    },
    {
      "cell_type": "markdown",
      "metadata": {
        "id": "GM3yuQ5XcquS"
      },
      "source": [
        "In this notebook, we make a quick presentation of the\n",
        "[Palmer penguins dataset](https://allisonhorst.github.io/palmerpenguins/)\n",
        "dataset. We use this dataset for both classification and regression\n",
        "problems by selecting a subset of the features to make our explanations\n",
        "intuitive."
      ]
    },
    {
      "cell_type": "markdown",
      "metadata": {
        "id": "lmfBfu9AcxGR"
      },
      "source": [
        "##### Classification dataset"
      ]
    },
    {
      "cell_type": "markdown",
      "metadata": {
        "id": "88pxqbbOc2KY"
      },
      "source": [
        "We will use this dataset in classification setting to predict the penguins'\n",
        "species from anatomical information.\n",
        "\n",
        "Each penguin is from one of the three following species: Adelie, Gentoo, and\n",
        "Chinstrap. See the illustration below depicting the three different penguin\n",
        "species:\n",
        "\n",
        "![Image of penguins](https://github.com/allisonhorst/palmerpenguins/raw/master/man/figures/lter_penguins.png)\n",
        "\n",
        "This problem is a classification problem since the target is categorical.\n",
        "We will limit our input data to a subset of the original features\n",
        "to simplify our explanations when presenting the decision tree algorithm.\n",
        "Indeed, we will use features based on penguins' culmen measurement. You can\n",
        "learn more about the penguins' culmen with the illustration below:\n",
        "\n",
        "![Image of culmen](https://github.com/allisonhorst/palmerpenguins/raw/master/man/figures/culmen_depth.png)\n",
        "\n",
        "We will start by loading this subset of the dataset."
      ]
    },
    {
      "cell_type": "code",
      "execution_count": null,
      "metadata": {
        "id": "VszRV1MZcvvZ"
      },
      "outputs": [],
      "source": [
        "import pandas as pd\n",
        "\n",
        "penguins = pd.read_csv(\"./penguins_classification.csv\")\n",
        "\n",
        "culmen_columns = [\"Culmen Length (mm)\", \"Culmen Depth (mm)\"]\n",
        "target_column = \"Species\""
      ]
    },
    {
      "cell_type": "markdown",
      "metadata": {
        "id": "wlRmjqgUdB7I"
      },
      "source": [
        "Let's check the dataset more into details."
      ]
    },
    {
      "cell_type": "code",
      "execution_count": null,
      "metadata": {
        "id": "GK2-AK5IdCWJ"
      },
      "outputs": [],
      "source": [
        "penguins.head()"
      ]
    },
    {
      "cell_type": "markdown",
      "metadata": {
        "id": "0IugHUKCdHZp"
      },
      "source": [
        "Since that we have few samples, we can check a scatter plot to observe the\n",
        "samples distribution."
      ]
    },
    {
      "cell_type": "code",
      "execution_count": null,
      "metadata": {
        "id": "otPjC2oDdKXJ"
      },
      "outputs": [],
      "source": [
        "import seaborn as sns\n",
        "\n",
        "pairplot_figure = sns.pairplot(penguins, hue=\"Species\")\n",
        "pairplot_figure.fig.set_size_inches(9, 6.5)"
      ]
    },
    {
      "cell_type": "markdown",
      "metadata": {
        "id": "4ez37TGDdODB"
      },
      "source": [
        "First let's check the feature distributions by looking at the diagonal plots\n",
        "of the pairplot. We can deduce the following intuitions:\n",
        "\n",
        "* The Adelie species can be differentiated from the Gentoo and Chinstrap\n",
        "  species depending on the culmen length;\n",
        "* The Gentoo species can be differentiated from the Adelie and Chinstrap\n",
        "  species depending on the culmen depth."
      ]
    },
    {
      "cell_type": "markdown",
      "metadata": {
        "id": "0hjrqrrMdWap"
      },
      "source": [
        "##### Regression dataset"
      ]
    },
    {
      "cell_type": "markdown",
      "metadata": {
        "id": "nE5IxAeEdY9b"
      },
      "source": [
        "In a regression setting, the target is a continuous variable instead of\n",
        "categories. Here, we use two features of the dataset to make such a problem:\n",
        "the flipper length will be used as data and the body mass will be the target.\n",
        "In short, we want to predict the body mass using the flipper length.\n",
        "\n",
        "We will load the dataset and visualize the relationship between the flipper\n",
        "length and the body mass of penguins."
      ]
    },
    {
      "cell_type": "code",
      "execution_count": null,
      "metadata": {
        "id": "v-FufsVZdOo5"
      },
      "outputs": [],
      "source": [
        "penguins = pd.read_csv(\"./penguins_regression.csv\")\n",
        "\n",
        "feature_name = \"Flipper Length (mm)\"\n",
        "target_column = \"Body Mass (g)\""
      ]
    },
    {
      "cell_type": "code",
      "execution_count": null,
      "metadata": {
        "id": "Ka0tKJaEde7Z"
      },
      "outputs": [],
      "source": [
        "_ = sns.scatterplot(data=penguins, x=feature_name, y=target_column)"
      ]
    },
    {
      "cell_type": "markdown",
      "metadata": {
        "id": "q998hFwQdhRh"
      },
      "source": [
        "Here, we deal with a regression problem because our target is a continuous\n",
        "variable ranging from 2.7 kg to 6.3 kg. From the scatter plot above, we\n",
        "observe that we have a linear relationship between the flipper length\n",
        "and the body mass. The longer the flipper of a penguin, the heavier the\n",
        "penguin."
      ]
    }
  ],
  "metadata": {
    "colab": {
      "collapsed_sections": [],
      "name": "TP3_Linear_Models.ipynb",
      "provenance": [],
      "toc_visible": true,
      "include_colab_link": true
    },
    "kernelspec": {
      "display_name": "Python 3 (ipykernel)",
      "language": "python",
      "name": "python3"
    },
    "language_info": {
      "codemirror_mode": {
        "name": "ipython",
        "version": 3
      },
      "file_extension": ".py",
      "mimetype": "text/x-python",
      "name": "python",
      "nbconvert_exporter": "python",
      "pygments_lexer": "ipython3",
      "version": "3.7.11"
    }
  },
  "nbformat": 4,
  "nbformat_minor": 0
}