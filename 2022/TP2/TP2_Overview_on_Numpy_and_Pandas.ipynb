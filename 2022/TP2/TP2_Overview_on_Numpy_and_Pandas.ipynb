{
  "cells": [
    {
      "cell_type": "markdown",
      "metadata": {
        "id": "view-in-github",
        "colab_type": "text"
      },
      "source": [
        "<a href=\"https://colab.research.google.com/github/ferngonzalezp/deep_learning_lab/blob/main/2022/TP2/TP2_Overview_on_Numpy_and_Pandas.ipynb\" target=\"_parent\"><img src=\"https://colab.research.google.com/assets/colab-badge.svg\" alt=\"Open In Colab\"/></a>"
      ]
    },
    {
      "cell_type": "markdown",
      "metadata": {
        "id": "68dlcERk94Lq"
      },
      "source": [
        "# 1. A tour through Numpy"
      ]
    },
    {
      "cell_type": "markdown",
      "metadata": {
        "id": "kYDxoigL-69R"
      },
      "source": [
        "*material adapted from [Scientific Computing in Python: Introduction to NumPy and Matplotlib](https://sebastianraschka.com/blog/2020/numpy-intro.html).*\n",
        "________________________________________________________________________________\n"
      ]
    },
    {
      "cell_type": "markdown",
      "metadata": {
        "id": "Z_US2f7J_dQA"
      },
      "source": [
        "This section offers a quick tour of the NumPy library for working with multi-dimensional arrays in Python. NumPy (short for Numerical Python) was created in 2005 by merging Numarray into Numeric. Since then, the open source NumPy library has evolved into an essential library for scientific computing in Python. It has become a building block of many other scientific libraries, such as SciPy, Scikit-learn, Pandas, and others. What makes NumPy so incredibly attractive to the scientific community is that it provides a convenient Python interface for working with multi-dimensional array data structures efficiently; the NumPy array data structure is also called ndarray, which is short for n-dimensional array.\n",
        "\n",
        "In addition to being mostly implemented in C and using Python as a “glue language,” the main reason why NumPy is so efficient for numerical computations is that NumPy arrays use contiguous blocks of memory that can be efficiently cached by the CPU. In contrast, Python lists are arrays of pointers to objects in random locations in memory, which cannot be easily cached and come with a more expensive memory-look-up. However, the computational efficiency and low-memory footprint come at a cost: NumPy arrays have a fixed size and are homogeneous, which means that all elements must have the same type. Homogenous ndarray objects have the advantage that NumPy can carry out operations using efficient C code and avoid expensive type checks and other overheads of the Python API. While adding and removing elements from the end of a Python list is very efficient, altering the size of a NumPy array is very expensive since it requires to create a new array and carry over the contents of the old array that we want to expand or shrink.\n",
        "\n",
        "Besides being more efficient for numerical computations than native Python code, NumPy can also be more elegant and readable due to vectorized operations and broadcasting, which are features that we will explore in this article.\n",
        "\n",
        "Today, NumPy forms the basis of the scientific Python computing ecosystem."
      ]
    },
    {
      "cell_type": "markdown",
      "metadata": {
        "id": "C1sNJUIs_kS5"
      },
      "source": [
        "## Motivation: NumPy is fast!"
      ]
    },
    {
      "cell_type": "markdown",
      "metadata": {
        "id": "g1eaXgZoAQKB"
      },
      "source": [
        "Here is some motivation before we discuss further details, highlighting why learning about and using NumPy is useful. We take a look at a speed comparison with regular Python code. In particular, we are computing a vector dot product in Python (using lists) and compare it with  NumPy's dot-product function. Mathematically, the dot product between two vectors $\\mathbf{x}$ and $\\mathbf{w}$ can be written as follows:"
      ]
    },
    {
      "cell_type": "markdown",
      "metadata": {
        "id": "8ve3lVLWAQKC"
      },
      "source": [
        "$$\n",
        "z = \\sum_i x_i w_i = x_1 \\times w_1 + x_2 \\times w_2 + ... + x_n \\times w_n = \\mathbf{x}^\\top \\mathbf{w} \n",
        "$$"
      ]
    },
    {
      "cell_type": "markdown",
      "metadata": {
        "id": "kQkKsve-AQKC"
      },
      "source": [
        "First, the Python implementation using a for-loop:"
      ]
    },
    {
      "cell_type": "code",
      "execution_count": null,
      "metadata": {
        "id": "0CjcQmk-AQKC"
      },
      "outputs": [],
      "source": [
        "def python_forloop_list_approach(x, w):\n",
        "    z = 0.\n",
        "    for i in range(len(x)):\n",
        "        z += x[i] * w[i]\n",
        "    return z\n",
        "\n",
        "\n",
        "a = [1., 2., 3.]\n",
        "b = [4., 5., 6.]\n",
        "\n",
        "print(python_forloop_list_approach(a, b))"
      ]
    },
    {
      "cell_type": "markdown",
      "metadata": {
        "id": "5dVSV9XoAQKD"
      },
      "source": [
        "Let us compute the runtime for two larger (1000-element) vectors using IPython's `%timeit` magic function:"
      ]
    },
    {
      "cell_type": "code",
      "execution_count": null,
      "metadata": {
        "id": "r3s-VpgGAQKD"
      },
      "outputs": [],
      "source": [
        "large_a = list(range(1000))\n",
        "large_b = list(range(1000))\n",
        "\n",
        "\n",
        "%timeit python_forloop_list_approach(large_a, large_b)"
      ]
    },
    {
      "cell_type": "markdown",
      "metadata": {
        "id": "hqD0eDYsAQKD"
      },
      "source": [
        "Next, we use the `dot` function/method implemented in NumPy to compute the dot product between two vectors and run `%timeit` afterwards:"
      ]
    },
    {
      "cell_type": "code",
      "execution_count": null,
      "metadata": {
        "id": "NSSzoXOBAQKE"
      },
      "outputs": [],
      "source": [
        "import numpy as np\n",
        "\n",
        "\n",
        "def numpy_dotproduct_approach(x, w):\n",
        "    # same as np.dot(x, w)\n",
        "    # and same as x @ w\n",
        "    return x.dot(w)\n",
        "    \n",
        "\n",
        "a = np.array([1., 2., 3.])\n",
        "b = np.array([4., 5., 6.])\n",
        "\n",
        "print(numpy_dotproduct_approach(a, b))"
      ]
    },
    {
      "cell_type": "code",
      "execution_count": null,
      "metadata": {
        "id": "RR9kjUmtAQKE"
      },
      "outputs": [],
      "source": [
        "large_a = np.arange(1000)\n",
        "large_b = np.arange(1000)\n",
        "\n",
        "%timeit numpy_dotproduct_approach(large_a, large_b)"
      ]
    },
    {
      "cell_type": "markdown",
      "metadata": {
        "id": "kz7RJIbvAQKE"
      },
      "source": [
        "As we can see, replacing the for-loop with NumPy's dot function makes the computation of the vector dot product approximately 100 times faster."
      ]
    },
    {
      "cell_type": "markdown",
      "metadata": {
        "id": "4MlOrn2fAQKF"
      },
      "source": [
        "## N-dimensional Arrays"
      ]
    },
    {
      "cell_type": "markdown",
      "metadata": {
        "id": "4wJrPGLRAQKF"
      },
      "source": [
        "NumPy is built around [`ndarrays`](https://docs.scipy.org/doc/numpy/reference/generated/numpy.ndarray.html) objects, which are high-performance multi-dimensional array data structures. Intuitively, we can think of a one-dimensional NumPy array as a data structure to represent a vector of elements -- you may think of it as a fixed-size Python list where all elements share the same type. Similarly, we can think of a two-dimensional array as a data structure to represent a matrix or a Python list of lists. While NumPy arrays can have up to 32 dimensions if it was compiled without alterations to the source code, we will focus on lower-dimensional arrays for the purpose of illustration in this introduction.\n",
        "\n",
        "Now, let us get started with NumPy by calling the `array` function to create a two-dimensional NumPy array, consisting of two rows and three columns, from a list of lists:"
      ]
    },
    {
      "cell_type": "code",
      "execution_count": null,
      "metadata": {
        "id": "ZI21jwQqAQKF"
      },
      "outputs": [],
      "source": [
        "a = [1., 2., 3.]\n",
        "np.array(a)"
      ]
    },
    {
      "cell_type": "code",
      "execution_count": null,
      "metadata": {
        "id": "MCRJ0xF0AQKF"
      },
      "outputs": [],
      "source": [
        "lst = [[1, 2, 3], \n",
        "       [4, 5, 6]]\n",
        "ary2d = np.array(lst)\n",
        "ary2d\n",
        "\n",
        "# rows x columns"
      ]
    },
    {
      "cell_type": "markdown",
      "metadata": {
        "id": "kqh2bGH8AQKF"
      },
      "source": [
        "<img src=\"https://drive.google.com/uc?id=1p9U2qao0KqP84fcfa7VEtBV3nXXjuBco\" alt=\"Drawing\" style=\"width: 300px;\"/>"
      ]
    },
    {
      "cell_type": "markdown",
      "metadata": {
        "id": "CnI_tVIYAQKG"
      },
      "source": [
        "By default, NumPy infers the type of the array upon construction. Since we passed Python integers to the array, the `ndarray` object `ary2d` should be of type `int64` on a 64-bit machine, which we can confirm by accessing the `dtype` attribute:"
      ]
    },
    {
      "cell_type": "code",
      "execution_count": null,
      "metadata": {
        "id": "ZT3BSX1HAQKG"
      },
      "outputs": [],
      "source": [
        "ary2d.dtype"
      ]
    },
    {
      "cell_type": "markdown",
      "metadata": {
        "id": "izhPkPC6AQKG"
      },
      "source": [
        "If we want to construct NumPy arrays of different types, we can pass an argument to the `dtype` parameter of the `array` function, for example `np.int32`, to create 32-bit arrays. For a full list of supported data types, please refer to the official [NumPy documentation](https://docs.scipy.org/doc/numpy/user/basics.types.html). Once an array has been constructed, we can downcast or recast its type via the `astype` method as shown in the following examples:"
      ]
    },
    {
      "cell_type": "code",
      "execution_count": null,
      "metadata": {
        "id": "v5UUtEnwAQKH"
      },
      "outputs": [],
      "source": [
        "int32_ary = ary2d.astype(np.int32)\n",
        "int32_ary"
      ]
    },
    {
      "cell_type": "code",
      "execution_count": null,
      "metadata": {
        "id": "nr1abimdAQKH"
      },
      "outputs": [],
      "source": [
        "float32_ary = ary2d.astype(np.float32)\n",
        "float32_ary"
      ]
    },
    {
      "cell_type": "code",
      "execution_count": null,
      "metadata": {
        "id": "UmPrXchfAQKH"
      },
      "outputs": [],
      "source": [
        "float32_ary.dtype"
      ]
    },
    {
      "cell_type": "markdown",
      "metadata": {
        "id": "atvqWhVxAQKI"
      },
      "source": [
        "The code snippet above returned `8`, which means that each element in the array (remember that `ndarray`s are homogeneous) takes up 8 bytes in memory. This result makes sense since the array `ary2d` has type `int64` (64-bit integer), which we determined earlier, and 8 bits equals 1 byte. (Note that `'int64'` is just a shorthand for `np.int64`.)\n",
        "\n",
        "To return the number of elements in an array, we can use the `size` attribute, as shown below:"
      ]
    },
    {
      "cell_type": "markdown",
      "metadata": {
        "id": "qf0RHLFTAQKI"
      },
      "source": [
        "And the number of dimensions of our array (Intuitively, you may think of *dimensions* as the *rank* of a tensor) can be obtained via the `ndim` attribute:"
      ]
    },
    {
      "cell_type": "code",
      "execution_count": null,
      "metadata": {
        "id": "6DWOYwDcAQKI"
      },
      "outputs": [],
      "source": [
        "ary2d"
      ]
    },
    {
      "cell_type": "code",
      "execution_count": null,
      "metadata": {
        "id": "D049x8A_AQKI"
      },
      "outputs": [],
      "source": [
        "ary2d.ndim"
      ]
    },
    {
      "cell_type": "markdown",
      "metadata": {
        "id": "SAaM6X1UAQKI"
      },
      "source": [
        "If we are interested in the number of elements along each array dimension (in the context of NumPy arrays, we may also refer to them as *axes*), we can access the `shape` attribute as shown below:"
      ]
    },
    {
      "cell_type": "code",
      "execution_count": null,
      "metadata": {
        "id": "0xFhQLD_AQKJ"
      },
      "outputs": [],
      "source": [
        "len(ary2d.shape)"
      ]
    },
    {
      "cell_type": "markdown",
      "metadata": {
        "id": "pzXUK6qeAQKJ"
      },
      "source": [
        "The `shape` is always a tuple; in the code example above, the two-dimensional `ary` object has two *rows* and *three* columns, `(2, 3)`, if we think of it as a matrix representation.\n",
        "\n",
        "Conversely, the `shape` (an object of type `tuple`) of a one-dimensional array only contains a single value:"
      ]
    },
    {
      "cell_type": "code",
      "execution_count": null,
      "metadata": {
        "id": "mJbVCb42AQKJ"
      },
      "outputs": [],
      "source": [
        "np.array([1., 2., 3.]).shape"
      ]
    },
    {
      "cell_type": "markdown",
      "metadata": {
        "id": "sh8VW1Q9AQKJ"
      },
      "source": [
        "---\n",
        "\n",
        "## NumPy Array Construction and Indexing\n",
        "\n",
        "---"
      ]
    },
    {
      "cell_type": "markdown",
      "metadata": {
        "id": "cyqH5ObNAQKJ"
      },
      "source": [
        "### Array Construction Routines"
      ]
    },
    {
      "cell_type": "markdown",
      "metadata": {
        "id": "b8Dg7EaVAQKK"
      },
      "source": [
        "This section provides a non-comprehensive list of array construction functions. Simple yet useful functions exist to construct arrays containing ones or zeros:"
      ]
    },
    {
      "cell_type": "code",
      "execution_count": null,
      "metadata": {
        "id": "hyVDxcvNAQKK"
      },
      "outputs": [],
      "source": [
        "np.ones((3, 4), dtype=np.int)"
      ]
    },
    {
      "cell_type": "code",
      "execution_count": null,
      "metadata": {
        "id": "mOa2CJbbAQKK"
      },
      "outputs": [],
      "source": [
        "np.zeros((3, 3))"
      ]
    },
    {
      "cell_type": "markdown",
      "metadata": {
        "id": "6v1tBNUAAQKK"
      },
      "source": [
        "We can use these functions to create arrays with arbitrary values, e.g., we can create an array containing the values 99 as follows:"
      ]
    },
    {
      "cell_type": "code",
      "execution_count": null,
      "metadata": {
        "id": "nTEtvmzgAQKK"
      },
      "outputs": [],
      "source": [
        "np.zeros((3, 3)) + 99"
      ]
    },
    {
      "cell_type": "markdown",
      "metadata": {
        "id": "bFAVHvPEAQKK"
      },
      "source": [
        "Creating arrays of ones or zeros can also be useful as placeholder arrays, in cases where we do not want to use the initial values for computations but want to fill it with other values right away. If we do not need the initial values (for instance, `'0.'` or `'1.'`), there is also `numpy.empty`, which follows the same syntax as `numpy.ones` and `np.zeros`. However, instead of filling the array with a particular value, the `empty` function creates the array with non-sensical values from memory. We can think of `zeros` as a function that creates the array via `empty` and then sets all its values to `0.` -- in practice, a difference in speed is not noticeable, though.  "
      ]
    },
    {
      "cell_type": "markdown",
      "metadata": {
        "id": "M92maesoAQKK"
      },
      "source": [
        "NumPy also comes with functions to create identity matrices and diagonal matrices as `ndarrays` that can be useful in the context of linear algebra -- a topic that we will explore later in this article. "
      ]
    },
    {
      "cell_type": "code",
      "execution_count": null,
      "metadata": {
        "id": "O1_Cwo-mAQKL"
      },
      "outputs": [],
      "source": [
        "np.eye(3)"
      ]
    },
    {
      "cell_type": "code",
      "execution_count": null,
      "metadata": {
        "id": "TQsSjL4yAQKL"
      },
      "outputs": [],
      "source": [
        "np.diag((1, 2, 3))"
      ]
    },
    {
      "cell_type": "markdown",
      "metadata": {
        "id": "uE3zzudFAQKL"
      },
      "source": [
        "Lastly, I want to mention two very useful functions for creating sequences of numbers within a specified range, namely, `arange` and `linspace`. NumPy's `arange` function follows the same syntax as Python's `range` objects: If two arguments are provided, the first argument represents the start value and the second value defines the stop value of a half-open interval:"
      ]
    },
    {
      "cell_type": "code",
      "execution_count": null,
      "metadata": {
        "id": "VERoj2JEAQKL"
      },
      "outputs": [],
      "source": [
        "np.arange(4, 10)"
      ]
    },
    {
      "cell_type": "markdown",
      "metadata": {
        "id": "qxtylbIkAQKL"
      },
      "source": [
        "Notice that `arange` also performs type inference similar to the `array` function. If we only provide a single function argument, the range object treats this number as the endpoint of the interval and starts at 0:"
      ]
    },
    {
      "cell_type": "code",
      "execution_count": null,
      "metadata": {
        "id": "noJOxhscAQKL"
      },
      "outputs": [],
      "source": [
        "np.arange(5)"
      ]
    },
    {
      "cell_type": "markdown",
      "metadata": {
        "id": "-khYnSp_AQKM"
      },
      "source": [
        "Similar to Python's `range`, a third argument can be provided to define the *step* (the default step size is 1). For example, we can obtain an array of all uneven values between one and ten as follows:"
      ]
    },
    {
      "cell_type": "code",
      "execution_count": null,
      "metadata": {
        "id": "Tl9YW1BLAQKM"
      },
      "outputs": [],
      "source": [
        "np.arange(1., 11., 0.1)"
      ]
    },
    {
      "cell_type": "markdown",
      "metadata": {
        "id": "PwEZL1d2AQKM"
      },
      "source": [
        "The `linspace` function is especially useful if we want to create a particular number of evenly spaced values in a specified half-open interval:"
      ]
    },
    {
      "cell_type": "code",
      "execution_count": null,
      "metadata": {
        "id": "mX5CstMBAQKM"
      },
      "outputs": [],
      "source": [
        "np.linspace(6., 15., num=10)"
      ]
    },
    {
      "cell_type": "markdown",
      "metadata": {
        "id": "55STW8ztAQKM"
      },
      "source": [
        "### Array Indexing"
      ]
    },
    {
      "cell_type": "markdown",
      "metadata": {
        "id": "CAhPkmDwAQKN"
      },
      "source": [
        "In this section, we will go over the basics of retrieving NumPy array elements via different indexing methods. Simple NumPy indexing and slicing works similar to Python lists, which we will demonstrate in the following code snippet, where we retrieve the first element of a one-dimensional array:"
      ]
    },
    {
      "cell_type": "code",
      "execution_count": null,
      "metadata": {
        "id": "Er5BizA-AQKN"
      },
      "outputs": [],
      "source": [
        "ary = np.array([1, 2, 3])\n",
        "ary[0]"
      ]
    },
    {
      "cell_type": "markdown",
      "metadata": {
        "id": "wysEv2OEAQKN"
      },
      "source": [
        "Also, the same Python semantics apply to slicing operations. The following example shows how to fetch the first two elements in `ary`:"
      ]
    },
    {
      "cell_type": "code",
      "execution_count": null,
      "metadata": {
        "id": "hPrrqW22AQKN"
      },
      "outputs": [],
      "source": [
        "ary[0:3] # equivalent to ary[0:2]"
      ]
    },
    {
      "cell_type": "markdown",
      "metadata": {
        "id": "Kufk-9CTAQKN"
      },
      "source": [
        "If we work with arrays that have more than one dimension or axis, we separate our indexing or slicing operations by commas as shown in the series of examples below:"
      ]
    },
    {
      "cell_type": "code",
      "execution_count": null,
      "metadata": {
        "id": "ZPIoLBCQAQKN"
      },
      "outputs": [],
      "source": [
        "ary = np.array([[1, 2, 3],\n",
        "                [4, 5, 6]])\n",
        "\n",
        "ary[0, -2] # first row, second from last element"
      ]
    },
    {
      "cell_type": "code",
      "execution_count": null,
      "metadata": {
        "id": "oj_zU9_6AQKO"
      },
      "outputs": [],
      "source": [
        "ary[-1, -1] # lower right"
      ]
    },
    {
      "cell_type": "code",
      "execution_count": null,
      "metadata": {
        "id": "2Iv889LpAQKO"
      },
      "outputs": [],
      "source": [
        "ary[1, 1] # first row, second column"
      ]
    },
    {
      "cell_type": "markdown",
      "metadata": {
        "id": "o-PwWentAQKO"
      },
      "source": [
        "<img src=\"https://drive.google.com/uc?id=1cfCht7TEsU9NTga9s4GO6jmNwI0GkKIH\" alt=\"Drawing\" style=\"width: 300px;\"/>"
      ]
    },
    {
      "cell_type": "code",
      "execution_count": null,
      "metadata": {
        "id": "mY5xaJixAQKO"
      },
      "outputs": [],
      "source": [
        "ary[:, 0] # entire first column"
      ]
    },
    {
      "cell_type": "markdown",
      "metadata": {
        "id": "Q8YoPbvHAQKO"
      },
      "source": [
        "---\n",
        "\n",
        "## NumPy Array Math and Universal Functions\n",
        "\n",
        "---"
      ]
    },
    {
      "cell_type": "markdown",
      "metadata": {
        "id": "fiAyyNuYAQKP"
      },
      "source": [
        "### Array Math and Universal Functions"
      ]
    },
    {
      "cell_type": "markdown",
      "metadata": {
        "id": "54guvMsuAQKP"
      },
      "source": [
        "In the previous sections, you learned how to create NumPy arrays and how to access different elements in an array. It is about time that we introduce one of the core features of NumPy that makes working with `ndarray` so efficient and convenient: vectorization. While we typically use for-loops if we want to perform arithmetic operations on sequence-like objects, NumPy provides vectorized wrappers for performing element-wise operations implicitly via so-called *ufuncs* -- \"*ufuncs*\" is short for universal functions.\n",
        "\n",
        "As of this writing, there are more than 60 ufuncs available in NumPy; ufuncs are implemented in compiled C code and very fast and efficient compared to vanilla Python. In this section, we will take a look at the most commonly used ufuncs, and I recommend you to check out the [official documentation](https://docs.scipy.org/doc/numpy/reference/ufuncs.html#available-ufuncs) for a complete list.\n",
        "\n",
        "To provide an example of a simple ufunc for element-wise addition, consider the following example, where we add a scalar (here: 1) to each element in a nested Python list:"
      ]
    },
    {
      "cell_type": "code",
      "execution_count": null,
      "metadata": {
        "id": "tnf-U4qJAQKP"
      },
      "outputs": [],
      "source": [
        "lst = [[1, 2, 3], \n",
        "       [4, 5, 6]] # 2d array\n",
        "\n",
        "for row_idx, row_val in enumerate(lst):\n",
        "    for col_idx, col_val in enumerate(row_val):\n",
        "        lst[row_idx][col_idx] += 1\n",
        "lst"
      ]
    },
    {
      "cell_type": "markdown",
      "metadata": {
        "id": "FY-932FPAQKP"
      },
      "source": [
        "This for-loop approach is very verbose, and we could achieve the same goal more elegantly using list comprehensions:"
      ]
    },
    {
      "cell_type": "code",
      "execution_count": null,
      "metadata": {
        "id": "eG2dn9MIAQKP"
      },
      "outputs": [],
      "source": [
        "lst = [[1, 2, 3], [4, 5, 6]]\n",
        "[[cell + 1 for cell in row] for row in lst]"
      ]
    },
    {
      "cell_type": "markdown",
      "metadata": {
        "id": "KgGRnxgcAQKP"
      },
      "source": [
        "We can accomplish the same using NumPy's ufunc for element-wise scalar addition as shown below:"
      ]
    },
    {
      "cell_type": "code",
      "execution_count": null,
      "metadata": {
        "id": "EnqcTrm3AQKP"
      },
      "outputs": [],
      "source": [
        "ary = np.array([[1, 2, 3], [4, 5, 6]])\n",
        "ary = np.add(ary, 1) # binary ufunc\n",
        "ary"
      ]
    },
    {
      "cell_type": "markdown",
      "metadata": {
        "id": "yb2DcHv9AQKQ"
      },
      "source": [
        "The ufuncs for basic arithmetic operations are `add`, `subtract`, `divide`, `multiply`, `power`, and `exp` (exponential). However, NumPy uses operator overloading so that we can use mathematical operators (`+`, `-`, `/`, `*`, and `**`) directly:"
      ]
    },
    {
      "cell_type": "code",
      "execution_count": null,
      "metadata": {
        "id": "Ci83CgnDAQKQ"
      },
      "outputs": [],
      "source": [
        "np.add(ary, 1)"
      ]
    },
    {
      "cell_type": "code",
      "execution_count": null,
      "metadata": {
        "id": "Iv3W7cvDAQKQ"
      },
      "outputs": [],
      "source": [
        "ary + 1"
      ]
    },
    {
      "cell_type": "code",
      "execution_count": null,
      "metadata": {
        "id": "C9egOIlyAQKQ"
      },
      "outputs": [],
      "source": [
        "np.power(ary, 2)"
      ]
    },
    {
      "cell_type": "code",
      "execution_count": null,
      "metadata": {
        "id": "1uyIAe8uAQKQ"
      },
      "outputs": [],
      "source": [
        "ary**2"
      ]
    },
    {
      "cell_type": "markdown",
      "metadata": {
        "id": "9SB5nz6wAQKR"
      },
      "source": [
        "Above, we have seen examples of *binary* ufuncs, which are ufuncs that take two arguments as an input. In addition, NumPy implements several useful *unary* ufuncs, such as `log` (natural logarithm), `log10` (base-10 logarithm), and `sqrt` (square root):\n",
        "\n"
      ]
    },
    {
      "cell_type": "code",
      "execution_count": null,
      "metadata": {
        "id": "J_ZjQXBjAQKR"
      },
      "outputs": [],
      "source": [
        "np.sqrt(ary)"
      ]
    },
    {
      "cell_type": "markdown",
      "metadata": {
        "id": "WT-UerDmAQKR"
      },
      "source": [
        "Often, we want to compute the sum or product of array element along a given axis. For this purpose, we can use a ufunc's `reduce` operation. By default, `reduce` applies an operation along the first axis (`axis=0`). In the case of a two-dimensional array, we can think of the first axis as the rows of a matrix. Thus, adding up elements along rows yields the column sums of that matrix as shown below:"
      ]
    },
    {
      "cell_type": "code",
      "execution_count": null,
      "metadata": {
        "id": "F0RuxWn0AQKR"
      },
      "outputs": [],
      "source": [
        "ary = np.array([[1, 2, 3], \n",
        "                [4, 5, 6]]) # rolling over the 1st axis, axis 0\n",
        "\n",
        "np.add.reduce(ary, axis=0)"
      ]
    },
    {
      "cell_type": "markdown",
      "metadata": {
        "id": "14zm4IrLAQKR"
      },
      "source": [
        "To compute the row sums of the array above, we can specify `axis=1`:"
      ]
    },
    {
      "cell_type": "code",
      "execution_count": null,
      "metadata": {
        "id": "hvh8o8FiAQKR"
      },
      "outputs": [],
      "source": [
        "np.add.reduce(ary, axis=1) # row sums"
      ]
    },
    {
      "cell_type": "markdown",
      "metadata": {
        "id": "b82M4pC4AQKR"
      },
      "source": [
        "While it can be more intuitive to use `reduce` as a more general operation, NumPy also provides shorthands for specific operations such as `product` and `sum`. For example, `sum(axis=0)` is equivalent to `add.reduce`:"
      ]
    },
    {
      "cell_type": "code",
      "execution_count": null,
      "metadata": {
        "id": "KnQSRktoAQKS"
      },
      "outputs": [],
      "source": [
        "ary.sum(axis=0) # column sums"
      ]
    },
    {
      "cell_type": "code",
      "execution_count": null,
      "metadata": {
        "id": "JIlGKlViAQKS"
      },
      "outputs": [],
      "source": [
        "ary.sum(axis=1) # row sums"
      ]
    },
    {
      "cell_type": "markdown",
      "metadata": {
        "id": "nIkW_XMYAQKS"
      },
      "source": [
        "<img src=\"https://drive.google.com/uc?id=1dyAwvgJbiHOSD2pJkIoQrEI-Myn9mGLx\" alt=\"Drawing\" style=\"width: 300px;\"/>"
      ]
    },
    {
      "cell_type": "markdown",
      "metadata": {
        "id": "JtkEvLG9AQKS"
      },
      "source": [
        "As a word of caution, keep in mind that `product` and `sum` both compute the product or sum of the entire array if we do not specify an axis:"
      ]
    },
    {
      "cell_type": "code",
      "execution_count": null,
      "metadata": {
        "id": "KEriS20iAQKS"
      },
      "outputs": [],
      "source": [
        "ary.sum()"
      ]
    },
    {
      "cell_type": "markdown",
      "metadata": {
        "id": "N2lJMg8sAQKS"
      },
      "source": [
        "Other useful unary ufuncs are:\n",
        "    \n",
        "- `np.mean` (computes arithmetic mean or average)\n",
        "- `np.std` (computes the standard deviation)\n",
        "- `np.var` (computes variance)\n",
        "- `np.sort` (sorts an array)\n",
        "- `np.argsort` (returns indices that would sort an array)\n",
        "- `np.min` (returns the minimum value of an array)\n",
        "- `np.max` (returns the maximum value of an array)\n",
        "- `np.argmin` (returns the index of the minimum value)\n",
        "- `np.argmax` (returns the index of the maximum value)\n",
        "- `np.array_equal` (checks if two arrays have the same shape and elements)"
      ]
    },
    {
      "cell_type": "code",
      "execution_count": null,
      "metadata": {
        "id": "StaZxddsAQKO"
      },
      "outputs": [],
      "source": [
        "ary[:, :2] # first two columns"
      ]
    },
    {
      "cell_type": "markdown",
      "metadata": {
        "id": "gGfkovWuAQKT"
      },
      "source": [
        "---\n",
        "\n",
        "## NumPy Broadcasting\n",
        "\n",
        "---"
      ]
    },
    {
      "cell_type": "markdown",
      "metadata": {
        "id": "_oPSqi9AAQKT"
      },
      "source": [
        "### Broadcasting"
      ]
    },
    {
      "cell_type": "markdown",
      "metadata": {
        "id": "q0mQ7EU4AQKT"
      },
      "source": [
        "A topic we glanced over in the previous section is broadcasting. Broadcasting allows us to perform vectorized operations between two arrays even if their dimensions do not match by creating implicit multidimensional grids. You already learned about ufuncs in the previous section where we performed element-wise addition between a scalar and a multidimensional array, which is just one example of broadcasting. \n",
        "\n",
        "<img src=\"https://drive.google.com/uc?id=1O7AICJkfUeiDdEh9mR4EFu5UsvCqqXm_\" alt=\"Drawing\" style=\"width: 300px;\"/>\n",
        "\n",
        "Naturally, we can also perform element-wise operations between arrays of equal dimensions:"
      ]
    },
    {
      "cell_type": "markdown",
      "metadata": {
        "id": "Pl3GfCWXAQKT"
      },
      "source": [
        "In contrast to what we are used from linear algebra, we can also add arrays of different shapes. In the example above, we will add a one-dimensional to a two-dimensional array, where NumPy creates an implicit multidimensional grid from the one-dimensional array `ary1`:"
      ]
    },
    {
      "cell_type": "code",
      "execution_count": null,
      "metadata": {
        "id": "Ko0n7VMNAQKT"
      },
      "outputs": [],
      "source": [
        "ary = np.array([1, 2, 3])\n",
        "ary + 1"
      ]
    },
    {
      "cell_type": "code",
      "execution_count": null,
      "metadata": {
        "id": "RlBXRLMoAQKT"
      },
      "outputs": [],
      "source": [
        "ary + np.array([1, 1, 1])"
      ]
    },
    {
      "cell_type": "markdown",
      "metadata": {
        "id": "-hdMpxK0AQKU"
      },
      "source": [
        "<img src=\"https://drive.google.com/uc?id=10S5E0QObu90rFIo3BoMDFLA-8S6kxhh_\" alt=\"Drawing\" style=\"width: 300px;\"/>"
      ]
    },
    {
      "cell_type": "code",
      "execution_count": null,
      "metadata": {
        "id": "UJUYwUygAQKU"
      },
      "outputs": [],
      "source": [
        "ary2 = np.array([[4, 5, 6], \n",
        "                 [7, 8, 9]])\n",
        "\n",
        "ary2 + ary"
      ]
    },
    {
      "cell_type": "markdown",
      "metadata": {
        "id": "10QPRtcTAQKd"
      },
      "source": [
        "---\n",
        "\n",
        "## Reshaping NumPy Arrays\n",
        "\n",
        "---"
      ]
    },
    {
      "cell_type": "markdown",
      "metadata": {
        "id": "4DxRtRgCAQKd"
      },
      "source": [
        "### Reshaping Arrays"
      ]
    },
    {
      "cell_type": "markdown",
      "metadata": {
        "id": "B28kZopXAQKd"
      },
      "source": [
        "In practice, we often run into situations where existing arrays do not have the *right* shape to perform certain computations. As you might remember from the beginning of this article, the size of NumPy arrays is fixed. Fortunately, this does not mean that we have to create new arrays and copy values from the old array to the new one if we want arrays of different shapes -- the size is fixed, but the shape is not. NumPy provides a `reshape` methods that allow us to obtain a view of an array with a different shape. \n",
        "\n",
        "For example, we can reshape a one-dimensional array into a two-dimensional one using `reshape` as follows:"
      ]
    },
    {
      "cell_type": "code",
      "execution_count": null,
      "metadata": {
        "id": "WbahuIT1AQKe"
      },
      "outputs": [],
      "source": [
        "ary1d = np.array([1, 2, 3, 4, 5, 6])\n",
        "ary2d_view = ary1d.reshape(2, 3)\n",
        "ary2d_view"
      ]
    },
    {
      "cell_type": "markdown",
      "metadata": {
        "id": "5LD2z51nAQKe"
      },
      "source": [
        "The `True` value returned from `np.may_share_memory` indicates that the reshape operation returns a memory view, not a copy:"
      ]
    },
    {
      "cell_type": "code",
      "execution_count": null,
      "metadata": {
        "id": "_mupJF0KAQKe"
      },
      "outputs": [],
      "source": [
        "np.may_share_memory(ary2d_view, ary1d)"
      ]
    },
    {
      "cell_type": "markdown",
      "metadata": {
        "id": "646EnGUxAQKe"
      },
      "source": [
        "While we need to specify the desired elements along each axis, we need to make sure that the reshaped array has the same number of elements as the original one. However, we do not need to specify the number elements in each axis; NumPy is smart enough to figure out how many elements to put along an axis if only one axis is unspecified (by using the placeholder `-1`):"
      ]
    },
    {
      "cell_type": "code",
      "execution_count": null,
      "metadata": {
        "id": "ynkmC_7lAQKe"
      },
      "outputs": [],
      "source": [
        "ary1d.reshape(-1, 2)"
      ]
    },
    {
      "cell_type": "markdown",
      "metadata": {
        "id": "9Vtj6dq0AQKe"
      },
      "source": [
        "We can, of course, also use `reshape` to flatten an array:"
      ]
    },
    {
      "cell_type": "code",
      "execution_count": null,
      "metadata": {
        "id": "usHCX8ddAQKe"
      },
      "outputs": [],
      "source": [
        "ary = np.array([[[1, 2, 3],\n",
        "                 [4, 5, 6]]])\n",
        "\n",
        "ary.reshape(-1)"
      ]
    },
    {
      "cell_type": "markdown",
      "metadata": {
        "id": "QaAyhigeAQKf"
      },
      "source": [
        "Other methods for flattening arrays exist, namely `flatten`, which creates a copy of the array, and `ravel`, which creates a memory view like reshape:"
      ]
    },
    {
      "cell_type": "code",
      "execution_count": null,
      "metadata": {
        "id": "FhOwp4xuAQKf"
      },
      "outputs": [],
      "source": [
        "ary.flatten()"
      ]
    },
    {
      "cell_type": "code",
      "execution_count": null,
      "metadata": {
        "id": "uBuVcqaGAQKf"
      },
      "outputs": [],
      "source": [
        "ary.ravel()"
      ]
    },
    {
      "cell_type": "markdown",
      "metadata": {
        "id": "LelSmo2oAQKf"
      },
      "source": [
        "Sometimes, we are interested in merging different arrays. Unfortunately, there is no efficient way to do this without creating a new array, since NumPy arrays have a fixed size. While combining arrays should be avoided if possible -- for reasons of computational efficiency -- it is sometimes necessary. To combine two or more array objects, we can use NumPy's `concatenate` function as shown in the following examples:"
      ]
    },
    {
      "cell_type": "code",
      "execution_count": null,
      "metadata": {
        "id": "uDskGAiiAQKf"
      },
      "outputs": [],
      "source": [
        "ary = np.array([1, 2, 3])\n",
        "\n",
        "# stack along the first axis\n",
        "np.concatenate((ary, ary)) "
      ]
    },
    {
      "cell_type": "code",
      "execution_count": null,
      "metadata": {
        "id": "v2hzJz_VAQKf"
      },
      "outputs": [],
      "source": [
        "ary = np.array([[1, 2, 3]])\n",
        "\n",
        "# stack along the first axis (here: rows)\n",
        "np.concatenate((ary, ary), axis=0)"
      ]
    },
    {
      "cell_type": "code",
      "execution_count": null,
      "metadata": {
        "id": "fkHLBxQGAQKg"
      },
      "outputs": [],
      "source": [
        "# stack along the second axis (here: column)\n",
        "np.concatenate((ary, ary), axis=1)"
      ]
    },
    {
      "cell_type": "markdown",
      "metadata": {
        "id": "2F2lKmqdAQKc"
      },
      "source": [
        "---\n",
        "\n",
        "## Random Number Generators\n",
        "\n",
        "---"
      ]
    },
    {
      "cell_type": "markdown",
      "metadata": {
        "id": "IulyTqByAQKc"
      },
      "source": [
        "### Random Number Generators"
      ]
    },
    {
      "cell_type": "markdown",
      "metadata": {
        "id": "QHGu0ljZAQKc"
      },
      "source": [
        "In machine learning and deep learning, we often have to generate arrays of random numbers -- for example, the initial values of our model parameters before optimization. NumPy has a `random` subpackage to create random numbers and samples from a variety of distributions conveniently. Again, I encourage you to browse through the more comprehensive [numpy.random documentation](https://docs.scipy.org/doc/numpy-1.14.0/reference/routines.random.html) for a complete list of functions for random sampling.\n",
        "\n",
        "To provide a brief overview of the pseudo-random number generators that we will use most commonly, let's start with drawing a random sample from a uniform distribution:"
      ]
    },
    {
      "cell_type": "code",
      "execution_count": null,
      "metadata": {
        "id": "h2B6qm3fAQKc"
      },
      "outputs": [],
      "source": [
        "np.random.seed(123)\n",
        "\n",
        "np.random.rand(3)"
      ]
    },
    {
      "cell_type": "markdown",
      "metadata": {
        "id": "MZT8q-etAQKc"
      },
      "source": [
        "In the code snippet above, we first seeded NumPy's random number generator. Then, we drew three random samples from a uniform distribution via `random.rand` in the half-open interval [0, 1). I highly recommend the seeding step in practical applications as well as in research projects, since it ensures that our results are reproducible. If we run our code sequentially -- for example, if we execute a Python script -- it should be sufficient to seed the random number generator only once at the beginning to enforce reproducible outcomes between different runs. However, it is often useful to create separate `RandomState` objects for various parts of our code, so that we can test methods of functions reliably in unit tests. Working with multiple, separate `RandomState` objects can also be useful if we run our code in non-sequential order -- for example if we are experimenting with our code in interactive sessions or Jupyter Notebook environments. \n",
        "\n",
        "The example below shows how we can use a `RandomState` object to create the same results that we obtained via `np.random.rand` in the previous code snippet:"
      ]
    },
    {
      "cell_type": "code",
      "execution_count": null,
      "metadata": {
        "id": "sVSyWiE4AQKc"
      },
      "outputs": [],
      "source": [
        "rng2 = np.random.RandomState(seed=531)\n",
        "rng2.rand(3)"
      ]
    },
    {
      "cell_type": "markdown",
      "metadata": {
        "id": "aayc3-eIAQKd"
      },
      "source": [
        "Also, the NumPy developer community developed new random number generation method in recent versions of NumPy. For more details, please see the [new random `Generator` documentation](https://numpy.org/doc/stable/reference/random/generator.html#numpy.random.default_rng):"
      ]
    },
    {
      "cell_type": "code",
      "execution_count": null,
      "metadata": {
        "id": "yffA43KkAQKd"
      },
      "outputs": [],
      "source": [
        "rng2 = np.random.default_rng(seed=123)\n",
        "rng2.random(3)"
      ]
    },
    {
      "cell_type": "markdown",
      "metadata": {
        "id": "7k5wiYbvAQKj"
      },
      "source": [
        "---\n",
        "\n",
        "## Linear Algebra with NumPy\n",
        "\n",
        "---"
      ]
    },
    {
      "cell_type": "markdown",
      "metadata": {
        "id": "rUPK2NE-AQKj"
      },
      "source": [
        "### Linear Algebra with NumPy Arrays"
      ]
    },
    {
      "cell_type": "markdown",
      "metadata": {
        "id": "0pAcVOS0AQKk"
      },
      "source": [
        "Intuitively, we can think of one-dimensional NumPy arrays as data structures that represent row vectors:"
      ]
    },
    {
      "cell_type": "code",
      "execution_count": null,
      "metadata": {
        "id": "XfPKVr_NAQKk"
      },
      "outputs": [],
      "source": [
        "row_vector = np.array([1, 2, 3])\n",
        "row_vector"
      ]
    },
    {
      "cell_type": "markdown",
      "metadata": {
        "id": "0nWJOnYJAQKk"
      },
      "source": [
        "Similarly, we can use two-dimensional arrays to create column vectors:"
      ]
    },
    {
      "cell_type": "code",
      "execution_count": null,
      "metadata": {
        "id": "ZaTJB6LAAQKk"
      },
      "outputs": [],
      "source": [
        "column_vector = np.array([1, 2, 3]).reshape(-1, 1)\n",
        "column_vector"
      ]
    },
    {
      "cell_type": "markdown",
      "metadata": {
        "id": "JMwYuhnNAQKk"
      },
      "source": [
        "Instead of reshaping a one-dimensional array into a two-dimensional one, we can simply add a new axis as shown below:"
      ]
    },
    {
      "cell_type": "code",
      "execution_count": null,
      "metadata": {
        "id": "d1oJM4t4AQKk"
      },
      "outputs": [],
      "source": [
        "row_vector[:, np.newaxis]"
      ]
    },
    {
      "cell_type": "markdown",
      "metadata": {
        "id": "aBt5OaYoAQKk"
      },
      "source": [
        "Note that in this context, `np.newaxis` behaves like `None`:"
      ]
    },
    {
      "cell_type": "code",
      "execution_count": null,
      "metadata": {
        "id": "WGPIxa9xAQKl"
      },
      "outputs": [],
      "source": [
        "row_vector[:, None]"
      ]
    },
    {
      "cell_type": "markdown",
      "metadata": {
        "id": "U8XtujHLAQKl"
      },
      "source": [
        "All three approaches listed above, using `reshape(-1, 1)`, `np.newaxis`, or `None` yield the same results -- all three approaches create views not copies of the `row_vector` array.\n",
        "\n",
        "We can think of a column vector as a matrix consisting only of one column. To perform matrix multiplication between matrices, we learned that number of columns of the left matrix must match the number of rows of the matrix to the right. In NumPy, we can perform matrix multiplication via the `matmul` function:"
      ]
    },
    {
      "cell_type": "code",
      "execution_count": null,
      "metadata": {
        "id": "f5aBz2PGAQKl"
      },
      "outputs": [],
      "source": [
        "matrix = np.array([[1, 2, 3], \n",
        "                   [4, 5, 6]])"
      ]
    },
    {
      "cell_type": "code",
      "execution_count": null,
      "metadata": {
        "id": "JOFSET1IAQKl"
      },
      "outputs": [],
      "source": [
        "np.matmul(matrix, column_vector)"
      ]
    },
    {
      "cell_type": "markdown",
      "metadata": {
        "id": "swY4rtZDAQKm"
      },
      "source": [
        "<img src=\"https://drive.google.com/uc?id=1yG9ixNkz52WBApp_GHBi7sTKBAAEG3TK\"  alt=\"Drawing\" style=\"width: 300px;\"/>"
      ]
    },
    {
      "cell_type": "markdown",
      "metadata": {
        "id": "Z4pBof2ZAQKm"
      },
      "source": [
        "However, if we are working with matrices and vectors, NumPy can be quite forgiving if the dimensions of matrices and one-dimensional arrays do not match exactly -- thanks to broadcasting. The following example yields the same result as the matrix-column vector multiplication, except that it returns a one-dimensional array instead of a two-dimensional one:"
      ]
    },
    {
      "cell_type": "code",
      "execution_count": null,
      "metadata": {
        "id": "gzEIOR1nAQKm"
      },
      "outputs": [],
      "source": [
        "np.matmul(matrix, row_vector)"
      ]
    },
    {
      "cell_type": "markdown",
      "metadata": {
        "id": "luWmY0JqAQKm"
      },
      "source": [
        "Similarly, we can compute the dot-product between two vectors (here: the vector norm)"
      ]
    },
    {
      "cell_type": "code",
      "execution_count": null,
      "metadata": {
        "id": "_vBWarFXAQKn"
      },
      "outputs": [],
      "source": [
        "np.matmul(row_vector, row_vector)"
      ]
    },
    {
      "cell_type": "markdown",
      "metadata": {
        "id": "gxWrQVDxAQKn"
      },
      "source": [
        "NumPy has a special `dot` function that behaves similar to `matmul` on pairs of one- or two-dimensional arrays -- its underlying implementation is different though, and one or the other can be slightly faster on specific machines and versions of [BLAS](https://en.wikipedia.org/wiki/Basic_Linear_Algebra_Subprograms):"
      ]
    },
    {
      "cell_type": "code",
      "execution_count": null,
      "metadata": {
        "id": "6QwdjWbAAQKn"
      },
      "outputs": [],
      "source": [
        "np.dot(matrix, row_vector)"
      ]
    },
    {
      "cell_type": "markdown",
      "metadata": {
        "id": "Ecl3zxACAQKn"
      },
      "source": [
        "Note that an even more convenient way for executing `np.dot` is using the `@` symbol with NumPy arrays:"
      ]
    },
    {
      "cell_type": "code",
      "execution_count": null,
      "metadata": {
        "id": "jANJsPsiAQKn"
      },
      "outputs": [],
      "source": [
        "matrix @ row_vector"
      ]
    },
    {
      "cell_type": "markdown",
      "metadata": {
        "id": "SIuQeGX2AQKo"
      },
      "source": [
        "Similar to the examples above we can use `matmul` or `dot` to multiply two matrices (here: two-dimensional arrays). In this context, NumPy arrays have a handy `transpose` method to transpose matrices if necessary:"
      ]
    },
    {
      "cell_type": "code",
      "execution_count": null,
      "metadata": {
        "id": "rVadT5BCAQKo"
      },
      "outputs": [],
      "source": [
        "matrix = np.array([[1, 2, 3], \n",
        "                   [4, 5, 6]])\n",
        "\n",
        "matrix.transpose()"
      ]
    },
    {
      "cell_type": "markdown",
      "metadata": {
        "id": "EkabNwDvAQKo"
      },
      "source": [
        "<img src=\"https://drive.google.com/uc?id=1wz4hORP4e01wjE-Tn1Txx1JQ7uanyFJ1\"  alt=\"Drawing\" style=\"width: 500px;\"/>"
      ]
    },
    {
      "cell_type": "code",
      "execution_count": null,
      "metadata": {
        "id": "_PlrvXSRAQKo"
      },
      "outputs": [],
      "source": [
        "np.dot(matrix, matrix.transpose())"
      ]
    },
    {
      "cell_type": "markdown",
      "metadata": {
        "id": "8K1CNBMVAQKo"
      },
      "source": [
        "<img src=\"https://drive.google.com/uc?id=1yCzWMZ0ql3MLGuuq2FeOxQqXhDdB8fvE\"  alt=\"Drawing\" style=\"width: 500px;\"/>"
      ]
    },
    {
      "cell_type": "markdown",
      "metadata": {
        "id": "yE0JxXi1AQKo"
      },
      "source": [
        "While `transpose` can be annoyingly verbose for implementing linear algebra operations -- think of [PEP8's](https://www.python.org/dev/peps/pep-0008/) *80 character per line* recommendation -- NumPy has a shorthand for that: `T`:"
      ]
    },
    {
      "cell_type": "code",
      "execution_count": null,
      "metadata": {
        "id": "rtSY_TBBAQKo"
      },
      "outputs": [],
      "source": [
        "matrix.T"
      ]
    },
    {
      "cell_type": "markdown",
      "metadata": {
        "id": "uhHtPzHBAQKo"
      },
      "source": [
        "While this section demonstrates some of the basic linear algebra operations carried out on NumPy arrays that we use in practice, you can find an additional function in the documentation of NumPy's submodule for linear algebra: [`numpy.linalg`](https://docs.scipy.org/doc/numpy/reference/routines.linalg.html). If you want to perform a particular linear algebra routine that is not implemented in NumPy, it is also worth consulting the [`scipy.linalg` documentation](https://docs.scipy.org/doc/scipy/reference/linalg.html) -- SciPy is a library for scientific computing built on top of NumPy."
      ]
    },
    {
      "cell_type": "markdown",
      "metadata": {
        "id": "OIUSX_gOAQKp"
      },
      "source": [
        "---\n",
        "\n",
        "I want to mention that there is also a special [`matrix`](https://docs.scipy.org/doc/numpy/reference/generated/numpy.matrix.html) type in NumPy. NumPy `matrix` objects are analogous to NumPy arrays but are restricted to two dimensions. Also, matrices define certain operations differently than arrays; for instance, the `*` operator performs matrix multiplication instead of element-wise multiplication. However, NumPy `matrix` is less popular in the science community compared to the more general array data structure. \n",
        "\n",
        "---"
      ]
    },
    {
      "cell_type": "markdown",
      "metadata": {
        "id": "97gR1UeWAQKp"
      },
      "source": [
        "## SciPy"
      ]
    },
    {
      "cell_type": "markdown",
      "metadata": {
        "id": "zaeOy6OLAQKp"
      },
      "source": [
        "SciPy is another open-source library from Python's scientific computing stack. SciPy includes submodules for integration, optimization, and many other kinds of computations that are out of the scope of NumPy itself. We will not cover SciPy as a library here, since it can be more considered as an \"add-on\" library on top of NumPy. \n",
        "\n",
        "I recommend you to take a look at the SciPy documentation to get a brief overview of the different function that exists within this library: [https://docs.scipy.org/doc/scipy/reference/](https://docs.scipy.org/doc/scipy/reference/)"
      ]
    },
    {
      "cell_type": "markdown",
      "metadata": {
        "id": "Aoaq66IGRHd3"
      },
      "source": [
        "## Assignment 1: Write a function to efficiently compute the Frobenius norm\n",
        "\n"
      ]
    },
    {
      "cell_type": "markdown",
      "metadata": {
        "id": "XPku1Vs_T5X2"
      },
      "source": [
        "The Frobenius norm, sometimes also called the Euclidean norm (a term unfortunately also used for the vector L^2-norm), is matrix norm of an m×n matrix A defined as the square root of the sum of the absolute squares of its elements.\n",
        "\n",
        "\\begin{equation}\n",
        " ||A||_F = \\sqrt{\\sum_{i=1}^m \\sum_{j=1}^n|a_{ij}|^2}\n",
        "\\end{equation}\n",
        "\n",
        "First construct a function using loops:\n"
      ]
    },
    {
      "cell_type": "code",
      "execution_count": null,
      "metadata": {
        "deletable": false,
        "id": "bsmg4lJoWKa2",
        "nbgrader": {
          "cell_type": "code",
          "checksum": "8b75fe4868c2e300aaf33e6371b92c42",
          "grade": false,
          "grade_id": "cell-04522f42afe3f1f0",
          "locked": false,
          "schema_version": 3,
          "solution": true,
          "task": false
        }
      },
      "outputs": [],
      "source": [
        "#function of Frobenius norm using loops:\n",
        "\n",
        "\n",
        "def fro(A):\n",
        "# YOUR CODE HERE\n",
        "raise NotImplementedError()"
      ]
    },
    {
      "cell_type": "markdown",
      "metadata": {
        "id": "OTU8nvw7WTgc"
      },
      "source": [
        "Now eliminate the loops for a more efficient function. Hint: try to think how you can do this by doing a single dot product."
      ]
    },
    {
      "cell_type": "code",
      "execution_count": null,
      "metadata": {
        "deletable": false,
        "id": "4JDVyMVIWTHW",
        "nbgrader": {
          "cell_type": "code",
          "checksum": "a4b83060cc2d6afb4f80b78fc34f5090",
          "grade": false,
          "grade_id": "cell-f2b81001fdf23f4d",
          "locked": false,
          "schema_version": 3,
          "solution": true,
          "task": false
        }
      },
      "outputs": [],
      "source": [
        "def fro_efficient(A):\n",
        "# YOUR CODE HERE\n",
        "raise NotImplementedError()"
      ]
    },
    {
      "cell_type": "code",
      "execution_count": null,
      "metadata": {
        "deletable": false,
        "editable": false,
        "id": "Qc5xI3EIXkk9",
        "nbgrader": {
          "cell_type": "code",
          "checksum": "23b836f13c0d477bd69794112129f7f6",
          "grade": true,
          "grade_id": "cell-77ae5207f65e8a98",
          "locked": true,
          "points": 2,
          "schema_version": 3,
          "solution": false,
          "task": false
        }
      },
      "outputs": [],
      "source": [
        "#test it!\n",
        "A = np.ones((100,100))\n",
        "%time print(fro(A))\n",
        "%time print(fro_efficient(A))\n",
        "%time print(np.linalg.norm(A))\n",
        "assert(fro_efficient(A) == np.linalg.norm(A))\n",
        "assert(fro(A) == np.linalg.norm(A))"
      ]
    },
    {
      "cell_type": "markdown",
      "metadata": {
        "id": "_zWrkfCzfOem"
      },
      "source": [
        "## Assingment 2: The Kronecker Product\n"
      ]
    },
    {
      "cell_type": "markdown",
      "metadata": {
        "id": "EqXdz3fcnA3k"
      },
      "source": [
        "In mathematics, the Kronecker product, sometimes denoted by ⊗, is an operation on two matrices of arbitrary size resulting in a block matrix. If A is an $m × n$ matrix and B is a $p × q$ matrix, then the Kronecker product A ⊗ B is the $pm × qn$ block matrix:\n",
        "\n",
        "\\begin{equation}\n",
        "\\mathbf {A} \\otimes \\mathbf {B} ={\\begin{bmatrix}a_{11}\\mathbf {B} &\\cdots &a_{1n}\\mathbf {B} \\\\\\vdots &\\ddots &\\vdots \\\\a_{m1}\\mathbf {B} &\\cdots &a_{mn}\\mathbf {B} \\end{bmatrix}}\n",
        "\\end{equation}\n",
        "\n",
        "The numpy API has integrated a function to calculate the Kronecker product called `numpy.kron` [see docs](https://numpy.org/doc/stable/reference/generated/numpy.kron.html). The assingment consist of writing a function for the Kronecker product. Hint: you can use the function `numpy.einsum`, to see how it works consult the [documentation](https://numpy.org/doc/stable/reference/generated/numpy.einsum.html)."
      ]
    },
    {
      "cell_type": "code",
      "execution_count": null,
      "metadata": {
        "id": "ze5WNAWnfUIk"
      },
      "outputs": [],
      "source": [
        "A = np.array(([1,-4,-7],[-2,3,3]))\n",
        "B = np.array(([8,-9,-6,5],[1,-3,-4,7],[2,8,-8,3],[1,2,-5,-1]))\n",
        "%time C = np.kron(A,B)\n",
        "print(A)\n",
        "print(B)\n",
        "print(C)"
      ]
    },
    {
      "cell_type": "code",
      "execution_count": null,
      "metadata": {
        "deletable": false,
        "id": "on68ObZVjZ36",
        "nbgrader": {
          "cell_type": "code",
          "checksum": "b0f528cb4a21598bc7f1fdb94050cb2b",
          "grade": false,
          "grade_id": "cell-60160d21d0a91ccd",
          "locked": false,
          "schema_version": 3,
          "solution": true,
          "task": false
        }
      },
      "outputs": [],
      "source": [
        "#Write the function of the Kronecker product\n",
        "\n",
        "def kronecker(A,B):\n",
        "  # YOUR CODE HERE\n",
        "  raise NotImplementedError()"
      ]
    },
    {
      "cell_type": "code",
      "execution_count": null,
      "metadata": {
        "deletable": false,
        "editable": false,
        "id": "n0jy5HZrk2Mc",
        "nbgrader": {
          "cell_type": "code",
          "checksum": "f3a705a327d1274c9c3fca5a939ed818",
          "grade": true,
          "grade_id": "cell-1349f70cab3a7158",
          "locked": true,
          "points": 2,
          "schema_version": 3,
          "solution": false,
          "task": false
        }
      },
      "outputs": [],
      "source": [
        "#Test it\n",
        "%time C = np.kron(A,B)\n",
        "%time C2 = kronecker(A,B) #By using einsum, this function can be faster than current numpy implementation\n",
        "print(C2)"
      ]
    },
    {
      "cell_type": "markdown",
      "metadata": {
        "id": "TD6jaOlHoSgK"
      },
      "source": [
        "# 2. Introduction to Pandas"
      ]
    },
    {
      "cell_type": "markdown",
      "metadata": {
        "id": "InEgl_NhuBpN"
      },
      "source": [
        "Read the guide [10 minutes to pandas](https://pandas.pydata.org/docs/user_guide/10min.html), then download the electricity dataset from [OpenML](https://www.openml.org/d/151). Use Pandas to explore the dataset."
      ]
    },
    {
      "cell_type": "code",
      "execution_count": null,
      "metadata": {
        "id": "BpcXpxyK4DjQ"
      },
      "outputs": [],
      "source": [
        "import pandas as pd\n",
        "import os\n",
        "import matplotlib.pyplot as plt"
      ]
    },
    {
      "cell_type": "markdown",
      "metadata": {
        "id": "marQYsdS31SO"
      },
      "source": [
        "**Question 1. Load the electricity dataset from the .csv (name your variable ds)**"
      ]
    },
    {
      "cell_type": "code",
      "execution_count": null,
      "metadata": {
        "deletable": false,
        "id": "TFEmht0woWYI",
        "nbgrader": {
          "cell_type": "code",
          "checksum": "c44bb537e8890342706792b5aedb3cba",
          "grade": false,
          "grade_id": "cell-9fc6bd940ea75ab4",
          "locked": false,
          "schema_version": 3,
          "solution": true,
          "task": false
        }
      },
      "outputs": [],
      "source": [
        "# YOUR CODE HERE\n",
        "raise NotImplementedError()"
      ]
    },
    {
      "cell_type": "code",
      "execution_count": null,
      "metadata": {
        "deletable": false,
        "editable": false,
        "id": "PA1gv-AmvEK8",
        "nbgrader": {
          "cell_type": "code",
          "checksum": "b5e83a4eb19d7ffc4804c614426840e2",
          "grade": true,
          "grade_id": "cell-a769b6a3d87aea05",
          "locked": true,
          "points": 1,
          "schema_version": 3,
          "solution": false,
          "task": false
        }
      },
      "outputs": [],
      "source": [
        "ds.head()"
      ]
    },
    {
      "cell_type": "markdown",
      "metadata": {
        "id": "NB0s5Zsg4xV3"
      },
      "source": [
        "**Question 2. What is the mean and standard deviation of the New South Wales price?**"
      ]
    },
    {
      "cell_type": "code",
      "execution_count": null,
      "metadata": {
        "deletable": false,
        "id": "KPPi3rLq4o5v",
        "nbgrader": {
          "cell_type": "code",
          "checksum": "aa1716edf11094c37414dc235e815e30",
          "grade": false,
          "grade_id": "cell-d2c5f77a61480a21",
          "locked": false,
          "schema_version": 3,
          "solution": true,
          "task": false
        }
      },
      "outputs": [],
      "source": [
        "def mean_std_nswprice(ds):\n",
        "  # YOUR CODE HERE\n",
        "  raise NotImplementedError()\n",
        "  return mean, std"
      ]
    },
    {
      "cell_type": "code",
      "execution_count": null,
      "metadata": {
        "deletable": false,
        "editable": false,
        "id": "2mJpAW0sudzD",
        "nbgrader": {
          "cell_type": "code",
          "checksum": "ac737ae3432adf054f4b91a4d9170106",
          "grade": true,
          "grade_id": "cell-22d68bf4f6f9728d",
          "locked": true,
          "points": 1,
          "schema_version": 3,
          "solution": false,
          "task": false
        }
      },
      "outputs": [],
      "source": [
        "mean, std = mean_std_nswprice(ds)\n",
        "print(mean)\n",
        "print(std)"
      ]
    },
    {
      "cell_type": "markdown",
      "metadata": {
        "id": "4JXT9-9a6DrP"
      },
      "source": [
        "**Question 3. Plot the histogram of the demand in Victoria with 10 bins**"
      ]
    },
    {
      "cell_type": "code",
      "execution_count": null,
      "metadata": {
        "deletable": false,
        "id": "XEQ4igZo5JTg",
        "nbgrader": {
          "cell_type": "code",
          "checksum": "d5108ee427ca8f5a45d1c84f087345f9",
          "grade": false,
          "grade_id": "cell-c3932bf2ed5ad019",
          "locked": false,
          "schema_version": 3,
          "solution": true,
          "task": false
        }
      },
      "outputs": [],
      "source": [
        "def plot_hist(ds):\n",
        "  # YOUR CODE HERE\n",
        "  raise NotImplementedError()\n",
        "  return ax"
      ]
    },
    {
      "cell_type": "code",
      "execution_count": null,
      "metadata": {
        "deletable": false,
        "editable": false,
        "id": "-2crN21_xhxW",
        "nbgrader": {
          "cell_type": "code",
          "checksum": "5a0f8180bb1ca1d7e347f8e286060181",
          "grade": true,
          "grade_id": "cell-a06ec003edfdae22",
          "locked": true,
          "points": 1,
          "schema_version": 3,
          "solution": false,
          "task": false
        }
      },
      "outputs": [],
      "source": [
        "plt.figure()\n",
        "ax = plot_hist(ds)"
      ]
    },
    {
      "cell_type": "markdown",
      "metadata": {
        "id": "CkQG9e6X6nMJ"
      },
      "source": [
        "**Question 4. What proportion of the time , the price increased?**"
      ]
    },
    {
      "cell_type": "code",
      "execution_count": null,
      "metadata": {
        "deletable": false,
        "id": "kxI3eSAc6mtY",
        "nbgrader": {
          "cell_type": "code",
          "checksum": "b20d201dfc244b2c8481bed7135dee36",
          "grade": false,
          "grade_id": "cell-e5d3231df18df8b9",
          "locked": false,
          "schema_version": 3,
          "solution": true,
          "task": false
        }
      },
      "outputs": [],
      "source": [
        "def get_percent_up(ds):\n",
        "  # YOUR CODE HERE\n",
        "  raise NotImplementedError()"
      ]
    },
    {
      "cell_type": "code",
      "execution_count": null,
      "metadata": {
        "deletable": false,
        "editable": false,
        "id": "knyZVr2i9Ak4",
        "nbgrader": {
          "cell_type": "code",
          "checksum": "082d3ab3323ad157e24b310476790941",
          "grade": true,
          "grade_id": "cell-60734699a5e95c54",
          "locked": true,
          "points": 1,
          "schema_version": 3,
          "solution": false,
          "task": false
        }
      },
      "outputs": [],
      "source": [
        "print(get_percent_up(ds))"
      ]
    },
    {
      "cell_type": "markdown",
      "metadata": {
        "id": "UW0s659V-HEY"
      },
      "source": [
        "**Question 5. Draw in a single plot the curve of the prices of New South Wales on fridays for the last quarter of the period**"
      ]
    },
    {
      "cell_type": "code",
      "execution_count": null,
      "metadata": {
        "deletable": false,
        "id": "YnFGQV8gAnrz",
        "nbgrader": {
          "cell_type": "code",
          "checksum": "8266874d26fee25d3540b6e5a5e4aed0",
          "grade": false,
          "grade_id": "cell-eff2c4851a5e35e6",
          "locked": false,
          "schema_version": 3,
          "solution": true,
          "task": false
        }
      },
      "outputs": [],
      "source": [
        "def plot_nswprices(ds):\n",
        "  # YOUR CODE HERE\n",
        "  raise NotImplementedError()\n",
        "  return ax"
      ]
    },
    {
      "cell_type": "code",
      "execution_count": null,
      "metadata": {
        "deletable": false,
        "editable": false,
        "id": "e7a5CAizECPJ",
        "nbgrader": {
          "cell_type": "code",
          "checksum": "69e3dde123eedd3c56aa16b842dd2db0",
          "grade": true,
          "grade_id": "cell-1b6a3c7c960e1c95",
          "locked": true,
          "points": 1,
          "schema_version": 3,
          "solution": false,
          "task": false
        }
      },
      "outputs": [],
      "source": [
        "plt.figure()\n",
        "ax = plot_nswprices(ds)"
      ]
    },
    {
      "cell_type": "markdown",
      "metadata": {
        "id": "_JC-y0kBeWWt"
      },
      "source": [
        "**Question 6. Search the documentation and plot the probability density function of the demand of New Soth Wales using the kernel density estimate.**"
      ]
    },
    {
      "cell_type": "code",
      "execution_count": null,
      "metadata": {
        "deletable": false,
        "id": "Psq94dR3U4P6",
        "nbgrader": {
          "cell_type": "code",
          "checksum": "701ffca39e1493c554344ecdfdefec7a",
          "grade": false,
          "grade_id": "cell-8dc1b40a855309bf",
          "locked": false,
          "schema_version": 3,
          "solution": true,
          "task": false
        }
      },
      "outputs": [],
      "source": [
        "def plot_nswdemand_pdf(ds):\n",
        "  # YOUR CODE HERE\n",
        "  raise NotImplementedError()\n",
        "  return ax"
      ]
    },
    {
      "cell_type": "code",
      "execution_count": null,
      "metadata": {
        "deletable": false,
        "editable": false,
        "id": "F4lP7vhFD7Vo",
        "nbgrader": {
          "cell_type": "code",
          "checksum": "7f27282ad83372e8d5d9a5d61dae98e6",
          "grade": true,
          "grade_id": "cell-e01bd3a17e301b87",
          "locked": true,
          "points": 1,
          "schema_version": 3,
          "solution": false,
          "task": false
        }
      },
      "outputs": [],
      "source": [
        "ax = plot_nswdemand_pdf(ds)"
      ]
    }
  ],
  "metadata": {
    "colab": {
      "name": "TP2_Overview_on_Numpy_and_Pandas.ipynb",
      "provenance": [],
      "toc_visible": true,
      "include_colab_link": true
    },
    "kernelspec": {
      "display_name": "Python 3 (ipykernel)",
      "language": "python",
      "name": "python3"
    },
    "language_info": {
      "codemirror_mode": {
        "name": "ipython",
        "version": 3
      },
      "file_extension": ".py",
      "mimetype": "text/x-python",
      "name": "python",
      "nbconvert_exporter": "python",
      "pygments_lexer": "ipython3",
      "version": "3.7.11"
    }
  },
  "nbformat": 4,
  "nbformat_minor": 0
}