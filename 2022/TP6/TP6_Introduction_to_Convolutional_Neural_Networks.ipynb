{
  "nbformat": 4,
  "nbformat_minor": 0,
  "metadata": {
    "colab": {
      "name": "TP6 - Introduction to Convolutional Neural Networks.ipynb",
      "provenance": [],
      "authorship_tag": "ABX9TyNFI3IuCa21Vd+uVp/mpuFb",
      "include_colab_link": true
    },
    "kernelspec": {
      "name": "python3",
      "display_name": "Python 3"
    },
    "language_info": {
      "name": "python"
    },
    "accelerator": "GPU"
  },
  "cells": [
    {
      "cell_type": "markdown",
      "metadata": {
        "id": "view-in-github",
        "colab_type": "text"
      },
      "source": [
        "<a href=\"https://colab.research.google.com/github/ferngonzalezp/deep_learning_lab/blob/main/2022/TP6/TP6_Introduction_to_Convolutional_Neural_Networks.ipynb\" target=\"_parent\"><img src=\"https://colab.research.google.com/assets/colab-badge.svg\" alt=\"Open In Colab\"/></a>"
      ]
    },
    {
      "cell_type": "markdown",
      "source": [
        "# TP6 - Introduction to Convolutional Neural Networks"
      ],
      "metadata": {
        "id": "bNPOJjkBQjvC"
      }
    },
    {
      "cell_type": "markdown",
      "metadata": {
        "id": "QnWRrOhkHfwi"
      },
      "source": [
        "# 0. Introduction to Convolutional Neural Networks"
      ]
    },
    {
      "cell_type": "markdown",
      "metadata": {
        "id": "m5lK7-NbHorr"
      },
      "source": [
        "Convolutional neural networks or more commonly called by their abreviation \"CNNs\", is one of the most used architecure types of Neural Networks. These networks were inspired by the field of image processing, they use as building block the convolution operation instead of simple matrix multiplications. The use of convolutions have some advantages, such as:\n",
        "\n",
        "* Reduced memory requirements: with convolutions the weights are filter or kernels that pass through the whole image, for example a 3x3 kernel has in total 9 weights and can be used in any image whose dimensions are equal or bigger than the ones from the kernel, if we used a linear layer the number of weights increase linearly with the number of pixels in the image.\n",
        "\n",
        "* Convolutions are equivariant: this means that with convolutions we are able to identify features of an image regardless of their orientation. With a trained CNN for recognizing MNIST digits we can rotate the numbers or crop them and still be able to identify the number, this would be a hard task for linear layers."
      ]
    },
    {
      "cell_type": "markdown",
      "metadata": {
        "id": "lDkXNt0BVSTS"
      },
      "source": [
        "## What is a Convolution extacly?\n",
        "\n",
        "A convolution is the process of adding each element of the image to its local neighbors, weighted by the kernel. \n",
        "\n",
        "<img src='https://miro.medium.com/max/2400/1*VVvdh-BUKFh2pwDD0kPeRA@2x.gif'\n",
        "width=500 height=300>\n",
        "\n",
        "Convolutions also have certain parameters that control how they behave and the shape of their output:\n",
        "\n",
        "* **Stride**:  specifies how much we move the convolution filter at each step.\n",
        "\n",
        "Convolution with stride of 1: \\\\\n",
        "<img src='https://miro.medium.com/max/2400/1*L4T6IXRalWoseBncjRr4wQ@2x.gif'\n",
        "width=500 height=300> \\\\\n",
        "Convolution with stride of 2: \\\\\n",
        "<img src='https://miro.medium.com/max/2400/1*4wZt9G7W7CchZO-5rVxl5g@2x.gif'\n",
        "width=500 height=300> \\\\\n",
        "\n",
        "* **Padding**: these are extra values added arround the input image in order to achieve a desirable size of the reuslting operation. Normally the padding values are zeroes but others can be used like the values at the opposite edge.\\\\\n",
        "\n",
        "<img src='https://miro.medium.com/max/2400/1*W2D564Gkad9lj3_6t9I2PA@2x.gif'\n",
        "width=500 height=300> \\\\\n",
        "\n",
        "* **Dilation**: The dilations is the ammount of gap between the kernle weights, it can be seen as expanding the kernel to a bigger one and filling the gaps with zeroes. The default value of dilation is 1. \\\\\n",
        "\n",
        "<img src='https://www.researchgate.net/publication/320195101/figure/fig2/AS:669211164692494@1536563783748/Dilated-convolution-On-the-left-we-have-the-dilated-convolution-with-dilation-rate-r.png' width=600 height=300>\\\\\n",
        "\n",
        "The dimension of the output of a convolution can be calculated as:\n",
        "\n",
        "\\begin{equation}\n",
        "D_{o u t}=\\left\\lfloor\\frac{D_{i n}+2 \\times \\text { padding }-\\text { dilation } \\times(\\text { kernel_size }-1)-1}{\\text { stride }}+1 \\right\\rfloor\n",
        "\\end{equation}\n",
        "\n"
      ]
    },
    {
      "cell_type": "markdown",
      "source": [
        "# 1. Identifying cats and dogs"
      ],
      "metadata": {
        "id": "uDLPN1dQLvO2"
      }
    },
    {
      "cell_type": "markdown",
      "source": [
        "In this part of the TP where are going to build a CNN that identifies whether an image contains a cat or a dog."
      ],
      "metadata": {
        "id": "aqYRQ98hsx5z"
      }
    },
    {
      "cell_type": "code",
      "source": [
        "import matplotlib.pyplot as plt\n",
        "import numpy as np\n",
        "import tensorflow as tf\n",
        "import tensorflow_datasets as tfds\n",
        "from tensorflow import keras\n",
        "import random\n",
        "random.seed(1)\n",
        "np.random.seed(1)\n",
        "tf.random.set_seed(1)"
      ],
      "metadata": {
        "id": "rhs2xB59Lp5H"
      },
      "execution_count": 16,
      "outputs": []
    },
    {
      "cell_type": "markdown",
      "source": [
        "We are going to use the Pets dataset which is already included in the tensorflow [dadatasets](https://www.tensorflow.org/datasets/catalog/cats_vs_dogs) API. "
      ],
      "metadata": {
        "id": "jaIDz5iItC9l"
      }
    },
    {
      "cell_type": "code",
      "source": [
        "(ds_train, ds_test), info = tfds.load('cats_vs_dogs', split=['train[:80%]', 'train[80%:]'], shuffle_files=True, with_info=True, as_supervised=True)"
      ],
      "metadata": {
        "id": "YPrWPZ8aQxY7"
      },
      "execution_count": 172,
      "outputs": []
    },
    {
      "cell_type": "code",
      "source": [
        "fig = tfds.show_examples(ds_train, info)\n",
        "print(info)"
      ],
      "metadata": {
        "id": "R0DP_ILwRYoz"
      },
      "execution_count": null,
      "outputs": []
    },
    {
      "cell_type": "markdown",
      "source": [
        "Now, we are building  a simple CNN for classification. The network is going to be built as described in the image below:\n",
        "\n",
        "![pets_cnn.PNG](data:image/png;base64,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)\n",
        "\n",
        "The CNN also employs BatchNorm, MaxPooling and the ReLU activation. The activation in the last layer is the softmax activation. In the dataset each image has different size so we are going to resize the images in order for them to be all 180 x 180."
      ],
      "metadata": {
        "id": "1C_JssHmtlK8"
      }
    },
    {
      "cell_type": "code",
      "source": [
        "def make_cnn(layers: list):\n",
        "  inputs = keras.layers.Input((180,180,3), name='input_layer')\n",
        "  x = inputs\n",
        "  for i, size in enumerate(layers):\n",
        "    x = keras.layers.Conv2D(size,3, name='conv_'+str(i))(x)\n",
        "    x = keras.layers.BatchNormalization(name='BN_'+str(i))(x)\n",
        "    x = keras.layers.ReLU(name='relu_'+str(i))(x)\n",
        "    x = keras.layers.MaxPooling2D(name='maxPool_'+str(i))(x)\n",
        "  x = keras.layers.Flatten()(x)\n",
        "  x = keras.layers.Dense(64,activation='relu', name='dense')(x)\n",
        "  outputs = keras.layers.Dense(2, activation='softmax')(x)\n",
        "  return keras.Model(inputs=inputs, outputs=outputs, name='CNN')"
      ],
      "metadata": {
        "id": "kDcsmlY6bVfu"
      },
      "execution_count": 151,
      "outputs": []
    },
    {
      "cell_type": "code",
      "source": [
        "model = make_cnn([32,32,64,64,128])"
      ],
      "metadata": {
        "id": "f7DYYv2Ef2sJ"
      },
      "execution_count": 170,
      "outputs": []
    },
    {
      "cell_type": "code",
      "source": [
        "tf.keras.utils.plot_model(model,show_shapes=True)"
      ],
      "metadata": {
        "id": "OY6t1l1SgyoY"
      },
      "execution_count": null,
      "outputs": []
    },
    {
      "cell_type": "markdown",
      "source": [
        "We are going to use a batch size of 32 to train the model, and before  training we need to prepocess the data, first by rescaling it to be between 0 and 1.0, then to resize every image to 180x180."
      ],
      "metadata": {
        "id": "pwFHvCHau-Pd"
      }
    },
    {
      "cell_type": "code",
      "source": [
        "batch_size = 32\n",
        "epochs = 5\n",
        "\n",
        "def resize(x, y):\n",
        "  x = tf.image.convert_image_dtype(x, tf.float32)                   #This line change the image data type \n",
        "  img =  tf.image.resize(x, [180, 180], preserve_aspect_ratio=False) #This function changes the size of each image to the desired one.\n",
        "  return img, tf.cast(y, tf.float32)\n",
        "\n",
        "ds_train = ds_train.map(\n",
        "    resize)\n",
        "ds_test = ds_test.map(\n",
        "    resize)\n",
        "ds_train = ds_train.batch(batch_size)\n",
        "ds_test = ds_test.batch(batch_size)\n",
        "ds_train = ds_train.prefetch(buffer_size=batch_size)\n",
        "ds_test =  ds_test.prefetch(buffer_size=batch_size)"
      ],
      "metadata": {
        "id": "7O-wZEpCjUg7"
      },
      "execution_count": 173,
      "outputs": []
    },
    {
      "cell_type": "markdown",
      "source": [
        "For training we will use the Adam optimizer with a learning rate of 0.001, the loss function is the SparseCategoricalCrossEntropy and the metric is accuracy."
      ],
      "metadata": {
        "id": "J4_Kkk__wYXO"
      }
    },
    {
      "cell_type": "code",
      "source": [
        "model.compile(loss=keras.losses.SparseCategoricalCrossentropy(from_logits=False), \n",
        "              optimizer=keras.optimizers.Adam(1e-3), \n",
        "              metrics=[\"accuracy\"])"
      ],
      "metadata": {
        "id": "xWjXNYI8hn8q"
      },
      "execution_count": 174,
      "outputs": []
    },
    {
      "cell_type": "markdown",
      "source": [
        "Now we train our model for 5 epochs."
      ],
      "metadata": {
        "id": "FazQe40Ow86o"
      }
    },
    {
      "cell_type": "code",
      "source": [
        "history = model.fit(ds_train, epochs=epochs, validation_data=ds_test)"
      ],
      "metadata": {
        "id": "Bg3RV2MwbEb_"
      },
      "execution_count": null,
      "outputs": []
    },
    {
      "cell_type": "markdown",
      "source": [
        "This is a helper function to plot different predictions."
      ],
      "metadata": {
        "id": "MSZDssi-xsfo"
      }
    },
    {
      "cell_type": "code",
      "source": [
        "def show_predictions(ds, model):\n",
        "  ds = ds.unbatch()\n",
        "  ds = ds.batch(1)\n",
        "  ds = ds.shuffle(100,reshuffle_each_iteration=False)\n",
        "  ds = ds.take(6)\n",
        "  pred = model.predict(ds)\n",
        "  if pred.shape[-1] == 1:\n",
        "    pred = np.round(pred)\n",
        "  else:\n",
        "    pred = np.argmax(pred,-1)\n",
        "  ax =  plt.figure(figsize=(10,10))\n",
        "  for i, (img, label) in enumerate(ds):\n",
        "    ax = plt.subplot(2,3,i+1)\n",
        "    plt.imshow(img[0])\n",
        "    if tf.constant(label[0])==0:\n",
        "      label = 'cat'\n",
        "    else:\n",
        "      label = 'dog'\n",
        "    if pred[i] < 0.5:\n",
        "      plt.title('cat ('+label+')')\n",
        "    else:\n",
        "      plt.title('dog ('+label+')')\n",
        "  return ax"
      ],
      "metadata": {
        "id": "mKrbCa_Ds0ym"
      },
      "execution_count": 176,
      "outputs": []
    },
    {
      "cell_type": "code",
      "source": [
        "show_predictions(ds_test, model)"
      ],
      "metadata": {
        "id": "YGJq6LCPulqh"
      },
      "execution_count": null,
      "outputs": []
    },
    {
      "cell_type": "markdown",
      "source": [
        "There are things we can do in order to improve the performance of our model, first we are doing random data augmentation to make the neural network more robust to position of the object and generalize better:"
      ],
      "metadata": {
        "id": "iQgiHKOt03ye"
      }
    },
    {
      "cell_type": "code",
      "source": [
        "data_augmentation = keras.Sequential(\n",
        "    [\n",
        "        keras.layers.RandomFlip(\"horizontal\"),\n",
        "        keras.layers.RandomRotation(0.1),\n",
        "    ]\n",
        ")"
      ],
      "metadata": {
        "id": "Rdlr4WLP1de3"
      },
      "execution_count": 182,
      "outputs": []
    },
    {
      "cell_type": "code",
      "source": [
        "plt.figure(figsize=(10, 10))\n",
        "for images, _ in ds_train.take(1):\n",
        "    for i in range(9):\n",
        "        augmented_images = data_augmentation(images, training=True)\n",
        "        ax = plt.subplot(3, 3, i + 1)\n",
        "        plt.imshow(augmented_images[0].numpy())\n",
        "        plt.axis(\"off\")"
      ],
      "metadata": {
        "id": "U0t2yv4w1e1e"
      },
      "execution_count": null,
      "outputs": []
    },
    {
      "cell_type": "markdown",
      "source": [
        "The second thing to do is to build a deeper Neural Network, for this we are using separable convolutions and skip connections. This model is a small version of the [XCeption](https://arxiv.org/abs/1610.02357) model."
      ],
      "metadata": {
        "id": "4SeR_BAT3ODA"
      }
    },
    {
      "cell_type": "code",
      "source": [
        "def make_model(input_shape, num_classes):\n",
        "    inputs = keras.Input(shape=input_shape)\n",
        "    # Image augmentation block\n",
        "    x = data_augmentation(inputs)\n",
        "\n",
        "    # Entry block\n",
        "    x = keras.layers.Conv2D(32, 3, strides=2, padding=\"same\")(x)\n",
        "    x = keras.layers.BatchNormalization()(x)\n",
        "    x = keras.layers.Activation(\"relu\")(x)\n",
        "\n",
        "    x = keras.layers.Conv2D(64, 3, padding=\"same\")(x)\n",
        "    x = keras.layers.BatchNormalization()(x)\n",
        "    x = keras.layers.Activation(\"relu\")(x)\n",
        "\n",
        "    previous_block_activation = x  # Set aside residual\n",
        "\n",
        "    for size in [128, 256, 512, 728]:\n",
        "        x = keras.layers.Activation(\"relu\")(x)\n",
        "        x = keras.layers.SeparableConv2D(size, 3, padding=\"same\")(x)\n",
        "        x = keras.layers.BatchNormalization()(x)\n",
        "\n",
        "        x = keras.layers.Activation(\"relu\")(x)\n",
        "        x = keras.layers.SeparableConv2D(size, 3, padding=\"same\")(x)\n",
        "        x = keras.layers.BatchNormalization()(x)\n",
        "\n",
        "        x = keras.layers.MaxPooling2D(3, strides=2, padding=\"same\")(x)\n",
        "\n",
        "        # Project residual\n",
        "        residual = keras.layers.Conv2D(size, 1, strides=2, padding=\"same\")(\n",
        "            previous_block_activation\n",
        "        )\n",
        "        x = keras.layers.add([x, residual])  # Add back residual\n",
        "        previous_block_activation = x  # Set aside next residual\n",
        "\n",
        "    x = keras.layers.SeparableConv2D(1024, 3, padding=\"same\")(x)\n",
        "    x = keras.layers.BatchNormalization()(x)\n",
        "    x = keras.layers.Activation(\"relu\")(x)\n",
        "\n",
        "    x = keras.layers.GlobalAveragePooling2D()(x)\n",
        "    if num_classes == 2:\n",
        "        activation = \"sigmoid\"\n",
        "        units = 1\n",
        "    else:\n",
        "        activation = \"softmax\"\n",
        "        units = num_classes\n",
        "\n",
        "    x = keras.layers.Dropout(0.5)(x)\n",
        "    outputs = keras.layers.Dense(units, activation=activation)(x)\n",
        "    return keras.Model(inputs, outputs)\n",
        "\n",
        "\n",
        "model = make_model(input_shape=(180,180,3), num_classes=2)\n",
        "keras.utils.plot_model(model, show_shapes=True)"
      ],
      "metadata": {
        "id": "5i2_LrxpzntK"
      },
      "execution_count": null,
      "outputs": []
    },
    {
      "cell_type": "code",
      "source": [
        "epochs = 1\n",
        "\n",
        "model.compile(\n",
        "    optimizer=keras.optimizers.Adam(1e-3),\n",
        "    loss=\"binary_crossentropy\",\n",
        "    metrics=[\"accuracy\"],\n",
        ")"
      ],
      "metadata": {
        "id": "i-2I6fBS1IvQ"
      },
      "execution_count": 191,
      "outputs": []
    },
    {
      "cell_type": "code",
      "source": [
        "history = model.fit(\n",
        "    ds_train, epochs=epochs, validation_data=ds_test,\n",
        ")"
      ],
      "metadata": {
        "id": "woh_09zC-sHl"
      },
      "execution_count": null,
      "outputs": []
    },
    {
      "cell_type": "markdown",
      "source": [
        "This model takes longer to train so in order to gain time we have an already pre-trained model which we can load using keras."
      ],
      "metadata": {
        "id": "qJCcEwux4TRR"
      }
    },
    {
      "cell_type": "code",
      "source": [
        "!gdown 1GSBn2K2oJfd7C0JEJaXS4qQExwTRwUrm"
      ],
      "metadata": {
        "id": "B57y4l3wtbVN"
      },
      "execution_count": null,
      "outputs": []
    },
    {
      "cell_type": "code",
      "source": [
        "model = keras.models.load_model('cnn_pets.h5')"
      ],
      "metadata": {
        "id": "DYGtDFZRsgLb"
      },
      "execution_count": 193,
      "outputs": []
    },
    {
      "cell_type": "markdown",
      "source": [
        "We now see that the accuracy of the model on test data is of 96%."
      ],
      "metadata": {
        "id": "6wo6xl4e4hXx"
      }
    },
    {
      "cell_type": "code",
      "source": [
        "model.evaluate(ds_test)"
      ],
      "metadata": {
        "id": "xG4jFcoCbPP7"
      },
      "execution_count": null,
      "outputs": []
    },
    {
      "cell_type": "code",
      "source": [
        "show_predictions(ds_test, model)"
      ],
      "metadata": {
        "id": "rSkUNc-a-DIo"
      },
      "execution_count": null,
      "outputs": []
    }
  ]
}