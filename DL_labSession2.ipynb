{
  "nbformat": 4,
  "nbformat_minor": 0,
  "metadata": {
    "colab": {
      "name": "DL_labSession2.ipynb",
      "provenance": [],
      "toc_visible": true,
      "authorship_tag": "ABX9TyNf2Vr9A2+txoYNy6e1xP8d",
      "include_colab_link": true
    },
    "kernelspec": {
      "name": "python3",
      "display_name": "Python 3"
    },
    "accelerator": "GPU"
  },
  "cells": [
    {
      "cell_type": "markdown",
      "metadata": {
        "id": "view-in-github",
        "colab_type": "text"
      },
      "source": [
        "<a href=\"https://colab.research.google.com/github/ferngonzalezp/deep_learning_lab/blob/main/DL_labSession2.ipynb\" target=\"_parent\"><img src=\"https://colab.research.google.com/assets/colab-badge.svg\" alt=\"Open In Colab\"/></a>"
      ]
    },
    {
      "cell_type": "markdown",
      "metadata": {
        "id": "QnWRrOhkHfwi"
      },
      "source": [
        "# Introduction to Convolutional Neural Networks"
      ]
    },
    {
      "cell_type": "markdown",
      "metadata": {
        "id": "m5lK7-NbHorr"
      },
      "source": [
        "Convolutional neural networks or more commonly called by their abreviation \"CNNs\", is one of the most used architecure types of Neural Networks. These networks were inspired by the field of image processing, they use as building block the convolution operation instead of simple matrix multiplications. The use of convolutions have some advantages, such as:\r\n",
        "\r\n",
        "* Reduced memory requirements: with convolutions the weights are filter or kernels that pass through the whole image, for example a 3x3 kernel has in total 9 weights and can be used in any image whose dimensions are equal or bigger than the ones from the kernel, if we used a linear layer the number of weights increase linearly with the number of pixels in the image.\r\n",
        "\r\n",
        "* Convolutions are equivariant: this means that with convolutions we are able to identify features of an image regardless of their orientation. With a trained CNN for recognizing MNIST digits we can rotate the numbers or crop them and still be able to identify the number, this would be a hard task for linear layers."
      ]
    },
    {
      "cell_type": "markdown",
      "metadata": {
        "id": "lDkXNt0BVSTS"
      },
      "source": [
        "## What is a Convolution extacly?\r\n",
        "\r\n",
        "A convolution is the process of adding each element of the image to its local neighbors, weighted by the kernel. \r\n",
        "\r\n",
        "<img src='https://miro.medium.com/max/2400/1*VVvdh-BUKFh2pwDD0kPeRA@2x.gif'\r\n",
        "width=500 height=300>\r\n",
        "\r\n",
        "Convolutions also have certain parameters that control how they behave and the shape of their output:\r\n",
        "\r\n",
        "* **Stride**:  specifies how much we move the convolution filter at each step.\r\n",
        "\r\n",
        "Convolution with stride of 1: \\\\\r\n",
        "<img src='https://miro.medium.com/max/2400/1*L4T6IXRalWoseBncjRr4wQ@2x.gif'\r\n",
        "width=500 height=300> \\\\\r\n",
        "Convolution with stride of 2: \\\\\r\n",
        "<img src='https://miro.medium.com/max/2400/1*4wZt9G7W7CchZO-5rVxl5g@2x.gif'\r\n",
        "width=500 height=300> \\\\\r\n",
        "\r\n",
        "* **Padding**: these are extra values added arround the input image in order to achieve a desirable size of the reuslting operation. Normally the padding values are zeroes but others can be used like the values at the opposite edge.\\\\\r\n",
        "\r\n",
        "<img src='https://miro.medium.com/max/2400/1*W2D564Gkad9lj3_6t9I2PA@2x.gif'\r\n",
        "width=500 height=300> \\\\\r\n",
        "\r\n",
        "* **Dilation**: The dilations is the ammount of gap between the kernle weights, it can be seen as expanding the kernel to a bigger one and filling the gaps with zeroes. The default value of dilation is 1. \\\\\r\n",
        "\r\n",
        "<img src='https://www.researchgate.net/publication/320195101/figure/fig2/AS:669211164692494@1536563783748/Dilated-convolution-On-the-left-we-have-the-dilated-convolution-with-dilation-rate-r.png' width=600 height=300>\\\\\r\n",
        "\r\n",
        "The dimension of the output of a convolution can be calculated as:\r\n",
        "\r\n",
        "\\begin{equation}\r\n",
        "D_{o u t}=\\left\\lfloor\\frac{D_{i n}+2 \\times \\text { padding }-\\text { dilation } \\times(\\text { kernel_size }-1)-1}{\\text { stride }}+1 \\right\\rfloor\r\n",
        "\\end{equation}\r\n",
        "\r\n"
      ]
    },
    {
      "cell_type": "markdown",
      "metadata": {
        "id": "KOf8XyYZVZ8J"
      },
      "source": [
        "## Convolutional Neural Network for MNIST digits classification"
      ]
    },
    {
      "cell_type": "markdown",
      "metadata": {
        "id": "_yg97lraXsR-"
      },
      "source": [
        "Now we will try to solve the MNIST digit classification problem but using convolutions, we hope that by doing this we can increase accuracy."
      ]
    },
    {
      "cell_type": "code",
      "metadata": {
        "id": "035nGIiOHZi7"
      },
      "source": [
        "import torch\r\n",
        "import torch.nn as nn\r\n",
        "import torch.nn.functional as F\r\n",
        "import torchvision.datasets as datasets\r\n",
        "import torchvision\r\n",
        "import numpy as np\r\n",
        "import matplotlib.pyplot as plt"
      ],
      "execution_count": null,
      "outputs": []
    },
    {
      "cell_type": "markdown",
      "metadata": {
        "id": "lIfob-2fW5-e"
      },
      "source": [
        "If the dataset download doesn't work you can download the dataset from [here](http://yann.lecun.com/exdb/mnist/). Then save the .gz fikles under ./MNIST/raw/"
      ]
    },
    {
      "cell_type": "code",
      "metadata": {
        "id": "A10X-J5aYA7C",
        "colab": {
          "base_uri": "https://localhost:8080/"
        },
        "outputId": "fa96dc8d-d109-4996-aceb-62384e3a1a08"
      },
      "source": [
        "transform = torchvision.transforms.ToTensor\r\n",
        "train_dataset = datasets.MNIST(root='./',download=True, train=True, transform=transform())\r\n",
        "test_dataset = datasets.MNIST(root='./', train=False, transform=transform())"
      ],
      "execution_count": null,
      "outputs": [
        {
          "output_type": "stream",
          "text": [
            "Using downloaded and verified file: ./MNIST/raw/train-images-idx3-ubyte.gz\n",
            "Extracting ./MNIST/raw/train-images-idx3-ubyte.gz to ./MNIST/raw\n",
            "Using downloaded and verified file: ./MNIST/raw/train-labels-idx1-ubyte.gz\n",
            "Extracting ./MNIST/raw/train-labels-idx1-ubyte.gz to ./MNIST/raw\n",
            "Using downloaded and verified file: ./MNIST/raw/t10k-images-idx3-ubyte.gz\n",
            "Extracting ./MNIST/raw/t10k-images-idx3-ubyte.gz to ./MNIST/raw\n",
            "Using downloaded and verified file: ./MNIST/raw/t10k-labels-idx1-ubyte.gz\n",
            "Extracting ./MNIST/raw/t10k-labels-idx1-ubyte.gz to ./MNIST/raw\n",
            "Processing...\n",
            "Done!\n"
          ],
          "name": "stdout"
        },
        {
          "output_type": "stream",
          "text": [
            "/usr/local/lib/python3.7/dist-packages/torchvision/datasets/mnist.py:480: UserWarning: The given NumPy array is not writeable, and PyTorch does not support non-writeable tensors. This means you can write to the underlying (supposedly non-writeable) NumPy array using the tensor. You may want to copy the array to protect its data or make it writeable before converting it to a tensor. This type of warning will be suppressed for the rest of this program. (Triggered internally at  /pytorch/torch/csrc/utils/tensor_numpy.cpp:141.)\n",
            "  return torch.from_numpy(parsed.astype(m[2], copy=False)).view(*s)\n"
          ],
          "name": "stderr"
        }
      ]
    },
    {
      "cell_type": "code",
      "metadata": {
        "colab": {
          "base_uri": "https://localhost:8080/",
          "height": 300
        },
        "id": "AR8eLOAQZHXb",
        "outputId": "bb8cc5d8-1155-4417-c427-cc95ff648c7a"
      },
      "source": [
        "example = train_dataset[np.random.randint(0,len(train_dataset))]\r\n",
        "plt.imshow(example[0][0], cmap='gray')\r\n",
        "plt.title(example[1])"
      ],
      "execution_count": null,
      "outputs": [
        {
          "output_type": "execute_result",
          "data": {
            "text/plain": [
              "Text(0.5, 1.0, '2')"
            ]
          },
          "metadata": {
            "tags": []
          },
          "execution_count": 8
        },
        {
          "output_type": "display_data",
          "data": {
            "image/png": "[encoded data removed]",
            "text/plain": [
              "<Figure size 432x288 with 1 Axes>"
            ]
          },
          "metadata": {
            "tags": [],
            "needs_background": "light"
          }
        }
      ]
    },
    {
      "cell_type": "markdown",
      "metadata": {
        "id": "rtG862P9e9Vc"
      },
      "source": [
        "We will build a simple convolutional neural network for this task. The idea behind this CNN is to have some feature extraction layers using convolutions and then a fully connected output layer to compute the prediction of the labels.\r\n",
        "\r\n",
        "<img src='https://drive.google.com/uc?id=1x989PyIOJSE3gCUaM2DmmOMKYLnsvx9w' width=800 height=400> \\\\\r\n",
        "\r\n",
        "To reduce the dimensionality of the image we use a pooling operation.  This enables us to reduce the number of parameters, which both shortens the training time and combats overfitting. Pooling layers downsample each feature map independently, reducing the height and width, keeping the depth intact.\r\n",
        "\r\n",
        "The most common type of pooling is max pooling which just takes the max value in the pooling window. Contrary to the convolution operation, pooling has no parameters. It slides a window over its input, and simply takes the max value in the window. Similar to a convolution, we specify the window size and stride.\r\n",
        "\r\n",
        "Here is the result of max pooling using a 2x2 window and stride 2. Each color denotes a different window. Since both the window size and stride are 2, the windows are not overlapping. \\\\\r\n",
        "\r\n",
        "<img src='https://miro.medium.com/max/2400/1*ReZNSf_Yr7Q1nqegGirsMQ@2x.png' widht=600 height=300> \\\\\r\n",
        "\r\n",
        "The activation we use between convolutions is the rectified Linear unit (ReLU) and softmax in the output. We build our CNN pytorch module as follows: \\\\"
      ]
    },
    {
      "cell_type": "code",
      "metadata": {
        "id": "a5G1Mfd1YR76"
      },
      "source": [
        "class cnn(nn.Module):\r\n",
        "  def __init__(self):\r\n",
        "    super(cnn,self).__init__()\r\n",
        "    self.feature_extraction = nn.Sequential(\r\n",
        "        nn.Conv2d(1,16,kernel_size=3,stride=1,padding=1),\r\n",
        "        nn.ReLU(),\r\n",
        "        nn.MaxPool2d(kernel_size=2, stride=2),\r\n",
        "        nn.Conv2d(16,32,kernel_size=3,stride=1,padding=1),\r\n",
        "        nn.ReLU(),\r\n",
        "        nn.MaxPool2d(kernel_size=2, stride=2),\r\n",
        "    )\r\n",
        "    self.fc = nn.Sequential(\r\n",
        "        nn.Linear(32*7*7,10),\r\n",
        "        nn.Softmax(dim=1)\r\n",
        "    )\r\n",
        "  def forward(self,x):\r\n",
        "    x = self.feature_extraction(x)\r\n",
        "    x = torch.flatten(x,1)\r\n",
        "    return self.fc(x)"
      ],
      "execution_count": null,
      "outputs": []
    },
    {
      "cell_type": "markdown",
      "metadata": {
        "id": "LNDzLTPLjiIs"
      },
      "source": [
        "Now the remaining part of the code remains the same just as in classification with MLP.\r\n",
        "____"
      ]
    },
    {
      "cell_type": "code",
      "metadata": {
        "id": "ZQ1OggBzcv8U"
      },
      "source": [
        "#Use GPU if available\r\n",
        "device = torch.device(\"cuda:0\" if torch.cuda.is_available() else \"cpu\")"
      ],
      "execution_count": null,
      "outputs": []
    },
    {
      "cell_type": "code",
      "metadata": {
        "id": "yICEVx96bnl0"
      },
      "source": [
        "model = cnn().to(device)"
      ],
      "execution_count": null,
      "outputs": []
    },
    {
      "cell_type": "code",
      "metadata": {
        "colab": {
          "base_uri": "https://localhost:8080/"
        },
        "id": "uKH7O4HAbq0c",
        "outputId": "4d0420ee-221f-443a-99d9-a648bec308c8"
      },
      "source": [
        "print(model)\r\n",
        "pytorch_total_params = sum(p.numel() for p in model.parameters())\r\n",
        "print(\"number of parameters in model: %d\"%(pytorch_total_params))"
      ],
      "execution_count": null,
      "outputs": [
        {
          "output_type": "stream",
          "text": [
            "cnn(\n",
            "  (feature_extraction): Sequential(\n",
            "    (0): Conv2d(1, 16, kernel_size=(3, 3), stride=(1, 1), padding=(1, 1))\n",
            "    (1): ReLU()\n",
            "    (2): MaxPool2d(kernel_size=2, stride=2, padding=0, dilation=1, ceil_mode=False)\n",
            "    (3): Conv2d(16, 32, kernel_size=(3, 3), stride=(1, 1), padding=(1, 1))\n",
            "    (4): ReLU()\n",
            "    (5): MaxPool2d(kernel_size=2, stride=2, padding=0, dilation=1, ceil_mode=False)\n",
            "  )\n",
            "  (fc): Sequential(\n",
            "    (0): Linear(in_features=1568, out_features=10, bias=True)\n",
            "    (1): Softmax(dim=1)\n",
            "  )\n",
            ")\n",
            "number of parameters in model: 20490\n"
          ],
          "name": "stdout"
        }
      ]
    },
    {
      "cell_type": "code",
      "metadata": {
        "id": "8R36CSmvc26J"
      },
      "source": [
        "#Hyperparameters\r\n",
        "batch_size = 100\r\n",
        "n_epochs = 10\r\n",
        "learn_rate = 2e-1"
      ],
      "execution_count": null,
      "outputs": []
    },
    {
      "cell_type": "code",
      "metadata": {
        "id": "TBTiEc13c6M9"
      },
      "source": [
        "#DataLoaders\r\n",
        "train_loader = torch.utils.data.DataLoader(train_dataset, batch_size=batch_size, shuffle=True)\r\n",
        "test_loader = torch.utils.data.DataLoader(test_dataset, batch_size=batch_size)"
      ],
      "execution_count": null,
      "outputs": []
    },
    {
      "cell_type": "code",
      "metadata": {
        "id": "8CQgmx71c86k"
      },
      "source": [
        "#Loss function and Optimizer\r\n",
        "criterion = nn.BCELoss()\r\n",
        "optimizer = torch.optim.SGD(model.parameters(),lr=learn_rate)"
      ],
      "execution_count": null,
      "outputs": []
    },
    {
      "cell_type": "code",
      "metadata": {
        "colab": {
          "base_uri": "https://localhost:8080/"
        },
        "id": "OrZ6XcfKc_Fk",
        "outputId": "299ebdaa-0f6c-43a2-ec73-0716f41ea651"
      },
      "source": [
        "#Training Loop\r\n",
        "train_loss = []\r\n",
        "val_loss = []\r\n",
        "for epoch in range(n_epochs):  # loop over the dataset multiple times\r\n",
        "    epoch_loss = 0.0\r\n",
        "    running_loss = 0.0\r\n",
        "    for i, data in enumerate(train_loader, 0):\r\n",
        "        # get the inputs; data is a list of [inputs, labels]\r\n",
        "        inputs, labels = data\r\n",
        "        inputs = inputs.to(device)\r\n",
        "        labels = F.one_hot(labels,10).type_as(inputs)\r\n",
        "        # zero the parameter gradients\r\n",
        "        optimizer.zero_grad()\r\n",
        "\r\n",
        "        # forward + backward + optimize\r\n",
        "        outputs = model(inputs)\r\n",
        "        loss = criterion(outputs, labels)\r\n",
        "        loss.backward()\r\n",
        "        optimizer.step()\r\n",
        "        epoch_loss += loss.item()\r\n",
        "        # print statistics\r\n",
        "        running_loss += loss.item()\r\n",
        "\r\n",
        "        if i % 50 == 49:    # print every 50 mini-batches\r\n",
        "            print('[%d, %5d] loss: %.3f' %\r\n",
        "                  (epoch + 1, i + 1, running_loss / 50))\r\n",
        "            running_loss = 0.0\r\n",
        "    train_loss.append(epoch_loss/(i+1))\r\n",
        "    #Evaluation of the trained model\r\n",
        "    correct = 0\r\n",
        "    total = 0\r\n",
        "    epoch_loss = 0.0\r\n",
        "    print(\"validating...\")\r\n",
        "    with torch.no_grad():\r\n",
        "        for i, data in enumerate(test_loader, 0):\r\n",
        "            inputs, labels = data\r\n",
        "            inputs = inputs.to(device)\r\n",
        "            outputs = model(inputs)\r\n",
        "            predicted = torch.argmax(outputs,dim=1)\r\n",
        "            loss = criterion(outputs, F.one_hot(labels,10).type_as(inputs))\r\n",
        "            labels =  labels.type_as(inputs)\r\n",
        "            total += labels.shape[0]\r\n",
        "            correct += (predicted == labels).sum().item()\r\n",
        "            epoch_loss += loss.item()\r\n",
        "    print('Accuracy of the network on the test images: %d %%' % (\r\n",
        "        100 * correct / total))\r\n",
        "    val_loss.append(epoch_loss/(i+1))\r\n",
        "\r\n",
        "print('Finished Training')"
      ],
      "execution_count": null,
      "outputs": [
        {
          "output_type": "stream",
          "text": [
            "[1,    50] loss: 0.319\n",
            "[1,   100] loss: 0.260\n",
            "[1,   150] loss: 0.137\n",
            "[1,   200] loss: 0.101\n",
            "[1,   250] loss: 0.077\n",
            "[1,   300] loss: 0.067\n",
            "[1,   350] loss: 0.058\n",
            "[1,   400] loss: 0.056\n",
            "[1,   450] loss: 0.051\n",
            "[1,   500] loss: 0.047\n",
            "[1,   550] loss: 0.040\n",
            "[1,   600] loss: 0.040\n",
            "validating...\n",
            "Accuracy of the network on the test images: 94 %\n",
            "[2,    50] loss: 0.039\n",
            "[2,   100] loss: 0.035\n",
            "[2,   150] loss: 0.036\n",
            "[2,   200] loss: 0.030\n",
            "[2,   250] loss: 0.032\n",
            "[2,   300] loss: 0.031\n",
            "[2,   350] loss: 0.028\n",
            "[2,   400] loss: 0.025\n",
            "[2,   450] loss: 0.028\n",
            "[2,   500] loss: 0.024\n",
            "[2,   550] loss: 0.026\n",
            "[2,   600] loss: 0.023\n",
            "validating...\n",
            "Accuracy of the network on the test images: 96 %\n",
            "[3,    50] loss: 0.022\n",
            "[3,   100] loss: 0.021\n",
            "[3,   150] loss: 0.022\n",
            "[3,   200] loss: 0.021\n",
            "[3,   250] loss: 0.020\n",
            "[3,   300] loss: 0.021\n",
            "[3,   350] loss: 0.021\n",
            "[3,   400] loss: 0.021\n",
            "[3,   450] loss: 0.018\n",
            "[3,   500] loss: 0.019\n",
            "[3,   550] loss: 0.020\n",
            "[3,   600] loss: 0.017\n",
            "validating...\n",
            "Accuracy of the network on the test images: 97 %\n",
            "[4,    50] loss: 0.017\n",
            "[4,   100] loss: 0.017\n",
            "[4,   150] loss: 0.017\n",
            "[4,   200] loss: 0.017\n",
            "[4,   250] loss: 0.017\n",
            "[4,   300] loss: 0.017\n",
            "[4,   350] loss: 0.016\n",
            "[4,   400] loss: 0.016\n",
            "[4,   450] loss: 0.015\n",
            "[4,   500] loss: 0.016\n",
            "[4,   550] loss: 0.017\n",
            "[4,   600] loss: 0.014\n",
            "validating...\n",
            "Accuracy of the network on the test images: 97 %\n",
            "[5,    50] loss: 0.015\n",
            "[5,   100] loss: 0.014\n",
            "[5,   150] loss: 0.013\n",
            "[5,   200] loss: 0.016\n",
            "[5,   250] loss: 0.015\n",
            "[5,   300] loss: 0.013\n",
            "[5,   350] loss: 0.015\n",
            "[5,   400] loss: 0.014\n",
            "[5,   450] loss: 0.014\n",
            "[5,   500] loss: 0.013\n",
            "[5,   550] loss: 0.014\n",
            "[5,   600] loss: 0.013\n",
            "validating...\n",
            "Accuracy of the network on the test images: 97 %\n",
            "[6,    50] loss: 0.014\n",
            "[6,   100] loss: 0.015\n",
            "[6,   150] loss: 0.013\n",
            "[6,   200] loss: 0.014\n",
            "[6,   250] loss: 0.012\n",
            "[6,   300] loss: 0.013\n",
            "[6,   350] loss: 0.011\n",
            "[6,   400] loss: 0.012\n",
            "[6,   450] loss: 0.012\n",
            "[6,   500] loss: 0.011\n",
            "[6,   550] loss: 0.013\n",
            "[6,   600] loss: 0.013\n",
            "validating...\n",
            "Accuracy of the network on the test images: 98 %\n",
            "[7,    50] loss: 0.013\n",
            "[7,   100] loss: 0.010\n",
            "[7,   150] loss: 0.012\n",
            "[7,   200] loss: 0.011\n",
            "[7,   250] loss: 0.011\n",
            "[7,   300] loss: 0.011\n",
            "[7,   350] loss: 0.012\n",
            "[7,   400] loss: 0.012\n",
            "[7,   450] loss: 0.011\n",
            "[7,   500] loss: 0.011\n",
            "[7,   550] loss: 0.012\n",
            "[7,   600] loss: 0.013\n",
            "validating...\n",
            "Accuracy of the network on the test images: 98 %\n",
            "[8,    50] loss: 0.011\n",
            "[8,   100] loss: 0.010\n",
            "[8,   150] loss: 0.012\n",
            "[8,   200] loss: 0.011\n",
            "[8,   250] loss: 0.011\n",
            "[8,   300] loss: 0.011\n",
            "[8,   350] loss: 0.012\n",
            "[8,   400] loss: 0.010\n",
            "[8,   450] loss: 0.008\n",
            "[8,   500] loss: 0.011\n",
            "[8,   550] loss: 0.011\n",
            "[8,   600] loss: 0.012\n",
            "validating...\n",
            "Accuracy of the network on the test images: 98 %\n",
            "[9,    50] loss: 0.010\n",
            "[9,   100] loss: 0.010\n",
            "[9,   150] loss: 0.010\n",
            "[9,   200] loss: 0.010\n",
            "[9,   250] loss: 0.010\n",
            "[9,   300] loss: 0.011\n",
            "[9,   350] loss: 0.010\n",
            "[9,   400] loss: 0.010\n",
            "[9,   450] loss: 0.011\n",
            "[9,   500] loss: 0.011\n",
            "[9,   550] loss: 0.010\n",
            "[9,   600] loss: 0.010\n",
            "validating...\n",
            "Accuracy of the network on the test images: 98 %\n",
            "[10,    50] loss: 0.010\n",
            "[10,   100] loss: 0.009\n",
            "[10,   150] loss: 0.010\n",
            "[10,   200] loss: 0.010\n",
            "[10,   250] loss: 0.010\n",
            "[10,   300] loss: 0.011\n",
            "[10,   350] loss: 0.009\n",
            "[10,   400] loss: 0.008\n",
            "[10,   450] loss: 0.012\n",
            "[10,   500] loss: 0.010\n",
            "[10,   550] loss: 0.010\n",
            "[10,   600] loss: 0.008\n",
            "validating...\n",
            "Accuracy of the network on the test images: 98 %\n",
            "Finished Training\n"
          ],
          "name": "stdout"
        }
      ]
    },
    {
      "cell_type": "code",
      "metadata": {
        "colab": {
          "base_uri": "https://localhost:8080/",
          "height": 314
        },
        "id": "ICBze3WJdUmt",
        "outputId": "2a5fccb8-be2e-4d1d-dd74-f0a60533fbff"
      },
      "source": [
        "plt.plot(train_loss, label='training')\r\n",
        "plt.plot(val_loss, label='validation')\r\n",
        "plt.legend()\r\n",
        "plt.title('Loss')\r\n",
        "plt.xlabel('Epochs')\r\n",
        "plt.ylabel('Loss')"
      ],
      "execution_count": null,
      "outputs": [
        {
          "output_type": "execute_result",
          "data": {
            "text/plain": [
              "Text(0, 0.5, 'Loss')"
            ]
          },
          "metadata": {
            "tags": []
          },
          "execution_count": 18
        },
        {
          "output_type": "display_data",
          "data": {
            "image/png": "[encoded data removed]",
            "text/plain": [
              "<Figure size 432x288 with 1 Axes>"
            ]
          },
          "metadata": {
            "tags": [],
            "needs_background": "light"
          }
        }
      ]
    },
    {
      "cell_type": "markdown",
      "metadata": {
        "id": "ff9IY2oIjyMC"
      },
      "source": [
        "We can observe thet we achieve a higher accuracy with a CNN and with less training, even after the first epoch we got the same accuracy of the treined MLP."
      ]
    },
    {
      "cell_type": "code",
      "metadata": {
        "colab": {
          "base_uri": "https://localhost:8080/"
        },
        "id": "TDpuBjU0dXHc",
        "outputId": "7dd92130-7873-4e64-991b-d5f7e06e48dc"
      },
      "source": [
        "#Evaluation of the trained model\r\n",
        "correct = 0\r\n",
        "total = 0\r\n",
        "with torch.no_grad():\r\n",
        "    for i, data in enumerate(test_loader, 0):\r\n",
        "        inputs, labels = data\r\n",
        "        inputs = inputs.to(device)\r\n",
        "        labels =  labels.type_as(inputs)\r\n",
        "        outputs = model(inputs)\r\n",
        "        predicted = torch.argmax(outputs,dim=1)\r\n",
        "        total += labels.shape[0]\r\n",
        "        correct += (predicted == labels).sum().item()\r\n",
        "\r\n",
        "print('Accuracy of the network on the test images: %d %%' % (\r\n",
        "    100 * correct / total))"
      ],
      "execution_count": null,
      "outputs": [
        {
          "output_type": "stream",
          "text": [
            "Accuracy of the network on the test images: 98 %\n"
          ],
          "name": "stdout"
        }
      ]
    },
    {
      "cell_type": "markdown",
      "metadata": {
        "id": "I1cBu14ekBLU"
      },
      "source": [
        "Let's plot some image to see how the model performs."
      ]
    },
    {
      "cell_type": "code",
      "metadata": {
        "colab": {
          "base_uri": "https://localhost:8080/",
          "height": 525
        },
        "id": "veuoQ101dZf8",
        "outputId": "16712731-330b-46e5-e308-49c2a28479da"
      },
      "source": [
        "from math import ceil\r\n",
        "n_samples = 6\r\n",
        "id = np.random.randint(0,len(test_dataset),n_samples)\r\n",
        "rows = ceil(n_samples/3)\r\n",
        "plt.figure(figsize=(rows*5,10))\r\n",
        "for i in range(len(id)):\r\n",
        "  images = test_dataset[id[i]][0].to(device)\r\n",
        "  pred_labels = torch.argmax(model(images.unsqueeze(0)),dim=1)[0]\r\n",
        "  plt.subplot(rows,3,i+1)\r\n",
        "  plt.imshow(images[0].cpu(), cmap='gray')\r\n",
        "  plt.title('prediction: %d'%(pred_labels))"
      ],
      "execution_count": null,
      "outputs": [
        {
          "output_type": "display_data",
          "data": {
            "image/png": "[encoded data removed]",
            "text/plain": [
              "<Figure size 720x720 with 6 Axes>"
            ]
          },
          "metadata": {
            "tags": [],
            "needs_background": "light"
          }
        }
      ]
    },
    {
      "cell_type": "markdown",
      "metadata": {
        "id": "XnuDHl6_Yfv8"
      },
      "source": [
        "# Tricks that help with performance, convergence and generalization"
      ]
    },
    {
      "cell_type": "markdown",
      "metadata": {
        "id": "NgDDv3qaYpnz"
      },
      "source": [
        "Using convolutional layers helps a lot in the performance of commputer vision, however for real wolrs applications and more difficult tasks it may not be enough. For that reason there exists a bag of tricks that drive CNNs towards greater accuracy, generalization and capacity for handling more complicated tasks. Here we will talk about some of the most used that are present nowadays in most of deep learning models."
      ]
    },
    {
      "cell_type": "markdown",
      "metadata": {
        "id": "CaDKqn3haGdo"
      },
      "source": [
        "## Batch Normalization"
      ]
    },
    {
      "cell_type": "markdown",
      "metadata": {
        "id": "_6it1-DIgbSX"
      },
      "source": [
        "Batch normalization is used to fix the variance of the input of an activation function. This helps in reducuing the internal covariance shift in a neural networks as well as more practical benefits such as reducing the probability of having vanishing or exploding gradients and reducing generalization error. What BatchNorm does is first it calculates the mean and variance of the current mini-batch:\r\n",
        "\r\n",
        "\\begin{equation}\r\n",
        "\\mu_{B}=\\frac{1}{m} \\sum_{i=1}^{m} x_{i} \\text { , and } \\sigma_{B}^{2}=\\frac{1}{m} \\sum_{i=1}^{m}\\left(x_{i}-\\mu_{B}\\right)^{2}\r\n",
        "\\end{equation}\r\n",
        "\r\n",
        "Then normalizes the input of the layer as:\r\n",
        "\r\n",
        "\\begin{equation}\r\n",
        "\\hat{x}_{i}^{(k)}=\\frac{x_{i}^{(k)}-\\mu_{B}^{(k)}}{\\sqrt{\\sigma_{B}^{(k)^{2}}+\\epsilon}}\r\n",
        "\\end{equation}\r\n",
        "\r\n",
        "Where $k \\in[1, d] \\text { is the dimension number and } i \\in[1, m] \\text{ is the ith layer of the network}; \\mu_{B}^{(k)} \\text { and } \\sigma_{B}^{(k)} \\text{ are the per dimension mean and variance}$\r\n",
        "\r\n",
        "$\\epsilon$ is added in the denominator for numerical stability and is an arbitrarily small constant. The resulting normalized activation $\\hat{x}_{i}^{(k)}$ have zero mean and unit variance if $\\epsilon$ is not taken into account. To restore the representation power of the network, a transformation step then follows as:\r\n",
        "\r\n",
        "\\begin{equation}\r\n",
        "y_{i}^{(k)}=\\gamma^{(k)} \\hat{x}_{i}^{(k)}+\\beta^{(k)}\r\n",
        "\\end{equation}\r\n",
        "\r\n",
        "Where $\\gamma$ and $\\beta$ are learnable parameters. Implementing BatchNorm is very straightforward in pytorch. In [pytorch](https://pytorch.org/docs/stable/generated/torch.nn.BatchNorm2d.html#torch.nn.BatchNorm2d) we have the module **BatchNorm1d, BatchNorm2d, BatchNorm3d** depending in the dimensionality of our input, we need also to specify the number of features.  In a module we can use batchNorm like this:\r\n",
        "\r\n",
        "\r\n",
        "```\r\n",
        "self.feature_extraction = nn.Sequential(\r\n",
        "        nn.Conv2d(1,16,kernel_size=3,stride=1,padding=1),\r\n",
        "        nn.BatchNorm2d(16),\r\n",
        "        nn.ReLU(),\r\n",
        "        nn.MaxPool2d(kernel_size=2, stride=2),\r\n",
        "        nn.Conv2d(16,32,kernel_size=3,stride=1,padding=1),\r\n",
        "        nn.BatchNorm2d(32),\r\n",
        "        nn.ReLU(),\r\n",
        "        nn.MaxPool2d(kernel_size=2, stride=2),\r\n",
        "    )\r\n",
        "```\r\n",
        "\r\n",
        "\r\n",
        "\r\n"
      ]
    },
    {
      "cell_type": "markdown",
      "metadata": {
        "id": "jzlGbUbSmEth"
      },
      "source": [
        "## Momentum and other optimizers"
      ]
    },
    {
      "cell_type": "markdown",
      "metadata": {
        "id": "o7hyk1fcmIsY"
      },
      "source": [
        "Stochastic gradient descent is the basis of a family of gradient-based algorithms used for deep learning. As we have seen, SGD is not perfetc and there are ways to boost its performance. One of the most fundamental techniques used to better the convergence of SGD is momentum.  The most intuitive way to understand momentum is making an anlogy with the physical world, imagine we have a sphere that goes with a initial speed, if the sphere encounters an uphill it may get stucked because its momentum is not enough for conquering gravity. We can overcome this problem if we add a bigger slope before hill so we can reach our goal at the end.\r\n",
        "\r\n",
        "<img src=\"https://drive.google.com/uc?id=1x7Rq43khSRRH9heFsxitjXfxBLaNdDTa\" width=600 height=300>\r\n",
        "\r\n",
        "In gradient descent, momentum adapts the learning rate in order to accelerate convergence.\r\n",
        "\r\n",
        "<img src=\"https://drive.google.com/uc?id=1VGj-lN9Q3eL88XDxu1KaW1C7gXj3pggi\" width=600 height=300>\r\n",
        "\r\n",
        "In stochastic gradient descent with momentum, information of the previous updating step is used to update the current one:\r\n",
        "\r\n",
        "\\begin{equation}\r\n",
        "\\begin{array}{l}\r\n",
        "v_{t+1}=\\mu * v_{t}+g_{t+1} \\\\\r\n",
        "p_{t+1}=p_{t}-\\operatorname{lr} * v_{t+1}\r\n",
        "\\end{array}\r\n",
        "\\end{equation}\r\n",
        "\r\n",
        "Where $p, g, v \\text{ and } \\mu$ denote the parameters, gradient, velocity and momentum respectively. In this case momentum is an hyperparameter where its value we can set, if it is 0 then we have normal SGD.\r\n",
        "\r\n",
        "As said earlier there are many algorithms that can be used for opimizing a Neural Network, In the pytorch [documentation](https://pytorch.org/docs/stable/optim.html#algorithms) you can find more information about them and see what is available for you to solve your problem."
      ]
    },
    {
      "cell_type": "markdown",
      "metadata": {
        "id": "X_jp4AMxwGNg"
      },
      "source": [
        "# Build a classificator for the Fashion MNIST dataset"
      ]
    },
    {
      "cell_type": "markdown",
      "metadata": {
        "id": "89NQzD2L3LMf"
      },
      "source": [
        "Now we will build a classificator for the fashion MNIST dataset. In the words of the author:\r\n",
        "\r\n",
        "\"Fashion-MNIST is a dataset of Zalando's article images—consisting of a training set of 60,000 examples and a test set of 10,000 examples. Each example is a 28x28 grayscale image, associated with a label from 10 classes. We intend Fashion-MNIST to serve as a direct drop-in replacement for the original MNIST dataset for benchmarking machine learning algorithms. It shares the same image size and structure of training and testing splits.\"\r\n",
        "\r\n",
        "to download the dataset you can clone github repo with the command:\r\n",
        "```\r\n",
        "!git clone git@github.com:zalandoresearch/fashion-mnist.git\r\n",
        "```\r\n",
        "\r\n",
        "Or you can use the function in [torchvision](https://pytorch.org/vision/stable/datasets.html#fashion-mnist).\r\n",
        "\r\n",
        "This practice will be free, and use of the documentation, working in groups and asking the instructor is encouraged. At the end you should build and test your model which needs to be reproductible in another computer. This problem have the following requirements:\r\n",
        "\r\n",
        "1.   You should build two models: One an MLP and the other a CNN.\r\n",
        "2.   You should use both models on MNIST and Fashion-MNIST.\r\n",
        "3.   In the MLP model, keeping all the parameters the same, study the effect of increasing the number of layers of the network, use 2, 8 and 16 hidden layers. Make a graph of the accuray respect to the number of layers for both MNIST and Fashion-MNIST.\r\n",
        "4.   Your can use batchNorm, dropout or any other techique that helps\r\n",
        " the number of layers and parameters of convolutions is free too.\r\n",
        "5.   Use both SGD, SGD with momentum and Adam optimizer in the CNN, make a graph comparing the training loss curve with three optimizers for both datasets.\r\n",
        "6.   Feel free to work in groups, search the web and ask questions but reporting remains individual.\r\n",
        "7.   The metric to be used is accuracy but you can use as loss function binary cross entropy as before or any other.\r\n",
        "8.   You must include the code of everything you did which should give all of the results.\r\n",
        "\r\n",
        "At the end you should write a report containing the following:\r\n",
        "\r\n",
        "*   The training and validations curves of both models for the two datasets.\r\n",
        "*   The graph comparing the effect of number of layers in the MLP for the two datastes.\r\n",
        "*   The graph comparing the effect of optimizer descibred in (4).\r\n",
        "*   A table of accuracy containing rows for the dataset and colummns of model.\r\n",
        "*   A table summarizing the hyperparameters used for both models.\r\n",
        "\r\n",
        "At the end we will make a leaderboard to see who could design a model that achieves the highest accuracy for Fashion-MNIST.\r\n",
        "\r\n"
      ]
    }
  ]
}