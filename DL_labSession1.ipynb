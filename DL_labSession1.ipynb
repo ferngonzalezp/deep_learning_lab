{
  "nbformat": 4,
  "nbformat_minor": 0,
  "metadata": {
    "colab": {
      "name": "DL_labSession1.ipynb",
      "provenance": [],
      "toc_visible": true,
      "authorship_tag": "ABX9TyPQnOM5Widei5rNKnVsMQx0",
      "include_colab_link": true
    },
    "kernelspec": {
      "name": "python3",
      "display_name": "Python 3"
    }
  },
  "cells": [
    {
      "cell_type": "markdown",
      "metadata": {
        "id": "view-in-github",
        "colab_type": "text"
      },
      "source": [
        "<a href=\"https://colab.research.google.com/github/ferngonzalezp/deep_learning_lab/blob/main/DL_labSession1.ipynb\" target=\"_parent\"><img src=\"https://colab.research.google.com/assets/colab-badge.svg\" alt=\"Open In Colab\"/></a>"
      ]
    },
    {
      "cell_type": "markdown",
      "metadata": {
        "id": "wGrRoyk-ARTT"
      },
      "source": [
        "#Introduction to Deep Learning with Python: session 1"
      ]
    },
    {
      "cell_type": "markdown",
      "metadata": {
        "id": "qLUXc-MIAlg-"
      },
      "source": [
        "Welcome to this introduction of Deep Learning with Python. This lab sessions are designed to give the student a practical introduction to the world of Deep Learning along with some theory. After the course completion you will have learned:\r\n",
        "\r\n",
        "\r\n",
        "\r\n",
        "*   What is Deep Learning.\r\n",
        "*   What is a Nerual Network.\r\n",
        "*   How Nerual Networks are trained, basics of Stochastic Gradient descent.\r\n",
        "*   Handwritten digit Classification.\r\n",
        "*   Convolutional Neural Networks, uses in Computer Vision.\r\n",
        "*   Detection of diseases in medical images.\r\n",
        "*   Recurrent Neural Networks.\r\n",
        "*   Examples in Natural Language processing.\r\n",
        "*   How to train and build your own models.\r\n",
        "\r\n",
        "\r\n",
        "\r\n",
        "---\r\n",
        "\r\n"
      ]
    },
    {
      "cell_type": "markdown",
      "metadata": {
        "id": "L9o9ahf-Fd_b"
      },
      "source": [
        "#Inital Motivation for Deep Learning"
      ]
    },
    {
      "cell_type": "markdown",
      "metadata": {
        "id": "WGe9ksLQHouG"
      },
      "source": [
        "Deep Learning has gained recent Interest in the last years, and for good reason. It has allowed scientist and engineers to achieve tasks with greater degree of accuracy that couldn't be achieved before with other methods. Right now deep learning has been used extensively in the following tasks in which is the best method there is right now:\r\n",
        "\r\n",
        "\r\n",
        "* Natural language processing (NLP): Answering questions; speech recognition; summarizing documents; classifying documents; finding names, dates, etc. in documents; searching for articles mentioning a concept\r\n",
        "*   Computer vision:: Satellite and drone imagery interpretation (e.g., for disaster resilience); face recognition; image captioning; reading traffic signs; locating pedestrians and vehicles in autonomous vehicles\r\n",
        "*    Medicine:: Finding anomalies in radiology images, including CT, MRI, and X-ray images; counting features in pathology slides; measuring features in ultrasounds; diagnosing diabetic retinopathy\r\n",
        "*    Biology:: Folding proteins; classifying proteins; many genomics tasks, such as tumor-normal sequencing and classifying clinically actionable genetic mutations; cell classification; analyzing protein/protein interactions\r\n",
        "*    Image generation:: Colorizing images; increasing image resolution; removing noise from images; converting images to art in the style of famous artists\r\n",
        "*    Recommendation systems:: Web search; product recommendations; home page layout\r\n",
        "*    Playing games:: Chess, Go, most Atari video games, and many real-time strategy games\r\n",
        "*    Robotics:: Handling objects that are challenging to locate (e.g., transparent, shiny, lacking texture) or hard to pick up\r\n",
        "*    Other applications:: Financial and logistical forecasting, text to speech, and much more...\r\n"
      ]
    },
    {
      "cell_type": "markdown",
      "metadata": {
        "id": "IfrhaBqzJdc_"
      },
      "source": [
        "## Some cool examples"
      ]
    },
    {
      "cell_type": "markdown",
      "metadata": {
        "id": "_hTYcSu6JiqY"
      },
      "source": [
        "* [DALL-E](https://openai.com/blog/dall-e/): Image generation from text prompts.\r\n",
        "\r\n",
        "![image](./images/dalle_example.PNG \"Title\")\r\n"
      ]
    },
    {
      "cell_type": "code",
      "metadata": {
        "id": "WJkZGq39_xTi"
      },
      "source": [
        ""
      ],
      "execution_count": null,
      "outputs": []
    }
  ]
}