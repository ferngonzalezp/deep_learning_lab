{
  "nbformat": 4,
  "nbformat_minor": 0,
  "metadata": {
    "colab": {
      "name": "DL_labSession1_solution.ipynb",
      "provenance": [],
      "toc_visible": true,
      "mount_file_id": "1uUsrfzZO7DFFiaoJyh-O0W_oCJcrwYbE",
      "authorship_tag": "ABX9TyNH4Ix/Bkytxb7JpT/ewx8V",
      "include_colab_link": true
    },
    "kernelspec": {
      "name": "python3",
      "display_name": "Python 3"
    },
    "accelerator": "GPU",
    "widgets": {
      "application/vnd.jupyter.widget-state+json": {
        "1ca31c4d4ca7423f8d6006767391d495": {
          "model_module": "@jupyter-widgets/controls",
          "model_name": "HBoxModel",
          "state": {
            "_view_name": "HBoxView",
            "_dom_classes": [],
            "_model_name": "HBoxModel",
            "_view_module": "@jupyter-widgets/controls",
            "_model_module_version": "1.5.0",
            "_view_count": null,
            "_view_module_version": "1.5.0",
            "box_style": "",
            "layout": "IPY_MODEL_95caedbdad144847bec43a80124b89a3",
            "_model_module": "@jupyter-widgets/controls",
            "children": [
              "IPY_MODEL_ac4c386de9af4f5b8667df7c06996563",
              "IPY_MODEL_f7a88fd23d50454e99d89b8ec393ba65"
            ]
          }
        },
        "ebe35f4084a942539d0d963fa65fc6e2": {
          "model_module": "@jupyter-widgets/controls",
          "model_name": "HBoxModel",
          "state": {
            "_view_name": "HBoxView",
            "_dom_classes": [],
            "_model_name": "HBoxModel",
            "_view_module": "@jupyter-widgets/controls",
            "_model_module_version": "1.5.0",
            "_view_count": null,
            "_view_module_version": "1.5.0",
            "box_style": "",
            "layout": "IPY_MODEL_f0cb88945187427e9573d0f6b133621b",
            "_model_module": "@jupyter-widgets/controls",
            "children": [
              "IPY_MODEL_73291fd9ff69499fb3a1826de1c5ee4e",
              "IPY_MODEL_f25ca762f0fb457cb62863604036d061"
            ]
          }
        },
        "a55f01df9a3e476bb2d074c8651c14b3": {
          "model_module": "@jupyter-widgets/controls",
          "model_name": "HBoxModel",
          "state": {
            "_view_name": "HBoxView",
            "_dom_classes": [],
            "_model_name": "HBoxModel",
            "_view_module": "@jupyter-widgets/controls",
            "_model_module_version": "1.5.0",
            "_view_count": null,
            "_view_module_version": "1.5.0",
            "box_style": "",
            "layout": "IPY_MODEL_b94d6008bc4541aba01fbfd66c65ba49",
            "_model_module": "@jupyter-widgets/controls",
            "children": [
              "IPY_MODEL_5b29357738a44661a0b62aa8016786ea",
              "IPY_MODEL_da3a375b4550445e829b7b15923708cc"
            ]
          }
        },
        "7cba44c20e4544c8a56975a09e42c86f": {
          "model_module": "@jupyter-widgets/controls",
          "model_name": "HBoxModel",
          "state": {
            "_view_name": "HBoxView",
            "_dom_classes": [],
            "_model_name": "HBoxModel",
            "_view_module": "@jupyter-widgets/controls",
            "_model_module_version": "1.5.0",
            "_view_count": null,
            "_view_module_version": "1.5.0",
            "box_style": "",
            "layout": "IPY_MODEL_4327f09d673f4370b5193d9e01bf9841",
            "_model_module": "@jupyter-widgets/controls",
            "children": [
              "IPY_MODEL_75b2a8a6aa774c338f91e0ed8a62dbe9",
              "IPY_MODEL_fd636a96d4a84922b500103ef929f73a"
            ]
          }
        }
      }
    }
  },
  "cells": [
    {
      "cell_type": "markdown",
      "metadata": {
        "id": "view-in-github",
        "colab_type": "text"
      },
      "source": [
        "<a href=\"https://colab.research.google.com/github/ferngonzalezp/deep_learning_lab/blob/main/DL_labSession1_solution.ipynb\" target=\"_parent\"><img src=\"https://colab.research.google.com/assets/colab-badge.svg\" alt=\"Open In Colab\"/></a>"
      ]
    },
    {
      "cell_type": "markdown",
      "metadata": {
        "id": "wGrRoyk-ARTT"
      },
      "source": [
        "#Introduction to Deep Learning with Python: session 1"
      ]
    },
    {
      "cell_type": "markdown",
      "metadata": {
        "id": "qLUXc-MIAlg-"
      },
      "source": [
        "Welcome to this introduction of Deep Learning with Python. This lab sessions are designed to give the student a practical introduction to the world of Deep Learning along with some theory. After the course completion you will have learned:\r\n",
        "\r\n",
        "\r\n",
        "\r\n",
        "*   What is Deep Learning.\r\n",
        "*   What is a Nerual Network.\r\n",
        "*   How Nerual Networks are trained, basics of Stochastic Gradient descent.\r\n",
        "*   Handwritten digit Classification.\r\n",
        "*   Convolutional Neural Networks, uses in Computer Vision.\r\n",
        "*   Detection of diseases in medical images.\r\n",
        "*   Recurrent Neural Networks.\r\n",
        "*   Examples in Natural Language processing.\r\n",
        "*   How to train and build your own models.\r\n",
        "\r\n",
        "\r\n",
        "\r\n",
        "---\r\n",
        "\r\n"
      ]
    },
    {
      "cell_type": "markdown",
      "metadata": {
        "id": "L9o9ahf-Fd_b"
      },
      "source": [
        "#Inital Motivation for Deep Learning"
      ]
    },
    {
      "cell_type": "markdown",
      "metadata": {
        "id": "WGe9ksLQHouG"
      },
      "source": [
        "Deep Learning has gained recent Interest in the last years, and for good reason. It has allowed scientist and engineers to achieve tasks with greater degree of accuracy that couldn't be achieved before with other methods. Right now deep learning has been used extensively in the following tasks in which is the best method there is right now:\r\n",
        "\r\n",
        "\r\n",
        "* Natural language processing (NLP): Answering questions; speech recognition; summarizing documents; classifying documents; finding names, dates, etc. in documents; searching for articles mentioning a concept\r\n",
        "*   Computer vision:: Satellite and drone imagery interpretation (e.g., for disaster resilience); face recognition; image captioning; reading traffic signs; locating pedestrians and vehicles in autonomous vehicles\r\n",
        "*    Medicine:: Finding anomalies in radiology images, including CT, MRI, and X-ray images; counting features in pathology slides; measuring features in ultrasounds; diagnosing diabetic retinopathy\r\n",
        "*    Biology:: Folding proteins; classifying proteins; many genomics tasks, such as tumor-normal sequencing and classifying clinically actionable genetic mutations; cell classification; analyzing protein/protein interactions\r\n",
        "*    Image generation:: Colorizing images; increasing image resolution; removing noise from images; converting images to art in the style of famous artists\r\n",
        "*    Recommendation systems:: Web search; product recommendations; home page layout\r\n",
        "*    Playing games:: Chess, Go, most Atari video games, and many real-time strategy games\r\n",
        "*    Robotics:: Handling objects that are challenging to locate (e.g., transparent, shiny, lacking texture) or hard to pick up\r\n",
        "*    Other applications:: Financial and logistical forecasting, text to speech, and much more...\r\n"
      ]
    },
    {
      "cell_type": "markdown",
      "metadata": {
        "id": "IfrhaBqzJdc_"
      },
      "source": [
        "## Some cool examples"
      ]
    },
    {
      "cell_type": "markdown",
      "metadata": {
        "id": "_hTYcSu6JiqY"
      },
      "source": [
        "* [DALL-E](https://openai.com/blog/dall-e/): Image generation from text prompts. <br>\r\n",
        "\r\n",
        "![Dall-E](https://analyticsindiamag.com/wp-content/uploads/2021/01/DALLE_AIM.jpg)\r\n",
        "\r\n",
        "* [AlphaFold](https://deepmind.com/blog/article/alphafold-a-solution-to-a-50-year-old-grand-challenge-in-biology): Solution of protein folding problem, an ongoing challenge during the past 50 years.\r\n",
        "\r\n",
        "<img src='https://kstatic.googleusercontent.com/files/7f0ce54218f3f56f78f544146d261f4010f04390e00edf680434a8dc1e34bcb10255605db91a9e339335050a52261ae3523725cc1512095e221befb6f1cf2504' width=\"500\" height=\"750\">\r\n",
        "\r\n",
        "* [AlphaGo](https://www.alphagomovie.com/): An AI capable of beating the best Go players, there is even a movie about it."
      ]
    },
    {
      "cell_type": "markdown",
      "metadata": {
        "id": "1aC1TZuNXtlV"
      },
      "source": [
        "# What is Machine Learning?"
      ]
    },
    {
      "cell_type": "markdown",
      "metadata": {
        "id": "YVnl24Aw2AFi"
      },
      "source": [
        "We'll let machine learning respond that question. For that reason we wrote a custom prompt in this [web app](https://app.inferkit.com/demo) that said \"**what is machine learning? Machine learning is**\" and got this answer:\r\n",
        "\r\n",
        "\\\\\r\n",
        "`What is machine learning? Machine learning is a form of artificial intelligence where computers are given experiences and the computer \"learns\" from the experience and improves its own future predictions. Essentially, it lets the computer draw conclusions from the patterns it has observed in the past. This is useful for all sorts of reasons, such as automatic speech recognition (for example) or weather forecasts. It is an area of computing that is set to dominate the future and has been given a lot of attention in the tech industry.`\r\n",
        "\r\n",
        "\\\\\r\n",
        "That is a very good description. As the statement implies, machine learning is basically a set of methods to program computers in order that they can learn from examples. For that model to be able to reproduce a text as the previous ones it required lots and lots of text data and adjust itself internally based on a score of some sort, we'll later talk about that. In this picture is illustrated the building blocks of a machine learning model.\r\n",
        "\r\n",
        "\\\\\r\n",
        "<img src='https://drive.google.com/uc?id=1JIpwDf4ZFxcLkTwYoY-ij9UBDsbkeoz-'>\r\n",
        "\r\n",
        "Deep learning is the field inside of machine learning that uses Neural Networks as its principal building block for models. Deep learning also introduces a paradigm shift on how machine learning is done: In traditional machine learning, the input data has to be pre-processed extensively and the features to be learned by the algorithm has to be manually defined. In Deep Learning, these features or representations are learned automatically by the model, in exchange, deep learning models tendo to need more data and computational resources in most cases.\r\n",
        "\r\n",
        "\\\\\r\n",
        "<img src='https://drive.google.com/uc?id=1K3zwaC6uTlfu4n_YdnWTtrD1lIzFEPxm' width=\"500\" height=\"300\">\r\n"
      ]
    },
    {
      "cell_type": "markdown",
      "metadata": {
        "id": "l4OLDPeECWFN"
      },
      "source": [
        "## Introduction to Neural Networks"
      ]
    },
    {
      "cell_type": "markdown",
      "metadata": {
        "id": "z1N7rLRZCbUN"
      },
      "source": [
        "In 1943 Warren McCulloch, a neurophysiologist, and Walter Pitts, a logician, teamed up to develop a mathematical model of an artificial neuron. In their [paper](https://link.springer.com/article/10.1007/BF02478259) \"A Logical Calculus of the Ideas Immanent in Nervous Activity\" they declared that:\r\n",
        "\r\n",
        "\r\n",
        "`Because of the “all-or-none” character of nervous activity, neural events and the relations among them can be treated by means of propositional logic. It is found that the behavior of every net can be described in these terms.`\r\n",
        "\r\n",
        "\r\n",
        "McCulloch and Pitts realized that a simplified model of a real neuron could be represented using simple addition and thresholding, as shown here:\r\n",
        "\r\n",
        "<img src=\"https://appliedgo.net/media/perceptron/neuron.png\">\r\n",
        "\r\n",
        "Rosenblatt further developed the artificial neuron to give it the ability to learn. Even more importantly, he worked on building the first device that actually used these principles, the Mark I Perceptron. In \"The Design of an Intelligent Automaton\" Rosenblatt wrote about this work: \"We are now about to witness the birth of such a machine–-a machine capable of perceiving, recognizing and identifying its surroundings without any human training or control.\" The perceptron was built, and was able to successfully recognize simple shapes.\r\n",
        "\r\n",
        "An MIT professor named Marvin Minsky (who was a grade behind Rosenblatt at the same high school!), along with Seymour Papert, wrote a book called Perceptrons (MIT Press), about Rosenblatt's invention. They showed that a single layer of these devices was unable to learn some simple but critical mathematical functions (such as XOR). In the same book, they also showed that using multiple layers of the devices would allow these limitations to be addressed. Unfortunately, only the first of these insights was widely recognized. As a result, the global academic community nearly entirely gave up on neural networks for the next two decades.\r\n",
        "\r\n",
        "\\\\\r\n",
        "\r\n",
        "<img src=\"https://pythonmachinelearning.pro/wp-content/uploads/2017/09/Single-Perceptron.png.webp\" width=550 height=350>\r\n",
        "\r\n",
        "\\\\\r\n",
        "So in theory by coupling many layers of perceptrons, one could achieve an universal function approximator, in theory. But at that time these networks were very slow due to hardware and algorithms limitations. It was not until the last decade that the use of Neural Networks has been gaining exponential interest thanks to the availability of data, hardware development and new algorithms that improved that training in parallel of these models.\r\n",
        "\r\n"
      ]
    },
    {
      "cell_type": "markdown",
      "metadata": {
        "id": "E1vKLpmNIkGL"
      },
      "source": [
        "## The Multi-Layer Perceptron"
      ]
    },
    {
      "cell_type": "markdown",
      "metadata": {
        "id": "ld_0xEKUJn5t"
      },
      "source": [
        "So, the first and most basic neural network model that we will study is the Multi-layer perceptron architecture. And as the name implies, is just a bunch of perceptrons stacked together in many layers.\r\n",
        "\r\n",
        "<img src=\"https://elogeel.files.wordpress.com/2010/05/051010_0921_multilayerp1.png?w=700\">\r\n",
        "\r\n",
        "Oh and by the way, it is useful now to introduce some of the Deep learning jargon employed by the community:\r\n",
        "\r\n",
        "\r\n",
        "*   The functional form of the model is called its architecture (but be careful—sometimes people use model as a synonym of architecture, so this can get confusing).\r\n",
        "*    The weights are called parameters.\r\n",
        "*   The predictions are calculated from the independent variable, which is the data not including the labels.\r\n",
        "*   The results of the model are called predictions.\r\n",
        "*   The measure of performance is called the loss.\r\n",
        "*    The loss depends not only on the predictions, but also the correct labels (also known as targets or the dependent variable); e.g., \"dog\" or \"cat.\"\r\n",
        "\r\n",
        "Remember the Machine learning diagrama from before? Now it looks like this using this terminology:\r\n",
        "\r\n",
        " \\\\\r\n",
        "<img src=\"https://drive.google.com/uc?id=17wBB_w4Y929k3AvYzvstS7zknz683zAU\">\r\n"
      ]
    },
    {
      "cell_type": "markdown",
      "metadata": {
        "id": "61ZO3kcALfnc"
      },
      "source": [
        "## How these models learn?"
      ]
    },
    {
      "cell_type": "markdown",
      "metadata": {
        "id": "TQSGcM5gLmO8"
      },
      "source": [
        "After we feed the model data and it outputs a prediction, we need to pass that value to a score we want to optimize, this score is usually called the \"loss\" of a model, and the training process is basically the optimization of this value.\r\n",
        "\r\n",
        "\\\\\r\n",
        "\r\n",
        "The optimization process for Neural Networks is based on [gradient descent](https://en.wikipedia.org/wiki/Gradient_descent).\r\n",
        "\r\n",
        "\\\\\r\n",
        "\r\n",
        "<img src=\"https://i.ytimg.com/vi/b4Vyma9wPHo/maxresdefault.jpg\" width=500 height=300>\r\n",
        "\r\n"
      ]
    },
    {
      "cell_type": "markdown",
      "metadata": {
        "id": "C3bEo1SwWSyj"
      },
      "source": [
        "________________________\r\n",
        "\r\n",
        "Now, we will see a gradient descent eaxmple using python. Using python and numpy."
      ]
    },
    {
      "cell_type": "code",
      "metadata": {
        "id": "cSZjOIueIp-Z"
      },
      "source": [
        "import numpy as np\r\n",
        "\r\n",
        "def gradient_descent(\r\n",
        "\r\n",
        "    gradient, start, learn_rate, n_iter=50, tolerance=1e-06\r\n",
        "\r\n",
        "):\r\n",
        "\r\n",
        "    vector = start\r\n",
        "\r\n",
        "    for _ in range(n_iter):\r\n",
        "\r\n",
        "        diff = -learn_rate * gradient(vector)\r\n",
        "\r\n",
        "        if np.all(np.abs(diff) <= tolerance):\r\n",
        "\r\n",
        "            break\r\n",
        "\r\n",
        "        vector += diff\r\n",
        "\r\n",
        "    return vector"
      ],
      "execution_count": 3,
      "outputs": []
    },
    {
      "cell_type": "markdown",
      "metadata": {
        "id": "-KmdnF_YXoHc"
      },
      "source": [
        "\r\n",
        "*    **gradient** is the function or any Python callable object that takes a vector and returns the gradient of the function you’re trying to minimize.\r\n",
        "*    **start** is the point where the algorithm starts its search, given as a sequence (tuple, list, NumPy array, and so on) or scalar (in the case of a one-dimensional problem).\r\n",
        "*    **learn_rate** is the learning rate that controls the magnitude of the vector update.\r\n",
        "*   **n_iter** is the number of iterations.\r\n",
        "\r\n",
        "\\\\\r\n",
        "\r\n",
        "We will use this algorithm to find the minimum of a simple convex function:\r\n",
        "\r\n",
        "$y = x^2$\r\n",
        "\r\n",
        "which we know it's gradient is:\r\n",
        "\r\n",
        "$y' = 2x$\r\n"
      ]
    },
    {
      "cell_type": "code",
      "metadata": {
        "id": "NNpwvBL7XOmE"
      },
      "source": [
        "y_prime = lambda x: 2*x"
      ],
      "execution_count": 4,
      "outputs": []
    },
    {
      "cell_type": "markdown",
      "metadata": {
        "id": "JMM1StaReFi8"
      },
      "source": [
        "Here, we use gradient descent to find the minimum of a function. And plot the different steps it takes until it finds the minimum. Try to adjust the learning rate to see what happens."
      ]
    },
    {
      "cell_type": "code",
      "metadata": {
        "colab": {
          "base_uri": "https://localhost:8080/",
          "height": 284
        },
        "id": "vTBUrCk_atBh",
        "outputId": "05f9d19a-329b-4077-de49-0ba9971923bb"
      },
      "source": [
        "%matplotlib inline\r\n",
        "import matplotlib.pyplot as plt\r\n",
        "\r\n",
        "#Parameters for Gradient descent\r\n",
        "start = 10\r\n",
        "learn_rate = 0.2\r\n",
        "tol = 1e-6\r\n",
        "n_steps = 50\r\n",
        "\r\n",
        "#Plot of the function\r\n",
        "x = np.linspace(-10,10)\r\n",
        "y = lambda x: x**2\r\n",
        "plt.plot(x,y(x))\r\n",
        "\r\n",
        "#The optimization loop, we do it in such a way to obtain the result in each step.\r\n",
        "results =[start]\r\n",
        "for step in range(n_steps):\r\n",
        "  \r\n",
        "  min = gradient_descent(y_prime,start,learn_rate,1)\r\n",
        "  results.append(min)\r\n",
        "  if np.abs(start-min) < tol:\r\n",
        "    break\r\n",
        "  start = min\r\n",
        "\r\n",
        "results = np.array(results)\r\n",
        "plt.plot(results, y(results), '-*g')"
      ],
      "execution_count": 5,
      "outputs": [
        {
          "output_type": "execute_result",
          "data": {
            "text/plain": [
              "[<matplotlib.lines.Line2D at 0x7f14a0b72438>]"
            ]
          },
          "metadata": {
            "tags": []
          },
          "execution_count": 5
        },
        {
          "output_type": "display_data",
          "data": {
            "image/png": "[encoded data removed]",
            "text/plain": [
              "<Figure size 432x288 with 1 Axes>"
            ]
          },
          "metadata": {
            "tags": [],
            "needs_background": "light"
          }
        }
      ]
    },
    {
      "cell_type": "markdown",
      "metadata": {
        "id": "AmJdKNpNfG_T"
      },
      "source": [
        "Try to change the function to a non convex one and it's gradient to see how it behaves!"
      ]
    },
    {
      "cell_type": "markdown",
      "metadata": {
        "id": "V7_J98A8feRz"
      },
      "source": [
        "_________________________________________\r\n",
        "Gradient Descent is a simple and fast way to find a minimum, but when the number of parameters of a function increases and when there is non-convexity then the algorithm requires some modifications to work properly."
      ]
    },
    {
      "cell_type": "markdown",
      "metadata": {
        "id": "3NOTLZUz6A6E"
      },
      "source": [
        "## Stochastic Gradient Descent"
      ]
    },
    {
      "cell_type": "markdown",
      "metadata": {
        "id": "5_AbPLO46EVb"
      },
      "source": [
        "Stochastic gradient descent algorithms are a modification of gradient descent. In stochastic gradient descent, you calculate the gradient using just a random small part of the observations instead of all of them. In some cases, this approach can reduce computation time.\r\n",
        "\r\n",
        "Online stochastic gradient descent is a variant of stochastic gradient descent in which you estimate the gradient of the cost function for each observation and update the decision variables accordingly. This can help you find the global minimum, especially if the objective function is convex.\r\n",
        "\r\n",
        "Batch stochastic gradient descent is somewhere between ordinary gradient descent and the online method. The gradients are calculated and the decision variables are updated iteratively with subsets of all observations, called minibatches. This variant is very popular for training neural networks.\r\n",
        "\r\n",
        "You can imagine the online algorithm as a special kind of batch algorithm in which each minibatch has only one observation. Classical gradient descent is another special case in which there’s only one batch containing all observations.\r\n",
        "\r\n",
        "From now on we will refer to the minibatch stocasthic gradient descent as stochastic gradient descent (SGD)."
      ]
    },
    {
      "cell_type": "markdown",
      "metadata": {
        "id": "iv5l9QLn7idA"
      },
      "source": [
        "### Linear Regression with SGD"
      ]
    },
    {
      "cell_type": "markdown",
      "metadata": {
        "id": "qxpGtS0oZkiV"
      },
      "source": [
        "#### Simple Regression"
      ]
    },
    {
      "cell_type": "markdown",
      "metadata": {
        "id": "cW2jOofWZo3n"
      },
      "source": [
        "We will start by a [simple Linear regression problem](https://en.wikipedia.org/wiki/Simple_linear_regression). In this problem we want to fit a distribution of points in 2D space with a curve. This curve can be linear, a polynomial of any order or even an exponential; the selection of curve depends on the nature of the data we have at hand, and to some extent this represents a limititation of doing regression in this fashion, we need certain prior information of the data befor applying the model, as opposed to the use of neural networks where we can learn that this distribution (but let's leave this to a further topic).\r\n",
        "\r\n",
        "\\\\\r\n",
        "\r\n",
        "First, we will do Linear regression in a classical way using the Least squares method. In linear regresion we want to the determine the slope and intercept (weight and bias) of a line equation:\r\n",
        "\r\n",
        "\\begin{equation}\r\n",
        "  \\hat{y} = b + w x\r\n",
        "\\end{equation}\r\n",
        "\r\n",
        "\\\\\r\n",
        "\r\n",
        "In the least squares method, we want to minimize the squared error between predictions and observations:\r\n",
        "\r\n",
        "\\begin{equation}\r\n",
        "  error = \\frac{1}{n} \\sum^n{(y-\\hat{y})^2}\r\n",
        "\\end{equation}\r\n",
        "\r\n",
        "\\\\\r\n",
        "\r\n",
        "We then can find the weight and bias just by taking the derivative of the error w.r.t. the parameters of our curve and equal to zero. We now are going to derive the formula for finding these values but first we will reformulate or curve equation in a matrix way:\r\n",
        "\r\n",
        "\\begin{equation}\r\n",
        "  \\hat{y} = \\begin{bmatrix}1 & x\\end{bmatrix} . \\begin{bmatrix}b\\\\w\\end{bmatrix}\r\n",
        "\\end{equation}\r\n",
        " \\\\\r\n",
        "Now this reduces to a linear system, that can be rewritten as  $\\hat{y}=X\\theta$, where $\\theta$ is the parameters vector of our model and X is the set of independent variables. We cqn now rewrite the error as:\r\n",
        "\r\n",
        "\r\n",
        "\\begin{equation}\r\n",
        "  error = (Y-X\\theta)^2\\\\\r\n",
        "  error = (Y-X\\theta)^T(Y-X\\theta)\\\\\r\n",
        "  error = Y^TY - \\theta^TX^TY - Y^TX\\theta + \\theta^TX^TX\\theta\\\\\r\n",
        "  error = Y^TY - 2\\theta^TX^TY + \\theta^TX^TX\\theta\r\n",
        "\\end{equation}\r\n",
        "\r\n",
        "\\\\\r\n",
        "\r\n",
        "This reduction is possible because $\\theta^TX^TY = Y^TX\\theta$, which are scalars and their transpose is the same scalar:\r\n",
        "\r\n",
        "\\begin{equation}\r\n",
        "  (\\theta^TX^TY)^T = (X^TY)^T\\theta = Y^TX\\theta\r\n",
        "\\end{equation}\r\n",
        "\r\n",
        "\\\\\r\n",
        "\r\n",
        "The the derivative of the error w.r.t. the parameters is:\r\n",
        "\r\n",
        "\\begin{equation}\r\n",
        "  \\partial{error}/\\partial{\\theta} = -2X^TY + X^TX\\theta + \\theta^TX^TX = -2X^TY + 2X^TX\\theta\r\n",
        "\\end{equation}\r\n",
        "\r\n",
        "\\\\\r\n",
        "\r\n",
        "Equalizing the derivative to zero when then have:\r\n",
        "\r\n",
        "\\begin{equation}\r\n",
        "  X^TY = X^TX\\theta\\\\\r\n",
        "  \\theta = (X^TX)^{-1}X^TY\r\n",
        "\\end{equation}\r\n",
        "\r\n",
        "\\\\\r\n",
        "\r\n",
        "Now we have a general formula for fitting the parameters, for any linear function!\r\n",
        "\r\n",
        "Now let's solve a simple problems, first we need data to fit. For this reason we will generate some points from a cuadractic function, but we will add some random noise:"
      ]
    },
    {
      "cell_type": "code",
      "metadata": {
        "colab": {
          "base_uri": "https://localhost:8080/",
          "height": 286
        },
        "id": "QNb6Eg9qKyVa",
        "outputId": "fa8d86a8-d7ef-4963-eb4d-78c7c275b644"
      },
      "source": [
        "n_samples = 20\r\n",
        "Points = np.sort(np.random.uniform(0,10,(n_samples)))\r\n",
        "y = lambda x: x**2 + np.random.uniform(-10,10,(len(x)))\r\n",
        "observations = y(Points)\r\n",
        "plt.scatter(Points,observations)"
      ],
      "execution_count": 6,
      "outputs": [
        {
          "output_type": "execute_result",
          "data": {
            "text/plain": [
              "<matplotlib.collections.PathCollection at 0x7f14a06202b0>"
            ]
          },
          "metadata": {
            "tags": []
          },
          "execution_count": 6
        },
        {
          "output_type": "display_data",
          "data": {
            "image/png": "[encoded data removed]",
            "text/plain": [
              "<Figure size 432x288 with 1 Axes>"
            ]
          },
          "metadata": {
            "tags": [],
            "needs_background": "light"
          }
        }
      ]
    },
    {
      "cell_type": "markdown",
      "metadata": {
        "id": "e0zQLywRqDgg"
      },
      "source": [
        "Here we make a function to calculate the vector of parameters based on the previous formula:"
      ]
    },
    {
      "cell_type": "code",
      "metadata": {
        "id": "tJawFKr-NnYM"
      },
      "source": [
        "def lssr(observations, points):\r\n",
        "  points = np.vstack((np.ones(np.size(points,axis=-1)),points)).transpose()\r\n",
        "  B = np.matmul(points.transpose(),points)\r\n",
        "  B = np.matmul(np.linalg.inv(B),points.transpose())\r\n",
        "  return np.matmul(B,observations)"
      ],
      "execution_count": 7,
      "outputs": []
    },
    {
      "cell_type": "markdown",
      "metadata": {
        "id": "GvNnotqyqOH-"
      },
      "source": [
        "Determine the parameters of our curve:"
      ]
    },
    {
      "cell_type": "code",
      "metadata": {
        "id": "i4ThS2zOR1cH"
      },
      "source": [
        "coef = lssr(observations,Points)"
      ],
      "execution_count": 8,
      "outputs": []
    },
    {
      "cell_type": "markdown",
      "metadata": {
        "id": "OW9C4gsTqZv4"
      },
      "source": [
        "Now visualize the fitted line and the observable points."
      ]
    },
    {
      "cell_type": "code",
      "metadata": {
        "colab": {
          "base_uri": "https://localhost:8080/",
          "height": 286
        },
        "id": "RqMPf2EwULd4",
        "outputId": "e161217e-7987-46a2-8000-ae9328da9ee2"
      },
      "source": [
        "plt.scatter(Points,observations)\r\n",
        "fit = coef[0] + coef[1]*Points\r\n",
        "plt.plot(Points,fit,'r')"
      ],
      "execution_count": 9,
      "outputs": [
        {
          "output_type": "execute_result",
          "data": {
            "text/plain": [
              "[<matplotlib.lines.Line2D at 0x7f14a05ec2e8>]"
            ]
          },
          "metadata": {
            "tags": []
          },
          "execution_count": 9
        },
        {
          "output_type": "display_data",
          "data": {
            "image/png": "[encoded data removed]",
            "text/plain": [
              "<Figure size 432x288 with 1 Axes>"
            ]
          },
          "metadata": {
            "tags": [],
            "needs_background": "light"
          }
        }
      ]
    },
    {
      "cell_type": "markdown",
      "metadata": {
        "id": "frbv5NKhqi1H"
      },
      "source": [
        "Now we are goind to try to fit the points but with a cuadratic function: $y = b + w_1x + w_2x^2$. Use the function we created before to obtain the parameters of this curve."
      ]
    },
    {
      "cell_type": "code",
      "metadata": {
        "id": "gq0PqeH0Ul4N"
      },
      "source": [
        "Points2 = Points**2\r\n",
        "X = np.vstack((Points,Points2))\r\n",
        "coef2 = lssr(observations,X)"
      ],
      "execution_count": 10,
      "outputs": []
    },
    {
      "cell_type": "markdown",
      "metadata": {
        "id": "2lsItQgrrASN"
      },
      "source": [
        "Now plot the results, is this model better suited to the data?"
      ]
    },
    {
      "cell_type": "code",
      "metadata": {
        "colab": {
          "base_uri": "https://localhost:8080/",
          "height": 284
        },
        "id": "bQd8bV9ZVnMl",
        "outputId": "613bfc77-2ed7-42df-a473-f49e2fcf8b44"
      },
      "source": [
        "plt.scatter(Points,observations)\r\n",
        "fit = coef2[0] + coef2[1]*Points + coef2[2]*Points**2\r\n",
        "plt.plot(Points,fit,'r')"
      ],
      "execution_count": 11,
      "outputs": [
        {
          "output_type": "execute_result",
          "data": {
            "text/plain": [
              "[<matplotlib.lines.Line2D at 0x7f14a05ec240>]"
            ]
          },
          "metadata": {
            "tags": []
          },
          "execution_count": 11
        },
        {
          "output_type": "display_data",
          "data": {
            "image/png": "[encoded data removed]",
            "text/plain": [
              "<Figure size 432x288 with 1 Axes>"
            ]
          },
          "metadata": {
            "tags": [],
            "needs_background": "light"
          }
        }
      ]
    },
    {
      "cell_type": "markdown",
      "metadata": {
        "id": "MM4x2utQrO9R"
      },
      "source": [
        "Now we are going to use gradient descent, to solve this same problem. First we have to create a function ta updates the coefficients based on a gradient descent step. Remember that we are trying to minimize de error function, in gradient descent we don't need an analytic formula of the gradient so we can simply take as gradient: \r\n",
        "\\begin{equation}\r\n",
        "\\partial{error}/\\partial{\\theta} = \\frac{1}{n}\\sum^n 2(\\hat{Y}-Y)X\r\n",
        "\\end{equation}\r\n",
        "\\\\\r\n",
        "being $n$ the number of observations. Now we write the function:"
      ]
    },
    {
      "cell_type": "code",
      "metadata": {
        "id": "4FDF7dFfX05Z"
      },
      "source": [
        "def sgd_update(points, observations, coef, l_rate):\r\n",
        "      points = np.vstack((np.ones(np.size(points,axis=-1)),points)).transpose()\r\n",
        "      yhat = np.matmul(points,coef)\r\n",
        "      error = np.mean(np.einsum('i,ij->ij',2*(yhat-observations),points), axis = 0)\r\n",
        "      coef = coef - l_rate * error\r\n",
        "      return coef"
      ],
      "execution_count": 12,
      "outputs": []
    },
    {
      "cell_type": "markdown",
      "metadata": {
        "id": "lZsA8ix5tXo4"
      },
      "source": [
        "In this part we find the optimun using SGD:"
      ]
    },
    {
      "cell_type": "code",
      "metadata": {
        "id": "QtGjCwq2amnU"
      },
      "source": [
        "coef_sgd = np.zeros(2)\r\n",
        "n_epochs = 2000\r\n",
        "lr = 0.01\r\n",
        "for i in range(n_epochs):\r\n",
        "  y = sgd_update(Points,observations,coef_sgd,lr)\r\n",
        "  diff = np.abs(np.sum(y-coef_sgd))\r\n",
        "  coef_sgd = y\r\n",
        "  if diff < 1e-6:\r\n",
        "    break"
      ],
      "execution_count": 13,
      "outputs": []
    },
    {
      "cell_type": "markdown",
      "metadata": {
        "id": "pVN6t7gltcIg"
      },
      "source": [
        "Now we plot the results:"
      ]
    },
    {
      "cell_type": "code",
      "metadata": {
        "colab": {
          "base_uri": "https://localhost:8080/",
          "height": 267
        },
        "id": "OZZ40moLcOUl",
        "outputId": "85484409-61a9-44f7-d51f-2c44d46c93a3"
      },
      "source": [
        "plt.scatter(Points,observations)\r\n",
        "fit = coef_sgd[0] + coef_sgd[1]*Points\r\n",
        "plt.plot(Points,fit,'r')\r\n",
        "error_linear = np.mean((observations - fit)**2)"
      ],
      "execution_count": 14,
      "outputs": [
        {
          "output_type": "display_data",
          "data": {
            "image/png": "[encoded data removed]",
            "text/plain": [
              "<Figure size 432x288 with 1 Axes>"
            ]
          },
          "metadata": {
            "tags": [],
            "needs_background": "light"
          }
        }
      ]
    },
    {
      "cell_type": "code",
      "metadata": {
        "colab": {
          "base_uri": "https://localhost:8080/"
        },
        "id": "Y4pAme8b7i7o",
        "outputId": "646ded0c-cc2a-40a1-b372-953104c4c5a1"
      },
      "source": [
        "print(error_linear)"
      ],
      "execution_count": 15,
      "outputs": [
        {
          "output_type": "stream",
          "text": [
            "65.6532122437329\n"
          ],
          "name": "stdout"
        }
      ]
    },
    {
      "cell_type": "markdown",
      "metadata": {
        "id": "D2ealy5BtfWp"
      },
      "source": [
        "We compare the results obtained with the analytical way and using SGD:"
      ]
    },
    {
      "cell_type": "code",
      "metadata": {
        "colab": {
          "base_uri": "https://localhost:8080/"
        },
        "id": "ENxzPbiRdr8f",
        "outputId": "cb94980e-186c-42c5-bdbe-12020c4c2235"
      },
      "source": [
        "print('result with SGD:')\r\n",
        "print(coef_sgd)\r\n",
        "print('result in analytical way:')\r\n",
        "print(coef)"
      ],
      "execution_count": 16,
      "outputs": [
        {
          "output_type": "stream",
          "text": [
            "result with SGD:\n",
            "[-18.25897296   9.43923828]\n",
            "result in analytical way:\n",
            "[-18.26308063   9.44001673]\n"
          ],
          "name": "stdout"
        }
      ]
    },
    {
      "cell_type": "markdown",
      "metadata": {
        "id": "w8VHLPCSt8v_"
      },
      "source": [
        "Now we are going to fit a line with some added gaussian noise:"
      ]
    },
    {
      "cell_type": "code",
      "metadata": {
        "colab": {
          "base_uri": "https://localhost:8080/",
          "height": 284
        },
        "id": "zx3gL5OohLKV",
        "outputId": "b7a38caa-78c6-4acd-e8d4-bed58dbaf448"
      },
      "source": [
        "n_samples = 50\r\n",
        "Points = np.sort(np.random.uniform(-10,10,(n_samples)))\r\n",
        "y = lambda x: x + np.random.normal(0,1,n_samples)\r\n",
        "observations = y(Points)\r\n",
        "plt.scatter(Points,observations)"
      ],
      "execution_count": 17,
      "outputs": [
        {
          "output_type": "execute_result",
          "data": {
            "text/plain": [
              "<matplotlib.collections.PathCollection at 0x7f1497c6b6d8>"
            ]
          },
          "metadata": {
            "tags": []
          },
          "execution_count": 17
        },
        {
          "output_type": "display_data",
          "data": {
            "image/png": "[encoded data removed]",
            "text/plain": [
              "<Figure size 432x288 with 1 Axes>"
            ]
          },
          "metadata": {
            "tags": [],
            "needs_background": "light"
          }
        }
      ]
    },
    {
      "cell_type": "code",
      "metadata": {
        "colab": {
          "base_uri": "https://localhost:8080/",
          "height": 265
        },
        "id": "AGmVj4En8SlJ",
        "outputId": "00361178-b29d-44cc-f8bb-f87f25de3cb2"
      },
      "source": [
        "coef_sgd = np.zeros(2)\r\n",
        "n_epochs = 2000\r\n",
        "lr = 0.01\r\n",
        "for i in range(n_epochs):\r\n",
        "  y = sgd_update(Points,observations,coef_sgd,lr)\r\n",
        "  diff = np.abs(np.sum(y-coef_sgd))\r\n",
        "  coef_sgd = y\r\n",
        "  if diff < 1e-6:\r\n",
        "    break\r\n",
        "\r\n",
        "plt.scatter(Points,observations)\r\n",
        "fit = coef_sgd[0] + coef_sgd[1]*Points\r\n",
        "plt.plot(Points,fit,'r')\r\n",
        "error_linear = np.mean((observations - fit)**2)"
      ],
      "execution_count": 18,
      "outputs": [
        {
          "output_type": "display_data",
          "data": {
            "image/png": "[encoded data removed]",
            "text/plain": [
              "<Figure size 432x288 with 1 Axes>"
            ]
          },
          "metadata": {
            "tags": [],
            "needs_background": "light"
          }
        }
      ]
    },
    {
      "cell_type": "code",
      "metadata": {
        "colab": {
          "base_uri": "https://localhost:8080/"
        },
        "id": "eKZmOrCo8dgu",
        "outputId": "46e1e470-60c7-40dd-c53e-cf45cf49364b"
      },
      "source": [
        "print(error_linear)"
      ],
      "execution_count": 19,
      "outputs": [
        {
          "output_type": "stream",
          "text": [
            "0.9493316161361041\n"
          ],
          "name": "stdout"
        }
      ]
    },
    {
      "cell_type": "markdown",
      "metadata": {
        "id": "gn6z78e6uDRq"
      },
      "source": [
        "But this time we are going to use a linear polynomial or third order and use SGD:"
      ]
    },
    {
      "cell_type": "code",
      "metadata": {
        "id": "Mwz6kQEXhhbQ"
      },
      "source": [
        "Points2 = Points**2\r\n",
        "Points3 = Points**3\r\n",
        "X = np.vstack((Points,Points2,Points3))\r\n",
        "coef_sgd = np.zeros(4)\r\n",
        "n_epochs = 5000\r\n",
        "lr = 1e-6\r\n",
        "for i in range(n_epochs):\r\n",
        "  y = sgd_update(X,observations,coef_sgd,lr)\r\n",
        "  diff = np.abs(np.sum(y-coef_sgd))\r\n",
        "  coef_sgd = y\r\n",
        "  if diff < 1e-6:\r\n",
        "    break"
      ],
      "execution_count": 20,
      "outputs": []
    },
    {
      "cell_type": "markdown",
      "metadata": {
        "id": "1jKtAbq6uP-G"
      },
      "source": [
        "Now we plot the results, what happended?"
      ]
    },
    {
      "cell_type": "code",
      "metadata": {
        "colab": {
          "base_uri": "https://localhost:8080/",
          "height": 265
        },
        "id": "KrcOPT_ViRLP",
        "outputId": "cbcf5a4f-f58f-43e0-8dd6-905bd2b072c2"
      },
      "source": [
        "plt.scatter(Points,observations)\r\n",
        "x = np.linspace(-10,10)\r\n",
        "fit = lambda x: coef_sgd[0] + coef_sgd[1]*x + coef_sgd[2]*x**2 + coef_sgd[3]*x**3\r\n",
        "plt.plot(x,fit(x),'r')\r\n",
        "error_cubic = np.mean((observations-fit(Points))**2)"
      ],
      "execution_count": 21,
      "outputs": [
        {
          "output_type": "display_data",
          "data": {
            "image/png": "[encoded data removed]",
            "text/plain": [
              "<Figure size 432x288 with 1 Axes>"
            ]
          },
          "metadata": {
            "tags": [],
            "needs_background": "light"
          }
        }
      ]
    },
    {
      "cell_type": "code",
      "metadata": {
        "colab": {
          "base_uri": "https://localhost:8080/"
        },
        "id": "0jQC-AOI7KCW",
        "outputId": "f30996e5-2d68-4422-cc62-2b8b3b16eb11"
      },
      "source": [
        "print(error_cubic)"
      ],
      "execution_count": 22,
      "outputs": [
        {
          "output_type": "stream",
          "text": [
            "5.957647055895217\n"
          ],
          "name": "stdout"
        }
      ]
    },
    {
      "cell_type": "markdown",
      "metadata": {
        "id": "4nRihBY0uchG"
      },
      "source": [
        "This phenomenon is called [overfitting](https://en.wikipedia.org/wiki/Overfitting). Here it happened because our model has more parameters than need for the data, it fitted exactly some points of the distribution but in certain areas the error may be to high, resulting in a higher MSE."
      ]
    },
    {
      "cell_type": "markdown",
      "metadata": {
        "id": "CfFg4-sYZaFz"
      },
      "source": [
        "#### Multi_Dimensional Linear Regression"
      ]
    },
    {
      "cell_type": "markdown",
      "metadata": {
        "id": "aFR923Ph8Hwk"
      },
      "source": [
        "In this part we will try to solve a [Linear regression](https://en.wikipedia.org/wiki/Linear_regression) problem using SGD programmed from scratch.\r\n",
        "After we develop our linear regression algorithm with stochastic gradient descent, we will use it to model the wine quality dataset.\r\n",
        "\r\n",
        "This dataset is comprised of the details of 4,898 white wines including measurements like acidity and pH. The goal is to use these objective measures to predict the wine quality on a scale between 0 and 10.\r\n",
        "\r\n",
        "Each columm of the dataset represent the following attributes:\r\n",
        "\r\n",
        "Attribute information:\r\n",
        "\r\n",
        "   Input variables (based on physicochemical tests):\r\n",
        "   1. fixed acidity\r\n",
        "   2. volatile acidity\r\n",
        "   3. citric acid\r\n",
        "   4. residual sugar\r\n",
        "   5. chlorides\r\n",
        "   6. free sulfur dioxide\r\n",
        "   7. total sulfur dioxide\r\n",
        "   8. density\r\n",
        "   9. pH\r\n",
        "   10. sulphates\r\n",
        "   11. alcohol\r\n",
        "   Output variable (based on sensory data): \r\n",
        "   12. quality (score between 0 and 10)\r\n",
        "\r\n",
        "Click [here](https://drive.google.com/file/d/1KKvWK7pmDtJXN5zEA7w0Xje-qbP2FrJI/view?usp=sharing) to download the dataset and the [description](https://drive.google.com/file/d/1dhXvJgR5TRWCk69VTpOznrlyIyTfG3JE/view?usp=sharing).\r\n",
        "\r\n",
        "the function we are trying to fit with this method it is:\r\n",
        "\r\n",
        "\\begin{equation}\r\n",
        "  Y = b_0 + W^T X\r\n",
        "\\end{equation}\r\n",
        "\r\n",
        "Where b_0 is a bias, W is the weight vector and X is the vector of independent variables."
      ]
    },
    {
      "cell_type": "code",
      "metadata": {
        "id": "N-O4xSxBf5VU"
      },
      "source": [
        "# Linear Regression With Stochastic Gradient Descent for Wine Quality\r\n",
        "from random import seed\r\n",
        "from random import randrange\r\n",
        "from csv import reader\r\n",
        "from math import sqrt\r\n",
        "from math import ceil\r\n",
        "from numpy import genfromtxt\r\n",
        "from random import shuffle\r\n",
        "\r\n",
        "# Find the min and max values for each column\r\n",
        "def dataset_minmax(dataset):\r\n",
        "\tminmax = list()\r\n",
        "\tfor i in range(len(dataset[0])):\r\n",
        "\t\tcol_values = dataset[:,i]\r\n",
        "\t\tvalue_min = col_values.min()\r\n",
        "\t\tvalue_max = col_values.max()\r\n",
        "\t\tminmax.append([value_min, value_max])\r\n",
        "\treturn minmax\r\n",
        " \r\n",
        "# Rescale dataset columns to the range 0-1\r\n",
        "def normalize_dataset(dataset, minmax):\r\n",
        "  for i in range(len(dataset[0])):\r\n",
        "\t\t\tdataset[:,i] = (dataset[:,i] - minmax[i][0]) / (minmax[i][1] - minmax[i][0])\r\n",
        "  return dataset\r\n",
        "\r\n",
        "# Make a prediction with coefficients\r\n",
        "def predict(batch, coefficients):\r\n",
        "    yhat = np.matmul(batch[:,:-1],coefficients[1:]) + coefficients[0]\r\n",
        "    return yhat\r\n",
        "\r\n",
        "# Estimate linear regression coefficients using stochastic gradient descent\r\n",
        "def sgd_update(batch, coef, l_rate):\r\n",
        "      yhat = predict(batch, coef)\r\n",
        "      error_bias = np.mean(2*(yhat - batch[:,-1]))\r\n",
        "      error_weights = np.mean(np.einsum('i,ij -> ij',2* (yhat - batch[:,-1]) ,batch[:,:-1]), axis=0)\r\n",
        "      coef[0] = coef[0] - l_rate * error_bias\r\n",
        "      coef[1:] = coef[1:] - l_rate * error_weights\r\n",
        "      return coef"
      ],
      "execution_count": 23,
      "outputs": []
    },
    {
      "cell_type": "code",
      "metadata": {
        "id": "LhReyNBDQVGj"
      },
      "source": [
        "#Evaluation Metric\r\n",
        "def mse_metric(actual, predicted):\r\n",
        "  return np.mean((actual-predicted)**2)"
      ],
      "execution_count": 24,
      "outputs": []
    },
    {
      "cell_type": "code",
      "metadata": {
        "colab": {
          "base_uri": "https://localhost:8080/"
        },
        "id": "6FZk1re-Qtvc",
        "outputId": "83ddf6ce-82a3-4c2a-d319-35815209045d"
      },
      "source": [
        "# Linear Regression on wine quality dataset\r\n",
        "seed(1)\r\n",
        "# load and prepare data\r\n",
        "filename = 'winequality-white.csv'\r\n",
        "#dataset = load_csv(filename)\r\n",
        "dataset = genfromtxt(filename, delimiter=';')\r\n",
        "# normalize\r\n",
        "minmax = dataset_minmax(dataset)\r\n",
        "dataset = normalize_dataset(dataset, minmax)\r\n",
        "train_data = dataset[:4000]\r\n",
        "test_data = dataset[4000:]\r\n",
        "#Training paramateres\r\n",
        "n_epochs = 500\r\n",
        "batch_size = 500\r\n",
        "l_rate = 0.1\r\n",
        "#Initialize Coefficients with zeros\r\n",
        "coef = np.zeros((len(dataset[0])))\r\n",
        "#indexes of rows\r\n",
        "idx = list(range(len(train_data[:,0])))\r\n",
        "n_iterations = ceil(len(train_data[:,0])/batch_size)\r\n",
        "#training loop\r\n",
        "loss = []\r\n",
        "for i in range(n_epochs):\r\n",
        "  shuffle(idx)\r\n",
        "  for j in range(n_iterations):\r\n",
        "    if j==n_iterations-1:\r\n",
        "      batch = train_data[idx[j*batch_size:]]\r\n",
        "    else:\r\n",
        "      batch = train_data[idx[j*batch_size:(j+1)*batch_size]]\r\n",
        "    coef = sgd_update(batch, coef, l_rate)\r\n",
        "    prediction = predict(batch, coef)\r\n",
        "    mse = mse_metric(batch[:,-1],prediction)\r\n",
        "    loss.append(mse)\r\n",
        "    if j%50 == 0 :\r\n",
        "      print(\"epoch: %d Iteration: %d/%d MSE: %.4f \\n\" % ((i+1), (j+1), n_iterations, mse))"
      ],
      "execution_count": 26,
      "outputs": [
        {
          "output_type": "stream",
          "text": [
            "epoch: 1 Iteration: 1/8 MSE: 0.1195 \n",
            "\n",
            "epoch: 2 Iteration: 1/8 MSE: 0.0210 \n",
            "\n",
            "epoch: 3 Iteration: 1/8 MSE: 0.0215 \n",
            "\n",
            "epoch: 4 Iteration: 1/8 MSE: 0.0196 \n",
            "\n",
            "epoch: 5 Iteration: 1/8 MSE: 0.0213 \n",
            "\n",
            "epoch: 6 Iteration: 1/8 MSE: 0.0195 \n",
            "\n",
            "epoch: 7 Iteration: 1/8 MSE: 0.0222 \n",
            "\n",
            "epoch: 8 Iteration: 1/8 MSE: 0.0205 \n",
            "\n",
            "epoch: 9 Iteration: 1/8 MSE: 0.0199 \n",
            "\n",
            "epoch: 10 Iteration: 1/8 MSE: 0.0216 \n",
            "\n",
            "epoch: 11 Iteration: 1/8 MSE: 0.0195 \n",
            "\n",
            "epoch: 12 Iteration: 1/8 MSE: 0.0187 \n",
            "\n",
            "epoch: 13 Iteration: 1/8 MSE: 0.0176 \n",
            "\n",
            "epoch: 14 Iteration: 1/8 MSE: 0.0168 \n",
            "\n",
            "epoch: 15 Iteration: 1/8 MSE: 0.0189 \n",
            "\n",
            "epoch: 16 Iteration: 1/8 MSE: 0.0178 \n",
            "\n",
            "epoch: 17 Iteration: 1/8 MSE: 0.0196 \n",
            "\n",
            "epoch: 18 Iteration: 1/8 MSE: 0.0176 \n",
            "\n",
            "epoch: 19 Iteration: 1/8 MSE: 0.0171 \n",
            "\n",
            "epoch: 20 Iteration: 1/8 MSE: 0.0156 \n",
            "\n",
            "epoch: 21 Iteration: 1/8 MSE: 0.0163 \n",
            "\n",
            "epoch: 22 Iteration: 1/8 MSE: 0.0161 \n",
            "\n",
            "epoch: 23 Iteration: 1/8 MSE: 0.0179 \n",
            "\n",
            "epoch: 24 Iteration: 1/8 MSE: 0.0191 \n",
            "\n",
            "epoch: 25 Iteration: 1/8 MSE: 0.0165 \n",
            "\n",
            "epoch: 26 Iteration: 1/8 MSE: 0.0155 \n",
            "\n",
            "epoch: 27 Iteration: 1/8 MSE: 0.0185 \n",
            "\n",
            "epoch: 28 Iteration: 1/8 MSE: 0.0186 \n",
            "\n",
            "epoch: 29 Iteration: 1/8 MSE: 0.0160 \n",
            "\n",
            "epoch: 30 Iteration: 1/8 MSE: 0.0197 \n",
            "\n",
            "epoch: 31 Iteration: 1/8 MSE: 0.0165 \n",
            "\n",
            "epoch: 32 Iteration: 1/8 MSE: 0.0177 \n",
            "\n",
            "epoch: 33 Iteration: 1/8 MSE: 0.0179 \n",
            "\n",
            "epoch: 34 Iteration: 1/8 MSE: 0.0180 \n",
            "\n",
            "epoch: 35 Iteration: 1/8 MSE: 0.0155 \n",
            "\n",
            "epoch: 36 Iteration: 1/8 MSE: 0.0168 \n",
            "\n",
            "epoch: 37 Iteration: 1/8 MSE: 0.0173 \n",
            "\n",
            "epoch: 38 Iteration: 1/8 MSE: 0.0160 \n",
            "\n",
            "epoch: 39 Iteration: 1/8 MSE: 0.0162 \n",
            "\n",
            "epoch: 40 Iteration: 1/8 MSE: 0.0151 \n",
            "\n",
            "epoch: 41 Iteration: 1/8 MSE: 0.0180 \n",
            "\n",
            "epoch: 42 Iteration: 1/8 MSE: 0.0178 \n",
            "\n",
            "epoch: 43 Iteration: 1/8 MSE: 0.0166 \n",
            "\n",
            "epoch: 44 Iteration: 1/8 MSE: 0.0176 \n",
            "\n",
            "epoch: 45 Iteration: 1/8 MSE: 0.0167 \n",
            "\n",
            "epoch: 46 Iteration: 1/8 MSE: 0.0178 \n",
            "\n",
            "epoch: 47 Iteration: 1/8 MSE: 0.0173 \n",
            "\n",
            "epoch: 48 Iteration: 1/8 MSE: 0.0191 \n",
            "\n",
            "epoch: 49 Iteration: 1/8 MSE: 0.0167 \n",
            "\n",
            "epoch: 50 Iteration: 1/8 MSE: 0.0182 \n",
            "\n",
            "epoch: 51 Iteration: 1/8 MSE: 0.0157 \n",
            "\n",
            "epoch: 52 Iteration: 1/8 MSE: 0.0183 \n",
            "\n",
            "epoch: 53 Iteration: 1/8 MSE: 0.0167 \n",
            "\n",
            "epoch: 54 Iteration: 1/8 MSE: 0.0182 \n",
            "\n",
            "epoch: 55 Iteration: 1/8 MSE: 0.0161 \n",
            "\n",
            "epoch: 56 Iteration: 1/8 MSE: 0.0184 \n",
            "\n",
            "epoch: 57 Iteration: 1/8 MSE: 0.0171 \n",
            "\n",
            "epoch: 58 Iteration: 1/8 MSE: 0.0166 \n",
            "\n",
            "epoch: 59 Iteration: 1/8 MSE: 0.0154 \n",
            "\n",
            "epoch: 60 Iteration: 1/8 MSE: 0.0180 \n",
            "\n",
            "epoch: 61 Iteration: 1/8 MSE: 0.0186 \n",
            "\n",
            "epoch: 62 Iteration: 1/8 MSE: 0.0163 \n",
            "\n",
            "epoch: 63 Iteration: 1/8 MSE: 0.0195 \n",
            "\n",
            "epoch: 64 Iteration: 1/8 MSE: 0.0163 \n",
            "\n",
            "epoch: 65 Iteration: 1/8 MSE: 0.0179 \n",
            "\n",
            "epoch: 66 Iteration: 1/8 MSE: 0.0164 \n",
            "\n",
            "epoch: 67 Iteration: 1/8 MSE: 0.0172 \n",
            "\n",
            "epoch: 68 Iteration: 1/8 MSE: 0.0179 \n",
            "\n",
            "epoch: 69 Iteration: 1/8 MSE: 0.0159 \n",
            "\n",
            "epoch: 70 Iteration: 1/8 MSE: 0.0163 \n",
            "\n",
            "epoch: 71 Iteration: 1/8 MSE: 0.0186 \n",
            "\n",
            "epoch: 72 Iteration: 1/8 MSE: 0.0161 \n",
            "\n",
            "epoch: 73 Iteration: 1/8 MSE: 0.0182 \n",
            "\n",
            "epoch: 74 Iteration: 1/8 MSE: 0.0186 \n",
            "\n",
            "epoch: 75 Iteration: 1/8 MSE: 0.0174 \n",
            "\n",
            "epoch: 76 Iteration: 1/8 MSE: 0.0176 \n",
            "\n",
            "epoch: 77 Iteration: 1/8 MSE: 0.0173 \n",
            "\n",
            "epoch: 78 Iteration: 1/8 MSE: 0.0156 \n",
            "\n",
            "epoch: 79 Iteration: 1/8 MSE: 0.0153 \n",
            "\n",
            "epoch: 80 Iteration: 1/8 MSE: 0.0172 \n",
            "\n",
            "epoch: 81 Iteration: 1/8 MSE: 0.0163 \n",
            "\n",
            "epoch: 82 Iteration: 1/8 MSE: 0.0187 \n",
            "\n",
            "epoch: 83 Iteration: 1/8 MSE: 0.0169 \n",
            "\n",
            "epoch: 84 Iteration: 1/8 MSE: 0.0141 \n",
            "\n",
            "epoch: 85 Iteration: 1/8 MSE: 0.0158 \n",
            "\n",
            "epoch: 86 Iteration: 1/8 MSE: 0.0153 \n",
            "\n",
            "epoch: 87 Iteration: 1/8 MSE: 0.0164 \n",
            "\n",
            "epoch: 88 Iteration: 1/8 MSE: 0.0176 \n",
            "\n",
            "epoch: 89 Iteration: 1/8 MSE: 0.0162 \n",
            "\n",
            "epoch: 90 Iteration: 1/8 MSE: 0.0176 \n",
            "\n",
            "epoch: 91 Iteration: 1/8 MSE: 0.0151 \n",
            "\n",
            "epoch: 92 Iteration: 1/8 MSE: 0.0164 \n",
            "\n",
            "epoch: 93 Iteration: 1/8 MSE: 0.0154 \n",
            "\n",
            "epoch: 94 Iteration: 1/8 MSE: 0.0160 \n",
            "\n",
            "epoch: 95 Iteration: 1/8 MSE: 0.0164 \n",
            "\n",
            "epoch: 96 Iteration: 1/8 MSE: 0.0183 \n",
            "\n",
            "epoch: 97 Iteration: 1/8 MSE: 0.0163 \n",
            "\n",
            "epoch: 98 Iteration: 1/8 MSE: 0.0174 \n",
            "\n",
            "epoch: 99 Iteration: 1/8 MSE: 0.0157 \n",
            "\n",
            "epoch: 100 Iteration: 1/8 MSE: 0.0157 \n",
            "\n",
            "epoch: 101 Iteration: 1/8 MSE: 0.0154 \n",
            "\n",
            "epoch: 102 Iteration: 1/8 MSE: 0.0152 \n",
            "\n",
            "epoch: 103 Iteration: 1/8 MSE: 0.0151 \n",
            "\n",
            "epoch: 104 Iteration: 1/8 MSE: 0.0169 \n",
            "\n",
            "epoch: 105 Iteration: 1/8 MSE: 0.0164 \n",
            "\n",
            "epoch: 106 Iteration: 1/8 MSE: 0.0144 \n",
            "\n",
            "epoch: 107 Iteration: 1/8 MSE: 0.0156 \n",
            "\n",
            "epoch: 108 Iteration: 1/8 MSE: 0.0166 \n",
            "\n",
            "epoch: 109 Iteration: 1/8 MSE: 0.0159 \n",
            "\n",
            "epoch: 110 Iteration: 1/8 MSE: 0.0173 \n",
            "\n",
            "epoch: 111 Iteration: 1/8 MSE: 0.0156 \n",
            "\n",
            "epoch: 112 Iteration: 1/8 MSE: 0.0175 \n",
            "\n",
            "epoch: 113 Iteration: 1/8 MSE: 0.0152 \n",
            "\n",
            "epoch: 114 Iteration: 1/8 MSE: 0.0142 \n",
            "\n",
            "epoch: 115 Iteration: 1/8 MSE: 0.0167 \n",
            "\n",
            "epoch: 116 Iteration: 1/8 MSE: 0.0148 \n",
            "\n",
            "epoch: 117 Iteration: 1/8 MSE: 0.0156 \n",
            "\n",
            "epoch: 118 Iteration: 1/8 MSE: 0.0151 \n",
            "\n",
            "epoch: 119 Iteration: 1/8 MSE: 0.0158 \n",
            "\n",
            "epoch: 120 Iteration: 1/8 MSE: 0.0144 \n",
            "\n",
            "epoch: 121 Iteration: 1/8 MSE: 0.0157 \n",
            "\n",
            "epoch: 122 Iteration: 1/8 MSE: 0.0152 \n",
            "\n",
            "epoch: 123 Iteration: 1/8 MSE: 0.0160 \n",
            "\n",
            "epoch: 124 Iteration: 1/8 MSE: 0.0175 \n",
            "\n",
            "epoch: 125 Iteration: 1/8 MSE: 0.0182 \n",
            "\n",
            "epoch: 126 Iteration: 1/8 MSE: 0.0154 \n",
            "\n",
            "epoch: 127 Iteration: 1/8 MSE: 0.0181 \n",
            "\n",
            "epoch: 128 Iteration: 1/8 MSE: 0.0176 \n",
            "\n",
            "epoch: 129 Iteration: 1/8 MSE: 0.0149 \n",
            "\n",
            "epoch: 130 Iteration: 1/8 MSE: 0.0164 \n",
            "\n",
            "epoch: 131 Iteration: 1/8 MSE: 0.0182 \n",
            "\n",
            "epoch: 132 Iteration: 1/8 MSE: 0.0162 \n",
            "\n",
            "epoch: 133 Iteration: 1/8 MSE: 0.0154 \n",
            "\n",
            "epoch: 134 Iteration: 1/8 MSE: 0.0167 \n",
            "\n",
            "epoch: 135 Iteration: 1/8 MSE: 0.0162 \n",
            "\n",
            "epoch: 136 Iteration: 1/8 MSE: 0.0164 \n",
            "\n",
            "epoch: 137 Iteration: 1/8 MSE: 0.0170 \n",
            "\n",
            "epoch: 138 Iteration: 1/8 MSE: 0.0160 \n",
            "\n",
            "epoch: 139 Iteration: 1/8 MSE: 0.0141 \n",
            "\n",
            "epoch: 140 Iteration: 1/8 MSE: 0.0172 \n",
            "\n",
            "epoch: 141 Iteration: 1/8 MSE: 0.0158 \n",
            "\n",
            "epoch: 142 Iteration: 1/8 MSE: 0.0166 \n",
            "\n",
            "epoch: 143 Iteration: 1/8 MSE: 0.0152 \n",
            "\n",
            "epoch: 144 Iteration: 1/8 MSE: 0.0166 \n",
            "\n",
            "epoch: 145 Iteration: 1/8 MSE: 0.0153 \n",
            "\n",
            "epoch: 146 Iteration: 1/8 MSE: 0.0149 \n",
            "\n",
            "epoch: 147 Iteration: 1/8 MSE: 0.0158 \n",
            "\n",
            "epoch: 148 Iteration: 1/8 MSE: 0.0167 \n",
            "\n",
            "epoch: 149 Iteration: 1/8 MSE: 0.0163 \n",
            "\n",
            "epoch: 150 Iteration: 1/8 MSE: 0.0177 \n",
            "\n",
            "epoch: 151 Iteration: 1/8 MSE: 0.0160 \n",
            "\n",
            "epoch: 152 Iteration: 1/8 MSE: 0.0153 \n",
            "\n",
            "epoch: 153 Iteration: 1/8 MSE: 0.0164 \n",
            "\n",
            "epoch: 154 Iteration: 1/8 MSE: 0.0178 \n",
            "\n",
            "epoch: 155 Iteration: 1/8 MSE: 0.0144 \n",
            "\n",
            "epoch: 156 Iteration: 1/8 MSE: 0.0165 \n",
            "\n",
            "epoch: 157 Iteration: 1/8 MSE: 0.0176 \n",
            "\n",
            "epoch: 158 Iteration: 1/8 MSE: 0.0154 \n",
            "\n",
            "epoch: 159 Iteration: 1/8 MSE: 0.0173 \n",
            "\n",
            "epoch: 160 Iteration: 1/8 MSE: 0.0168 \n",
            "\n",
            "epoch: 161 Iteration: 1/8 MSE: 0.0152 \n",
            "\n",
            "epoch: 162 Iteration: 1/8 MSE: 0.0174 \n",
            "\n",
            "epoch: 163 Iteration: 1/8 MSE: 0.0147 \n",
            "\n",
            "epoch: 164 Iteration: 1/8 MSE: 0.0182 \n",
            "\n",
            "epoch: 165 Iteration: 1/8 MSE: 0.0157 \n",
            "\n",
            "epoch: 166 Iteration: 1/8 MSE: 0.0173 \n",
            "\n",
            "epoch: 167 Iteration: 1/8 MSE: 0.0161 \n",
            "\n",
            "epoch: 168 Iteration: 1/8 MSE: 0.0145 \n",
            "\n",
            "epoch: 169 Iteration: 1/8 MSE: 0.0167 \n",
            "\n",
            "epoch: 170 Iteration: 1/8 MSE: 0.0165 \n",
            "\n",
            "epoch: 171 Iteration: 1/8 MSE: 0.0161 \n",
            "\n",
            "epoch: 172 Iteration: 1/8 MSE: 0.0172 \n",
            "\n",
            "epoch: 173 Iteration: 1/8 MSE: 0.0156 \n",
            "\n",
            "epoch: 174 Iteration: 1/8 MSE: 0.0145 \n",
            "\n",
            "epoch: 175 Iteration: 1/8 MSE: 0.0149 \n",
            "\n",
            "epoch: 176 Iteration: 1/8 MSE: 0.0170 \n",
            "\n",
            "epoch: 177 Iteration: 1/8 MSE: 0.0133 \n",
            "\n",
            "epoch: 178 Iteration: 1/8 MSE: 0.0163 \n",
            "\n",
            "epoch: 179 Iteration: 1/8 MSE: 0.0164 \n",
            "\n",
            "epoch: 180 Iteration: 1/8 MSE: 0.0150 \n",
            "\n",
            "epoch: 181 Iteration: 1/8 MSE: 0.0139 \n",
            "\n",
            "epoch: 182 Iteration: 1/8 MSE: 0.0171 \n",
            "\n",
            "epoch: 183 Iteration: 1/8 MSE: 0.0154 \n",
            "\n",
            "epoch: 184 Iteration: 1/8 MSE: 0.0150 \n",
            "\n",
            "epoch: 185 Iteration: 1/8 MSE: 0.0161 \n",
            "\n",
            "epoch: 186 Iteration: 1/8 MSE: 0.0180 \n",
            "\n",
            "epoch: 187 Iteration: 1/8 MSE: 0.0181 \n",
            "\n",
            "epoch: 188 Iteration: 1/8 MSE: 0.0153 \n",
            "\n",
            "epoch: 189 Iteration: 1/8 MSE: 0.0180 \n",
            "\n",
            "epoch: 190 Iteration: 1/8 MSE: 0.0163 \n",
            "\n",
            "epoch: 191 Iteration: 1/8 MSE: 0.0157 \n",
            "\n",
            "epoch: 192 Iteration: 1/8 MSE: 0.0180 \n",
            "\n",
            "epoch: 193 Iteration: 1/8 MSE: 0.0159 \n",
            "\n",
            "epoch: 194 Iteration: 1/8 MSE: 0.0165 \n",
            "\n",
            "epoch: 195 Iteration: 1/8 MSE: 0.0166 \n",
            "\n",
            "epoch: 196 Iteration: 1/8 MSE: 0.0152 \n",
            "\n",
            "epoch: 197 Iteration: 1/8 MSE: 0.0170 \n",
            "\n",
            "epoch: 198 Iteration: 1/8 MSE: 0.0197 \n",
            "\n",
            "epoch: 199 Iteration: 1/8 MSE: 0.0161 \n",
            "\n",
            "epoch: 200 Iteration: 1/8 MSE: 0.0172 \n",
            "\n",
            "epoch: 201 Iteration: 1/8 MSE: 0.0193 \n",
            "\n",
            "epoch: 202 Iteration: 1/8 MSE: 0.0188 \n",
            "\n",
            "epoch: 203 Iteration: 1/8 MSE: 0.0170 \n",
            "\n",
            "epoch: 204 Iteration: 1/8 MSE: 0.0164 \n",
            "\n",
            "epoch: 205 Iteration: 1/8 MSE: 0.0157 \n",
            "\n",
            "epoch: 206 Iteration: 1/8 MSE: 0.0173 \n",
            "\n",
            "epoch: 207 Iteration: 1/8 MSE: 0.0158 \n",
            "\n",
            "epoch: 208 Iteration: 1/8 MSE: 0.0157 \n",
            "\n",
            "epoch: 209 Iteration: 1/8 MSE: 0.0141 \n",
            "\n",
            "epoch: 210 Iteration: 1/8 MSE: 0.0179 \n",
            "\n",
            "epoch: 211 Iteration: 1/8 MSE: 0.0172 \n",
            "\n",
            "epoch: 212 Iteration: 1/8 MSE: 0.0178 \n",
            "\n",
            "epoch: 213 Iteration: 1/8 MSE: 0.0178 \n",
            "\n",
            "epoch: 214 Iteration: 1/8 MSE: 0.0168 \n",
            "\n",
            "epoch: 215 Iteration: 1/8 MSE: 0.0158 \n",
            "\n",
            "epoch: 216 Iteration: 1/8 MSE: 0.0158 \n",
            "\n",
            "epoch: 217 Iteration: 1/8 MSE: 0.0186 \n",
            "\n",
            "epoch: 218 Iteration: 1/8 MSE: 0.0175 \n",
            "\n",
            "epoch: 219 Iteration: 1/8 MSE: 0.0150 \n",
            "\n",
            "epoch: 220 Iteration: 1/8 MSE: 0.0132 \n",
            "\n",
            "epoch: 221 Iteration: 1/8 MSE: 0.0189 \n",
            "\n",
            "epoch: 222 Iteration: 1/8 MSE: 0.0175 \n",
            "\n",
            "epoch: 223 Iteration: 1/8 MSE: 0.0161 \n",
            "\n",
            "epoch: 224 Iteration: 1/8 MSE: 0.0157 \n",
            "\n",
            "epoch: 225 Iteration: 1/8 MSE: 0.0161 \n",
            "\n",
            "epoch: 226 Iteration: 1/8 MSE: 0.0144 \n",
            "\n",
            "epoch: 227 Iteration: 1/8 MSE: 0.0161 \n",
            "\n",
            "epoch: 228 Iteration: 1/8 MSE: 0.0174 \n",
            "\n",
            "epoch: 229 Iteration: 1/8 MSE: 0.0160 \n",
            "\n",
            "epoch: 230 Iteration: 1/8 MSE: 0.0154 \n",
            "\n",
            "epoch: 231 Iteration: 1/8 MSE: 0.0159 \n",
            "\n",
            "epoch: 232 Iteration: 1/8 MSE: 0.0159 \n",
            "\n",
            "epoch: 233 Iteration: 1/8 MSE: 0.0159 \n",
            "\n",
            "epoch: 234 Iteration: 1/8 MSE: 0.0174 \n",
            "\n",
            "epoch: 235 Iteration: 1/8 MSE: 0.0149 \n",
            "\n",
            "epoch: 236 Iteration: 1/8 MSE: 0.0166 \n",
            "\n",
            "epoch: 237 Iteration: 1/8 MSE: 0.0146 \n",
            "\n",
            "epoch: 238 Iteration: 1/8 MSE: 0.0154 \n",
            "\n",
            "epoch: 239 Iteration: 1/8 MSE: 0.0185 \n",
            "\n",
            "epoch: 240 Iteration: 1/8 MSE: 0.0178 \n",
            "\n",
            "epoch: 241 Iteration: 1/8 MSE: 0.0154 \n",
            "\n",
            "epoch: 242 Iteration: 1/8 MSE: 0.0173 \n",
            "\n",
            "epoch: 243 Iteration: 1/8 MSE: 0.0164 \n",
            "\n",
            "epoch: 244 Iteration: 1/8 MSE: 0.0161 \n",
            "\n",
            "epoch: 245 Iteration: 1/8 MSE: 0.0160 \n",
            "\n",
            "epoch: 246 Iteration: 1/8 MSE: 0.0168 \n",
            "\n",
            "epoch: 247 Iteration: 1/8 MSE: 0.0153 \n",
            "\n",
            "epoch: 248 Iteration: 1/8 MSE: 0.0155 \n",
            "\n",
            "epoch: 249 Iteration: 1/8 MSE: 0.0181 \n",
            "\n",
            "epoch: 250 Iteration: 1/8 MSE: 0.0151 \n",
            "\n",
            "epoch: 251 Iteration: 1/8 MSE: 0.0158 \n",
            "\n",
            "epoch: 252 Iteration: 1/8 MSE: 0.0163 \n",
            "\n",
            "epoch: 253 Iteration: 1/8 MSE: 0.0157 \n",
            "\n",
            "epoch: 254 Iteration: 1/8 MSE: 0.0167 \n",
            "\n",
            "epoch: 255 Iteration: 1/8 MSE: 0.0169 \n",
            "\n",
            "epoch: 256 Iteration: 1/8 MSE: 0.0169 \n",
            "\n",
            "epoch: 257 Iteration: 1/8 MSE: 0.0179 \n",
            "\n",
            "epoch: 258 Iteration: 1/8 MSE: 0.0155 \n",
            "\n",
            "epoch: 259 Iteration: 1/8 MSE: 0.0152 \n",
            "\n",
            "epoch: 260 Iteration: 1/8 MSE: 0.0143 \n",
            "\n",
            "epoch: 261 Iteration: 1/8 MSE: 0.0149 \n",
            "\n",
            "epoch: 262 Iteration: 1/8 MSE: 0.0157 \n",
            "\n",
            "epoch: 263 Iteration: 1/8 MSE: 0.0167 \n",
            "\n",
            "epoch: 264 Iteration: 1/8 MSE: 0.0164 \n",
            "\n",
            "epoch: 265 Iteration: 1/8 MSE: 0.0178 \n",
            "\n",
            "epoch: 266 Iteration: 1/8 MSE: 0.0152 \n",
            "\n",
            "epoch: 267 Iteration: 1/8 MSE: 0.0153 \n",
            "\n",
            "epoch: 268 Iteration: 1/8 MSE: 0.0165 \n",
            "\n",
            "epoch: 269 Iteration: 1/8 MSE: 0.0168 \n",
            "\n",
            "epoch: 270 Iteration: 1/8 MSE: 0.0172 \n",
            "\n",
            "epoch: 271 Iteration: 1/8 MSE: 0.0183 \n",
            "\n",
            "epoch: 272 Iteration: 1/8 MSE: 0.0147 \n",
            "\n",
            "epoch: 273 Iteration: 1/8 MSE: 0.0154 \n",
            "\n",
            "epoch: 274 Iteration: 1/8 MSE: 0.0168 \n",
            "\n",
            "epoch: 275 Iteration: 1/8 MSE: 0.0159 \n",
            "\n",
            "epoch: 276 Iteration: 1/8 MSE: 0.0176 \n",
            "\n",
            "epoch: 277 Iteration: 1/8 MSE: 0.0157 \n",
            "\n",
            "epoch: 278 Iteration: 1/8 MSE: 0.0170 \n",
            "\n",
            "epoch: 279 Iteration: 1/8 MSE: 0.0186 \n",
            "\n",
            "epoch: 280 Iteration: 1/8 MSE: 0.0163 \n",
            "\n",
            "epoch: 281 Iteration: 1/8 MSE: 0.0166 \n",
            "\n",
            "epoch: 282 Iteration: 1/8 MSE: 0.0174 \n",
            "\n",
            "epoch: 283 Iteration: 1/8 MSE: 0.0159 \n",
            "\n",
            "epoch: 284 Iteration: 1/8 MSE: 0.0165 \n",
            "\n",
            "epoch: 285 Iteration: 1/8 MSE: 0.0169 \n",
            "\n",
            "epoch: 286 Iteration: 1/8 MSE: 0.0187 \n",
            "\n",
            "epoch: 287 Iteration: 1/8 MSE: 0.0177 \n",
            "\n",
            "epoch: 288 Iteration: 1/8 MSE: 0.0185 \n",
            "\n",
            "epoch: 289 Iteration: 1/8 MSE: 0.0164 \n",
            "\n",
            "epoch: 290 Iteration: 1/8 MSE: 0.0165 \n",
            "\n",
            "epoch: 291 Iteration: 1/8 MSE: 0.0164 \n",
            "\n",
            "epoch: 292 Iteration: 1/8 MSE: 0.0160 \n",
            "\n",
            "epoch: 293 Iteration: 1/8 MSE: 0.0146 \n",
            "\n",
            "epoch: 294 Iteration: 1/8 MSE: 0.0149 \n",
            "\n",
            "epoch: 295 Iteration: 1/8 MSE: 0.0170 \n",
            "\n",
            "epoch: 296 Iteration: 1/8 MSE: 0.0164 \n",
            "\n",
            "epoch: 297 Iteration: 1/8 MSE: 0.0153 \n",
            "\n",
            "epoch: 298 Iteration: 1/8 MSE: 0.0167 \n",
            "\n",
            "epoch: 299 Iteration: 1/8 MSE: 0.0196 \n",
            "\n",
            "epoch: 300 Iteration: 1/8 MSE: 0.0135 \n",
            "\n",
            "epoch: 301 Iteration: 1/8 MSE: 0.0178 \n",
            "\n",
            "epoch: 302 Iteration: 1/8 MSE: 0.0170 \n",
            "\n",
            "epoch: 303 Iteration: 1/8 MSE: 0.0167 \n",
            "\n",
            "epoch: 304 Iteration: 1/8 MSE: 0.0159 \n",
            "\n",
            "epoch: 305 Iteration: 1/8 MSE: 0.0179 \n",
            "\n",
            "epoch: 306 Iteration: 1/8 MSE: 0.0159 \n",
            "\n",
            "epoch: 307 Iteration: 1/8 MSE: 0.0149 \n",
            "\n",
            "epoch: 308 Iteration: 1/8 MSE: 0.0173 \n",
            "\n",
            "epoch: 309 Iteration: 1/8 MSE: 0.0170 \n",
            "\n",
            "epoch: 310 Iteration: 1/8 MSE: 0.0170 \n",
            "\n",
            "epoch: 311 Iteration: 1/8 MSE: 0.0158 \n",
            "\n",
            "epoch: 312 Iteration: 1/8 MSE: 0.0152 \n",
            "\n",
            "epoch: 313 Iteration: 1/8 MSE: 0.0163 \n",
            "\n",
            "epoch: 314 Iteration: 1/8 MSE: 0.0177 \n",
            "\n",
            "epoch: 315 Iteration: 1/8 MSE: 0.0158 \n",
            "\n",
            "epoch: 316 Iteration: 1/8 MSE: 0.0176 \n",
            "\n",
            "epoch: 317 Iteration: 1/8 MSE: 0.0151 \n",
            "\n",
            "epoch: 318 Iteration: 1/8 MSE: 0.0170 \n",
            "\n",
            "epoch: 319 Iteration: 1/8 MSE: 0.0161 \n",
            "\n",
            "epoch: 320 Iteration: 1/8 MSE: 0.0177 \n",
            "\n",
            "epoch: 321 Iteration: 1/8 MSE: 0.0161 \n",
            "\n",
            "epoch: 322 Iteration: 1/8 MSE: 0.0148 \n",
            "\n",
            "epoch: 323 Iteration: 1/8 MSE: 0.0167 \n",
            "\n",
            "epoch: 324 Iteration: 1/8 MSE: 0.0156 \n",
            "\n",
            "epoch: 325 Iteration: 1/8 MSE: 0.0173 \n",
            "\n",
            "epoch: 326 Iteration: 1/8 MSE: 0.0168 \n",
            "\n",
            "epoch: 327 Iteration: 1/8 MSE: 0.0161 \n",
            "\n",
            "epoch: 328 Iteration: 1/8 MSE: 0.0167 \n",
            "\n",
            "epoch: 329 Iteration: 1/8 MSE: 0.0147 \n",
            "\n",
            "epoch: 330 Iteration: 1/8 MSE: 0.0167 \n",
            "\n",
            "epoch: 331 Iteration: 1/8 MSE: 0.0177 \n",
            "\n",
            "epoch: 332 Iteration: 1/8 MSE: 0.0179 \n",
            "\n",
            "epoch: 333 Iteration: 1/8 MSE: 0.0175 \n",
            "\n",
            "epoch: 334 Iteration: 1/8 MSE: 0.0172 \n",
            "\n",
            "epoch: 335 Iteration: 1/8 MSE: 0.0168 \n",
            "\n",
            "epoch: 336 Iteration: 1/8 MSE: 0.0159 \n",
            "\n",
            "epoch: 337 Iteration: 1/8 MSE: 0.0159 \n",
            "\n",
            "epoch: 338 Iteration: 1/8 MSE: 0.0148 \n",
            "\n",
            "epoch: 339 Iteration: 1/8 MSE: 0.0155 \n",
            "\n",
            "epoch: 340 Iteration: 1/8 MSE: 0.0162 \n",
            "\n",
            "epoch: 341 Iteration: 1/8 MSE: 0.0168 \n",
            "\n",
            "epoch: 342 Iteration: 1/8 MSE: 0.0167 \n",
            "\n",
            "epoch: 343 Iteration: 1/8 MSE: 0.0161 \n",
            "\n",
            "epoch: 344 Iteration: 1/8 MSE: 0.0168 \n",
            "\n",
            "epoch: 345 Iteration: 1/8 MSE: 0.0190 \n",
            "\n",
            "epoch: 346 Iteration: 1/8 MSE: 0.0170 \n",
            "\n",
            "epoch: 347 Iteration: 1/8 MSE: 0.0155 \n",
            "\n",
            "epoch: 348 Iteration: 1/8 MSE: 0.0177 \n",
            "\n",
            "epoch: 349 Iteration: 1/8 MSE: 0.0159 \n",
            "\n",
            "epoch: 350 Iteration: 1/8 MSE: 0.0172 \n",
            "\n",
            "epoch: 351 Iteration: 1/8 MSE: 0.0166 \n",
            "\n",
            "epoch: 352 Iteration: 1/8 MSE: 0.0169 \n",
            "\n",
            "epoch: 353 Iteration: 1/8 MSE: 0.0188 \n",
            "\n",
            "epoch: 354 Iteration: 1/8 MSE: 0.0165 \n",
            "\n",
            "epoch: 355 Iteration: 1/8 MSE: 0.0179 \n",
            "\n",
            "epoch: 356 Iteration: 1/8 MSE: 0.0161 \n",
            "\n",
            "epoch: 357 Iteration: 1/8 MSE: 0.0155 \n",
            "\n",
            "epoch: 358 Iteration: 1/8 MSE: 0.0146 \n",
            "\n",
            "epoch: 359 Iteration: 1/8 MSE: 0.0162 \n",
            "\n",
            "epoch: 360 Iteration: 1/8 MSE: 0.0144 \n",
            "\n",
            "epoch: 361 Iteration: 1/8 MSE: 0.0171 \n",
            "\n",
            "epoch: 362 Iteration: 1/8 MSE: 0.0158 \n",
            "\n",
            "epoch: 363 Iteration: 1/8 MSE: 0.0177 \n",
            "\n",
            "epoch: 364 Iteration: 1/8 MSE: 0.0146 \n",
            "\n",
            "epoch: 365 Iteration: 1/8 MSE: 0.0158 \n",
            "\n",
            "epoch: 366 Iteration: 1/8 MSE: 0.0171 \n",
            "\n",
            "epoch: 367 Iteration: 1/8 MSE: 0.0150 \n",
            "\n",
            "epoch: 368 Iteration: 1/8 MSE: 0.0154 \n",
            "\n",
            "epoch: 369 Iteration: 1/8 MSE: 0.0151 \n",
            "\n",
            "epoch: 370 Iteration: 1/8 MSE: 0.0155 \n",
            "\n",
            "epoch: 371 Iteration: 1/8 MSE: 0.0155 \n",
            "\n",
            "epoch: 372 Iteration: 1/8 MSE: 0.0153 \n",
            "\n",
            "epoch: 373 Iteration: 1/8 MSE: 0.0175 \n",
            "\n",
            "epoch: 374 Iteration: 1/8 MSE: 0.0176 \n",
            "\n",
            "epoch: 375 Iteration: 1/8 MSE: 0.0171 \n",
            "\n",
            "epoch: 376 Iteration: 1/8 MSE: 0.0151 \n",
            "\n",
            "epoch: 377 Iteration: 1/8 MSE: 0.0160 \n",
            "\n",
            "epoch: 378 Iteration: 1/8 MSE: 0.0174 \n",
            "\n",
            "epoch: 379 Iteration: 1/8 MSE: 0.0183 \n",
            "\n",
            "epoch: 380 Iteration: 1/8 MSE: 0.0148 \n",
            "\n",
            "epoch: 381 Iteration: 1/8 MSE: 0.0158 \n",
            "\n",
            "epoch: 382 Iteration: 1/8 MSE: 0.0146 \n",
            "\n",
            "epoch: 383 Iteration: 1/8 MSE: 0.0164 \n",
            "\n",
            "epoch: 384 Iteration: 1/8 MSE: 0.0156 \n",
            "\n",
            "epoch: 385 Iteration: 1/8 MSE: 0.0170 \n",
            "\n",
            "epoch: 386 Iteration: 1/8 MSE: 0.0162 \n",
            "\n",
            "epoch: 387 Iteration: 1/8 MSE: 0.0163 \n",
            "\n",
            "epoch: 388 Iteration: 1/8 MSE: 0.0165 \n",
            "\n",
            "epoch: 389 Iteration: 1/8 MSE: 0.0159 \n",
            "\n",
            "epoch: 390 Iteration: 1/8 MSE: 0.0180 \n",
            "\n",
            "epoch: 391 Iteration: 1/8 MSE: 0.0159 \n",
            "\n",
            "epoch: 392 Iteration: 1/8 MSE: 0.0194 \n",
            "\n",
            "epoch: 393 Iteration: 1/8 MSE: 0.0163 \n",
            "\n",
            "epoch: 394 Iteration: 1/8 MSE: 0.0143 \n",
            "\n",
            "epoch: 395 Iteration: 1/8 MSE: 0.0160 \n",
            "\n",
            "epoch: 396 Iteration: 1/8 MSE: 0.0177 \n",
            "\n",
            "epoch: 397 Iteration: 1/8 MSE: 0.0158 \n",
            "\n",
            "epoch: 398 Iteration: 1/8 MSE: 0.0160 \n",
            "\n",
            "epoch: 399 Iteration: 1/8 MSE: 0.0174 \n",
            "\n",
            "epoch: 400 Iteration: 1/8 MSE: 0.0154 \n",
            "\n",
            "epoch: 401 Iteration: 1/8 MSE: 0.0156 \n",
            "\n",
            "epoch: 402 Iteration: 1/8 MSE: 0.0150 \n",
            "\n",
            "epoch: 403 Iteration: 1/8 MSE: 0.0172 \n",
            "\n",
            "epoch: 404 Iteration: 1/8 MSE: 0.0176 \n",
            "\n",
            "epoch: 405 Iteration: 1/8 MSE: 0.0157 \n",
            "\n",
            "epoch: 406 Iteration: 1/8 MSE: 0.0151 \n",
            "\n",
            "epoch: 407 Iteration: 1/8 MSE: 0.0139 \n",
            "\n",
            "epoch: 408 Iteration: 1/8 MSE: 0.0154 \n",
            "\n",
            "epoch: 409 Iteration: 1/8 MSE: 0.0139 \n",
            "\n",
            "epoch: 410 Iteration: 1/8 MSE: 0.0166 \n",
            "\n",
            "epoch: 411 Iteration: 1/8 MSE: 0.0148 \n",
            "\n",
            "epoch: 412 Iteration: 1/8 MSE: 0.0181 \n",
            "\n",
            "epoch: 413 Iteration: 1/8 MSE: 0.0159 \n",
            "\n",
            "epoch: 414 Iteration: 1/8 MSE: 0.0156 \n",
            "\n",
            "epoch: 415 Iteration: 1/8 MSE: 0.0171 \n",
            "\n",
            "epoch: 416 Iteration: 1/8 MSE: 0.0169 \n",
            "\n",
            "epoch: 417 Iteration: 1/8 MSE: 0.0151 \n",
            "\n",
            "epoch: 418 Iteration: 1/8 MSE: 0.0167 \n",
            "\n",
            "epoch: 419 Iteration: 1/8 MSE: 0.0183 \n",
            "\n",
            "epoch: 420 Iteration: 1/8 MSE: 0.0180 \n",
            "\n",
            "epoch: 421 Iteration: 1/8 MSE: 0.0170 \n",
            "\n",
            "epoch: 422 Iteration: 1/8 MSE: 0.0165 \n",
            "\n",
            "epoch: 423 Iteration: 1/8 MSE: 0.0163 \n",
            "\n",
            "epoch: 424 Iteration: 1/8 MSE: 0.0173 \n",
            "\n",
            "epoch: 425 Iteration: 1/8 MSE: 0.0154 \n",
            "\n",
            "epoch: 426 Iteration: 1/8 MSE: 0.0159 \n",
            "\n",
            "epoch: 427 Iteration: 1/8 MSE: 0.0144 \n",
            "\n",
            "epoch: 428 Iteration: 1/8 MSE: 0.0171 \n",
            "\n",
            "epoch: 429 Iteration: 1/8 MSE: 0.0150 \n",
            "\n",
            "epoch: 430 Iteration: 1/8 MSE: 0.0185 \n",
            "\n",
            "epoch: 431 Iteration: 1/8 MSE: 0.0162 \n",
            "\n",
            "epoch: 432 Iteration: 1/8 MSE: 0.0183 \n",
            "\n",
            "epoch: 433 Iteration: 1/8 MSE: 0.0159 \n",
            "\n",
            "epoch: 434 Iteration: 1/8 MSE: 0.0156 \n",
            "\n",
            "epoch: 435 Iteration: 1/8 MSE: 0.0137 \n",
            "\n",
            "epoch: 436 Iteration: 1/8 MSE: 0.0168 \n",
            "\n",
            "epoch: 437 Iteration: 1/8 MSE: 0.0161 \n",
            "\n",
            "epoch: 438 Iteration: 1/8 MSE: 0.0154 \n",
            "\n",
            "epoch: 439 Iteration: 1/8 MSE: 0.0154 \n",
            "\n",
            "epoch: 440 Iteration: 1/8 MSE: 0.0190 \n",
            "\n",
            "epoch: 441 Iteration: 1/8 MSE: 0.0166 \n",
            "\n",
            "epoch: 442 Iteration: 1/8 MSE: 0.0180 \n",
            "\n",
            "epoch: 443 Iteration: 1/8 MSE: 0.0156 \n",
            "\n",
            "epoch: 444 Iteration: 1/8 MSE: 0.0151 \n",
            "\n",
            "epoch: 445 Iteration: 1/8 MSE: 0.0170 \n",
            "\n",
            "epoch: 446 Iteration: 1/8 MSE: 0.0140 \n",
            "\n",
            "epoch: 447 Iteration: 1/8 MSE: 0.0170 \n",
            "\n",
            "epoch: 448 Iteration: 1/8 MSE: 0.0157 \n",
            "\n",
            "epoch: 449 Iteration: 1/8 MSE: 0.0179 \n",
            "\n",
            "epoch: 450 Iteration: 1/8 MSE: 0.0167 \n",
            "\n",
            "epoch: 451 Iteration: 1/8 MSE: 0.0164 \n",
            "\n",
            "epoch: 452 Iteration: 1/8 MSE: 0.0148 \n",
            "\n",
            "epoch: 453 Iteration: 1/8 MSE: 0.0164 \n",
            "\n",
            "epoch: 454 Iteration: 1/8 MSE: 0.0177 \n",
            "\n",
            "epoch: 455 Iteration: 1/8 MSE: 0.0160 \n",
            "\n",
            "epoch: 456 Iteration: 1/8 MSE: 0.0172 \n",
            "\n",
            "epoch: 457 Iteration: 1/8 MSE: 0.0144 \n",
            "\n",
            "epoch: 458 Iteration: 1/8 MSE: 0.0150 \n",
            "\n",
            "epoch: 459 Iteration: 1/8 MSE: 0.0155 \n",
            "\n",
            "epoch: 460 Iteration: 1/8 MSE: 0.0156 \n",
            "\n",
            "epoch: 461 Iteration: 1/8 MSE: 0.0160 \n",
            "\n",
            "epoch: 462 Iteration: 1/8 MSE: 0.0162 \n",
            "\n",
            "epoch: 463 Iteration: 1/8 MSE: 0.0158 \n",
            "\n",
            "epoch: 464 Iteration: 1/8 MSE: 0.0169 \n",
            "\n",
            "epoch: 465 Iteration: 1/8 MSE: 0.0153 \n",
            "\n",
            "epoch: 466 Iteration: 1/8 MSE: 0.0149 \n",
            "\n",
            "epoch: 467 Iteration: 1/8 MSE: 0.0161 \n",
            "\n",
            "epoch: 468 Iteration: 1/8 MSE: 0.0171 \n",
            "\n",
            "epoch: 469 Iteration: 1/8 MSE: 0.0163 \n",
            "\n",
            "epoch: 470 Iteration: 1/8 MSE: 0.0169 \n",
            "\n",
            "epoch: 471 Iteration: 1/8 MSE: 0.0166 \n",
            "\n",
            "epoch: 472 Iteration: 1/8 MSE: 0.0166 \n",
            "\n",
            "epoch: 473 Iteration: 1/8 MSE: 0.0134 \n",
            "\n",
            "epoch: 474 Iteration: 1/8 MSE: 0.0162 \n",
            "\n",
            "epoch: 475 Iteration: 1/8 MSE: 0.0161 \n",
            "\n",
            "epoch: 476 Iteration: 1/8 MSE: 0.0164 \n",
            "\n",
            "epoch: 477 Iteration: 1/8 MSE: 0.0176 \n",
            "\n",
            "epoch: 478 Iteration: 1/8 MSE: 0.0155 \n",
            "\n",
            "epoch: 479 Iteration: 1/8 MSE: 0.0176 \n",
            "\n",
            "epoch: 480 Iteration: 1/8 MSE: 0.0167 \n",
            "\n",
            "epoch: 481 Iteration: 1/8 MSE: 0.0158 \n",
            "\n",
            "epoch: 482 Iteration: 1/8 MSE: 0.0158 \n",
            "\n",
            "epoch: 483 Iteration: 1/8 MSE: 0.0158 \n",
            "\n",
            "epoch: 484 Iteration: 1/8 MSE: 0.0161 \n",
            "\n",
            "epoch: 485 Iteration: 1/8 MSE: 0.0148 \n",
            "\n",
            "epoch: 486 Iteration: 1/8 MSE: 0.0165 \n",
            "\n",
            "epoch: 487 Iteration: 1/8 MSE: 0.0141 \n",
            "\n",
            "epoch: 488 Iteration: 1/8 MSE: 0.0161 \n",
            "\n",
            "epoch: 489 Iteration: 1/8 MSE: 0.0165 \n",
            "\n",
            "epoch: 490 Iteration: 1/8 MSE: 0.0189 \n",
            "\n",
            "epoch: 491 Iteration: 1/8 MSE: 0.0168 \n",
            "\n",
            "epoch: 492 Iteration: 1/8 MSE: 0.0154 \n",
            "\n",
            "epoch: 493 Iteration: 1/8 MSE: 0.0157 \n",
            "\n",
            "epoch: 494 Iteration: 1/8 MSE: 0.0161 \n",
            "\n",
            "epoch: 495 Iteration: 1/8 MSE: 0.0166 \n",
            "\n",
            "epoch: 496 Iteration: 1/8 MSE: 0.0157 \n",
            "\n",
            "epoch: 497 Iteration: 1/8 MSE: 0.0157 \n",
            "\n",
            "epoch: 498 Iteration: 1/8 MSE: 0.0188 \n",
            "\n",
            "epoch: 499 Iteration: 1/8 MSE: 0.0170 \n",
            "\n",
            "epoch: 500 Iteration: 1/8 MSE: 0.0166 \n",
            "\n"
          ],
          "name": "stdout"
        }
      ]
    },
    {
      "cell_type": "code",
      "metadata": {
        "colab": {
          "base_uri": "https://localhost:8080/",
          "height": 300
        },
        "id": "JebM9gwcnvjl",
        "outputId": "08334fbe-2f90-49f3-fbd9-bfc808c40c06"
      },
      "source": [
        "plt.plot(loss)\r\n",
        "plt.title(\"MSE\")"
      ],
      "execution_count": 27,
      "outputs": [
        {
          "output_type": "execute_result",
          "data": {
            "text/plain": [
              "Text(0.5, 1.0, 'MSE')"
            ]
          },
          "metadata": {
            "tags": []
          },
          "execution_count": 27
        },
        {
          "output_type": "display_data",
          "data": {
            "image/png": "[encoded data removed]",
            "text/plain": [
              "<Figure size 432x288 with 1 Axes>"
            ]
          },
          "metadata": {
            "tags": [],
            "needs_background": "light"
          }
        }
      ]
    },
    {
      "cell_type": "markdown",
      "metadata": {
        "id": "6JgD2NpEOO86"
      },
      "source": [
        "Now we test the coefficients with the test data we didn't used for training."
      ]
    },
    {
      "cell_type": "code",
      "metadata": {
        "colab": {
          "base_uri": "https://localhost:8080/"
        },
        "id": "beKnhDNeON1q",
        "outputId": "c07552f3-de57-400e-a804-5d5c59d72264"
      },
      "source": [
        "test_predictions = predict(test_data,coef)\r\n",
        "print(mse_metric(test_data[:,-1],test_predictions))"
      ],
      "execution_count": 28,
      "outputs": [
        {
          "output_type": "stream",
          "text": [
            "0.014380636364335658\n"
          ],
          "name": "stdout"
        }
      ]
    },
    {
      "cell_type": "code",
      "metadata": {
        "colab": {
          "base_uri": "https://localhost:8080/"
        },
        "id": "NpKVYeb8-cC9",
        "outputId": "2ad23dc9-0bce-4c12-e1ec-8b127b34b863"
      },
      "source": [
        "idxs = np.random.randint(0,np.size(test_data,0),5)\r\n",
        "print('Wine Quality:')\r\n",
        "print(test_data[idxs,-1]*(minmax[-1][1]-minmax[-1][0]) + minmax[-1][0])\r\n",
        "print('Predicted Wine Quality:')\r\n",
        "print(test_predictions[np.random.randint(0,np.size(test_data,1),5)]*(minmax[-1][1]-minmax[-1][0]) + minmax[-1][0])"
      ],
      "execution_count": 89,
      "outputs": [
        {
          "output_type": "stream",
          "text": [
            "Wine Quality:\n",
            "[5. 6. 5. 6. 5.]\n",
            "Predicted Wine Quality:\n",
            "[6.7883239  6.17755684 6.17755684 6.39437913 5.61819177]\n"
          ],
          "name": "stdout"
        }
      ]
    },
    {
      "cell_type": "markdown",
      "metadata": {
        "id": "wjgBgzJKZiHn"
      },
      "source": [
        "We obtained a fit for the data with a Mean squared error of 0.014, try changing the batch size and learning rate to see what effect it gives to the optimization process. Maybe the advantage of MSE cannot be seen in this problem but as dimensionality increases it becomes a really useful tool for training Deep learning models."
      ]
    },
    {
      "cell_type": "markdown",
      "metadata": {
        "id": "_1arUeKub00u"
      },
      "source": [
        "#MNIST Hand-written digits classification"
      ]
    },
    {
      "cell_type": "markdown",
      "metadata": {
        "id": "TjXHPYa9Of1_"
      },
      "source": [
        "In this part, we will build a Neural Network to classify Handwritten digits. For this part we will use the vanilla neural network, the MLP. We will use the pytorch library for this reason, you can find additional information in the [docs](https://pytorch.org/docs/stable/index.html).\r\n",
        "\r\n",
        "The first part is to import the necessary libraries we will need for this:"
      ]
    },
    {
      "cell_type": "code",
      "metadata": {
        "id": "Pxq9wqpGb77b"
      },
      "source": [
        "import torch\r\n",
        "import torch.nn as nn\r\n",
        "import torch.nn.functional as F\r\n",
        "import torchvision.datasets as datasets\r\n",
        "import torchvision\r\n",
        "import numpy as np\r\n",
        "import matplotlib.pyplot as plt"
      ],
      "execution_count": 90,
      "outputs": []
    },
    {
      "cell_type": "markdown",
      "metadata": {
        "id": "MPbwKjrIP7eF"
      },
      "source": [
        "The first part is to download the data, we will use the torchvision dataset and download the MNIST dataset."
      ]
    },
    {
      "cell_type": "code",
      "metadata": {
        "colab": {
          "base_uri": "https://localhost:8080/",
          "height": 299,
          "referenced_widgets": [
            "1ca31c4d4ca7423f8d6006767391d495",
            "ebe35f4084a942539d0d963fa65fc6e2",
            "a55f01df9a3e476bb2d074c8651c14b3",
            "7cba44c20e4544c8a56975a09e42c86f"
          ]
        },
        "id": "S0aQst2XQoUm",
        "outputId": "dc1e09c8-dbfe-413b-bab6-4a193ddf78ad"
      },
      "source": [
        "transform = torchvision.transforms.ToTensor\r\n",
        "train_dataset = datasets.MNIST(root='./',download=True, train=True, transform=transform())\r\n",
        "test_dataset = datasets.MNIST(root='./', train=False, transform=transform())"
      ],
      "execution_count": 91,
      "outputs": [
        {
          "output_type": "stream",
          "text": [
            "Downloading http://yann.lecun.com/exdb/mnist/train-images-idx3-ubyte.gz to ./MNIST/raw/train-images-idx3-ubyte.gz\n"
          ],
          "name": "stdout"
        },
        {
          "output_type": "display_data",
          "data": {
            "application/vnd.jupyter.widget-view+json": {
              "model_id": "1ca31c4d4ca7423f8d6006767391d495",
              "version_minor": 0,
              "version_major": 2
            },
            "text/plain": [
              "HBox(children=(FloatProgress(value=1.0, bar_style='info', max=1.0), HTML(value='')))"
            ]
          },
          "metadata": {
            "tags": []
          }
        },
        {
          "output_type": "stream",
          "text": [
            "Extracting ./MNIST/raw/train-images-idx3-ubyte.gz to ./MNIST/raw\n",
            "Downloading http://yann.lecun.com/exdb/mnist/train-labels-idx1-ubyte.gz to ./MNIST/raw/train-labels-idx1-ubyte.gz\n"
          ],
          "name": "stdout"
        },
        {
          "output_type": "display_data",
          "data": {
            "application/vnd.jupyter.widget-view+json": {
              "model_id": "ebe35f4084a942539d0d963fa65fc6e2",
              "version_minor": 0,
              "version_major": 2
            },
            "text/plain": [
              "HBox(children=(FloatProgress(value=1.0, bar_style='info', max=1.0), HTML(value='')))"
            ]
          },
          "metadata": {
            "tags": []
          }
        },
        {
          "output_type": "stream",
          "text": [
            "Extracting ./MNIST/raw/train-labels-idx1-ubyte.gz to ./MNIST/raw\n",
            "Downloading http://yann.lecun.com/exdb/mnist/t10k-images-idx3-ubyte.gz to ./MNIST/raw/t10k-images-idx3-ubyte.gz\n"
          ],
          "name": "stdout"
        },
        {
          "output_type": "display_data",
          "data": {
            "application/vnd.jupyter.widget-view+json": {
              "model_id": "a55f01df9a3e476bb2d074c8651c14b3",
              "version_minor": 0,
              "version_major": 2
            },
            "text/plain": [
              "HBox(children=(FloatProgress(value=1.0, bar_style='info', max=1.0), HTML(value='')))"
            ]
          },
          "metadata": {
            "tags": []
          }
        },
        {
          "output_type": "stream",
          "text": [
            "Extracting ./MNIST/raw/t10k-images-idx3-ubyte.gz to ./MNIST/raw\n",
            "Downloading http://yann.lecun.com/exdb/mnist/t10k-labels-idx1-ubyte.gz to ./MNIST/raw/t10k-labels-idx1-ubyte.gz\n",
            "\n",
            "\n"
          ],
          "name": "stdout"
        },
        {
          "output_type": "display_data",
          "data": {
            "application/vnd.jupyter.widget-view+json": {
              "model_id": "7cba44c20e4544c8a56975a09e42c86f",
              "version_minor": 0,
              "version_major": 2
            },
            "text/plain": [
              "HBox(children=(FloatProgress(value=1.0, bar_style='info', max=1.0), HTML(value='')))"
            ]
          },
          "metadata": {
            "tags": []
          }
        },
        {
          "output_type": "stream",
          "text": [
            "Extracting ./MNIST/raw/t10k-labels-idx1-ubyte.gz to ./MNIST/raw\n",
            "Processing...\n",
            "Done!\n"
          ],
          "name": "stdout"
        },
        {
          "output_type": "stream",
          "text": [
            "/usr/local/lib/python3.6/dist-packages/torchvision/datasets/mnist.py:480: UserWarning: The given NumPy array is not writeable, and PyTorch does not support non-writeable tensors. This means you can write to the underlying (supposedly non-writeable) NumPy array using the tensor. You may want to copy the array to protect its data or make it writeable before converting it to a tensor. This type of warning will be suppressed for the rest of this program. (Triggered internally at  /pytorch/torch/csrc/utils/tensor_numpy.cpp:141.)\n",
            "  return torch.from_numpy(parsed.astype(m[2], copy=False)).view(*s)\n"
          ],
          "name": "stderr"
        }
      ]
    },
    {
      "cell_type": "markdown",
      "metadata": {
        "id": "LnHVPWFhTcy9"
      },
      "source": [
        "Let's explore the dataset to see what it outputs."
      ]
    },
    {
      "cell_type": "code",
      "metadata": {
        "colab": {
          "base_uri": "https://localhost:8080/",
          "height": 337
        },
        "id": "qmDhfqSIRbhN",
        "outputId": "c30fa3cb-8145-42e4-dd1d-f7e11d1132bb"
      },
      "source": [
        "example = train_dataset[np.random.randint(0,len(train_dataset))]\r\n",
        "plt.imshow(example[0][0], cmap='gray')\r\n",
        "plt.title(example[1])"
      ],
      "execution_count": 92,
      "outputs": [
        {
          "output_type": "stream",
          "text": [
            "\n",
            "\n"
          ],
          "name": "stdout"
        },
        {
          "output_type": "execute_result",
          "data": {
            "text/plain": [
              "Text(0.5, 1.0, '7')"
            ]
          },
          "metadata": {
            "tags": []
          },
          "execution_count": 92
        },
        {
          "output_type": "display_data",
          "data": {
            "image/png": "[encoded data removed]",
            "text/plain": [
              "<Figure size 432x288 with 1 Axes>"
            ]
          },
          "metadata": {
            "tags": [],
            "needs_background": "light"
          }
        }
      ]
    },
    {
      "cell_type": "markdown",
      "metadata": {
        "id": "GSe-yWzaTjg1"
      },
      "source": [
        "As we can see we have images with a 28 x 28 resolution and only one channel, the dataset also has an accompanying label to each image and the numbers go from 0 to 9."
      ]
    },
    {
      "cell_type": "markdown",
      "metadata": {
        "id": "adadk7PrXCtR"
      },
      "source": [
        "____________________\r\n",
        "\r\n",
        "**Builindg a model:**\r\n",
        "\r\n",
        "Pytorch has all the necessary tools for defining a model using the module nn. We will build a Multi Layer Perceptron using linear layers. A common MLP looks like this:\r\n",
        "\r\n"
      ]
    },
    {
      "cell_type": "code",
      "metadata": {
        "id": "-nz0QaGJRigX"
      },
      "source": [
        "class mlp(nn.Module):\r\n",
        "  def __init__(self):\r\n",
        "    super(mlp,self).__init__()\r\n",
        "    self.model = nn.Sequential(\r\n",
        "        nn.Linear(28**2,32),\r\n",
        "        nn.Sigmoid(),\r\n",
        "        nn.Linear(32,10),\r\n",
        "        nn.Softmax(dim=1)\r\n",
        "    )\r\n",
        "  def forward(self,x):\r\n",
        "    x = torch.flatten(x,1)\r\n",
        "    return self.model(x)"
      ],
      "execution_count": 93,
      "outputs": []
    },
    {
      "cell_type": "markdown",
      "metadata": {
        "id": "qpTFBK3CdC9x"
      },
      "source": [
        "This is a MLP with one hidden layer, the number of hidden layers usually is called \"depth\" and the number of neurons is called \"width\". In this case we have a depth of 1 and a width of 32. Notice that the output has 10 values, these represent each category, and the input represent the number of pixels in the image. In the ``` forward() ``` method of the module we first have to flatten the image in a vector in order for it to be processed by the Linear layers. After the linear layer computation we have to pass the output through a non-linear activation, in this case we use the sigmoid function for the hidden layers because it keeps the otuputs between zero and one and the output is the softmax function that keeps the sum of the given output equal to one, this is because the outputs represents the probability that the image corresponds to a given number.\r\n",
        "\r\n",
        " ______________\r\n",
        "\r\n",
        "We can define the models in a manual way as the previous example, but we can build a model more efficiently by just using building a list recursively and then pass it to the '''nn.Sequential''' module. Try to define a function with arguments **depth** and **width** to build a list of Neural Network layers."
      ]
    },
    {
      "cell_type": "code",
      "metadata": {
        "id": "1DwXmVDygCtG"
      },
      "source": [
        "def layers(depth,width):\r\n",
        "  layers = []\r\n",
        "  layers.append(nn.Linear(28**2,width))\r\n",
        "  layers.append(nn.Sigmoid())\r\n",
        "  for i in range(depth-1):\r\n",
        "    layers.append(nn.Linear(width,width))\r\n",
        "    layers.append(nn.Sigmoid())\r\n",
        "  layers.append(nn.Linear(width,10))\r\n",
        "  layers.append(nn.Softmax(dim=1))\r\n",
        "  return layers"
      ],
      "execution_count": 94,
      "outputs": []
    },
    {
      "cell_type": "code",
      "metadata": {
        "id": "6K1TiTg2e2Vx"
      },
      "source": [
        "class mlp(nn.Module):\r\n",
        "  def __init__(self, depth, width):\r\n",
        "    super(mlp,self).__init__()\r\n",
        "    self.model = nn.Sequential(*layers(depth,width))\r\n",
        "  def forward(self,x):\r\n",
        "    x = torch.flatten(x,1)\r\n",
        "    return self.model(x)"
      ],
      "execution_count": 95,
      "outputs": []
    },
    {
      "cell_type": "markdown",
      "metadata": {
        "id": "PyrOPz8HmavR"
      },
      "source": [
        "Neural networks usually are trained on GPUs, a GPU allows faster calculations of matrix calculations making models parallelize and run faster than on several cpu cores. With the following line of code we detect if there is GPU availaible and create a device instance. For training and using a model on a GPU we simply need to call the ``.to(device)`` method on every torch module and tensors/data."
      ]
    },
    {
      "cell_type": "code",
      "metadata": {
        "id": "oIbMb8375Vn8"
      },
      "source": [
        "#Use GPU if available\r\n",
        "device = torch.device(\"cuda:0\" if torch.cuda.is_available() else \"cpu\")"
      ],
      "execution_count": 96,
      "outputs": []
    },
    {
      "cell_type": "code",
      "metadata": {
        "colab": {
          "base_uri": "https://localhost:8080/"
        },
        "id": "FXcW873Xg-oJ",
        "outputId": "405af3d0-b62b-44ca-e300-14faf1e38875"
      },
      "source": [
        "model = mlp(depth=1,width=32).to(device)\r\n",
        "print(model)\r\n",
        "pytorch_total_params = sum(p.numel() for p in model.parameters())\r\n",
        "print(\"number of parameters in model: %d\"%(pytorch_total_params))"
      ],
      "execution_count": 97,
      "outputs": [
        {
          "output_type": "stream",
          "text": [
            "mlp(\n",
            "  (model): Sequential(\n",
            "    (0): Linear(in_features=784, out_features=32, bias=True)\n",
            "    (1): Sigmoid()\n",
            "    (2): Linear(in_features=32, out_features=10, bias=True)\n",
            "    (3): Softmax(dim=1)\n",
            "  )\n",
            ")\n",
            "number of parameters in model: 25450\n"
          ],
          "name": "stdout"
        }
      ]
    },
    {
      "cell_type": "markdown",
      "metadata": {
        "id": "gPjqLcl1nNFT"
      },
      "source": [
        "We need to specify the parameters for training our model, in this case batch size, number of epochs and learning rate."
      ]
    },
    {
      "cell_type": "code",
      "metadata": {
        "id": "C-luuEfrmq0T"
      },
      "source": [
        "#Hyperparameters\r\n",
        "batch_size = 100\r\n",
        "n_epochs = 25\r\n",
        "learn_rate = 2e-1"
      ],
      "execution_count": 98,
      "outputs": []
    },
    {
      "cell_type": "markdown",
      "metadata": {
        "id": "_2wpG_BEnZdr"
      },
      "source": [
        "Pytorch uses dataloaders in order to sample batches from a dataset."
      ]
    },
    {
      "cell_type": "code",
      "metadata": {
        "id": "9Mp0XD-_mLYF"
      },
      "source": [
        "#DataLoaders\r\n",
        "train_loader = torch.utils.data.DataLoader(train_dataset, batch_size=batch_size, shuffle=True)\r\n",
        "test_loader = torch.utils.data.DataLoader(test_dataset, batch_size=batch_size)"
      ],
      "execution_count": 99,
      "outputs": []
    },
    {
      "cell_type": "markdown",
      "metadata": {
        "id": "jPy1YrAnnj2C"
      },
      "source": [
        "The next things we need to define are the loss function and the optimizer. For the optimizer we will use the already studied Stochastic gradient descent, luckily we don't need to code it because pytorch has already a very good implementation along with other [optimizers](https://pytorch.org/docs/stable/optim.html#algorithms). The loss function we will use in this case is the [Binary Cross-Entropy](https://pytorch.org/docs/stable/generated/torch.nn.BCELoss.html#torch.nn.BCELoss). Cross-entropy loss, or log loss, measures the performance of a classification model whose output is a probability value between 0 and 1. Cross-entropy loss increases as the predicted probability diverges from the actual label. So predicting a probability of .012 when the actual observation label is 1 would be bad and result in a high loss value. A perfect model would have a log loss of 0. And for this reason is the we use the softmax function in the output layer, because it will transform the output of the NN in a way that the sum of it will be equal to one. If the model is trained to perfection then the NN will output 1 at the position of the correct label and zero everywhere.\r\n",
        "\r\n",
        "\\\\\r\n",
        "\r\n",
        "So for this reason we need to embed the target labels to a [one-hot](https://en.wikipedia.org/wiki/One-hot) encoding. Pytorch has an integrated function to do that that is ``F.one_hot()``. For example, for the target 5, the one-hot version would be: ``[0,0,0,0,0,1,0,0,0,0]``."
      ]
    },
    {
      "cell_type": "code",
      "metadata": {
        "id": "T5fhsK6doR2R"
      },
      "source": [
        "#Loss function and Optimizer\r\n",
        "criterion = nn.BCELoss()\r\n",
        "optimizer = torch.optim.SGD(model.parameters(),lr=learn_rate)"
      ],
      "execution_count": 100,
      "outputs": []
    },
    {
      "cell_type": "code",
      "metadata": {
        "colab": {
          "base_uri": "https://localhost:8080/"
        },
        "id": "NHWeDM4Xo_tQ",
        "outputId": "866b2142-efe9-45e4-ea11-1481f8247e8f"
      },
      "source": [
        "#Training Loop\r\n",
        "train_loss = []\r\n",
        "val_loss = []\r\n",
        "for epoch in range(n_epochs):  # loop over the dataset multiple times\r\n",
        "    epoch_loss = 0.0\r\n",
        "    running_loss = 0.0\r\n",
        "    for i, data in enumerate(train_loader, 0):\r\n",
        "        # get the inputs; data is a list of [inputs, labels]\r\n",
        "        inputs, labels = data\r\n",
        "        inputs = inputs.to(device)\r\n",
        "        labels = F.one_hot(labels,10).type_as(inputs)\r\n",
        "        # zero the parameter gradients\r\n",
        "        optimizer.zero_grad()\r\n",
        "\r\n",
        "        # forward + backward + optimize\r\n",
        "        outputs = model(inputs)\r\n",
        "        loss = criterion(outputs, labels)\r\n",
        "        loss.backward()\r\n",
        "        optimizer.step()\r\n",
        "        epoch_loss += loss.item()\r\n",
        "        # print statistics\r\n",
        "        running_loss += loss.item()\r\n",
        "\r\n",
        "        if i % 50 == 49:    # print every 50 mini-batches\r\n",
        "            print('[%d, %5d] loss: %.3f' %\r\n",
        "                  (epoch + 1, i + 1, running_loss / 50))\r\n",
        "            running_loss = 0.0\r\n",
        "    train_loss.append(epoch_loss/(i+1))\r\n",
        "    #Evaluation of the trained model\r\n",
        "    correct = 0\r\n",
        "    total = 0\r\n",
        "    epoch_loss = 0.0\r\n",
        "    print(\"validating...\")\r\n",
        "    with torch.no_grad():\r\n",
        "        for i, data in enumerate(test_loader, 0):\r\n",
        "            inputs, labels = data\r\n",
        "            inputs = inputs.to(device)\r\n",
        "            outputs = model(inputs)\r\n",
        "            predicted = torch.argmax(outputs,dim=1)\r\n",
        "            loss = criterion(outputs, F.one_hot(labels,10).type_as(inputs))\r\n",
        "            labels =  labels.type_as(inputs)\r\n",
        "            total += labels.shape[0]\r\n",
        "            correct += (predicted == labels).sum().item()\r\n",
        "            epoch_loss += loss.item()\r\n",
        "    print('Accuracy of the network on the test images: %d %%' % (\r\n",
        "        100 * correct / total))\r\n",
        "    val_loss.append(epoch_loss/(i+1))\r\n",
        "\r\n",
        "print('Finished Training')"
      ],
      "execution_count": 101,
      "outputs": [
        {
          "output_type": "stream",
          "text": [
            "[1,    50] loss: 0.324\n",
            "[1,   100] loss: 0.321\n",
            "[1,   150] loss: 0.317\n",
            "[1,   200] loss: 0.314\n",
            "[1,   250] loss: 0.310\n",
            "[1,   300] loss: 0.306\n",
            "[1,   350] loss: 0.301\n",
            "[1,   400] loss: 0.296\n",
            "[1,   450] loss: 0.290\n",
            "[1,   500] loss: 0.284\n",
            "[1,   550] loss: 0.277\n",
            "[1,   600] loss: 0.267\n",
            "validating...\n",
            "Accuracy of the network on the test images: 53 %\n",
            "[2,    50] loss: 0.260\n",
            "[2,   100] loss: 0.252\n",
            "[2,   150] loss: 0.245\n",
            "[2,   200] loss: 0.237\n",
            "[2,   250] loss: 0.228\n",
            "[2,   300] loss: 0.220\n",
            "[2,   350] loss: 0.212\n",
            "[2,   400] loss: 0.204\n",
            "[2,   450] loss: 0.199\n",
            "[2,   500] loss: 0.191\n",
            "[2,   550] loss: 0.185\n",
            "[2,   600] loss: 0.179\n",
            "validating...\n",
            "Accuracy of the network on the test images: 73 %\n",
            "[3,    50] loss: 0.176\n",
            "[3,   100] loss: 0.169\n",
            "[3,   150] loss: 0.164\n",
            "[3,   200] loss: 0.160\n",
            "[3,   250] loss: 0.152\n",
            "[3,   300] loss: 0.149\n",
            "[3,   350] loss: 0.144\n",
            "[3,   400] loss: 0.141\n",
            "[3,   450] loss: 0.136\n",
            "[3,   500] loss: 0.133\n",
            "[3,   550] loss: 0.130\n",
            "[3,   600] loss: 0.127\n",
            "validating...\n",
            "Accuracy of the network on the test images: 82 %\n",
            "[4,    50] loss: 0.125\n",
            "[4,   100] loss: 0.123\n",
            "[4,   150] loss: 0.118\n",
            "[4,   200] loss: 0.118\n",
            "[4,   250] loss: 0.114\n",
            "[4,   300] loss: 0.114\n",
            "[4,   350] loss: 0.108\n",
            "[4,   400] loss: 0.112\n",
            "[4,   450] loss: 0.107\n",
            "[4,   500] loss: 0.106\n",
            "[4,   550] loss: 0.102\n",
            "[4,   600] loss: 0.102\n",
            "validating...\n",
            "Accuracy of the network on the test images: 86 %\n",
            "[5,    50] loss: 0.101\n",
            "[5,   100] loss: 0.099\n",
            "[5,   150] loss: 0.095\n",
            "[5,   200] loss: 0.096\n",
            "[5,   250] loss: 0.096\n",
            "[5,   300] loss: 0.095\n",
            "[5,   350] loss: 0.094\n",
            "[5,   400] loss: 0.090\n",
            "[5,   450] loss: 0.088\n",
            "[5,   500] loss: 0.088\n",
            "[5,   550] loss: 0.086\n",
            "[5,   600] loss: 0.086\n",
            "validating...\n",
            "Accuracy of the network on the test images: 88 %\n",
            "[6,    50] loss: 0.086\n",
            "[6,   100] loss: 0.083\n",
            "[6,   150] loss: 0.082\n",
            "[6,   200] loss: 0.082\n",
            "[6,   250] loss: 0.082\n",
            "[6,   300] loss: 0.080\n",
            "[6,   350] loss: 0.081\n",
            "[6,   400] loss: 0.081\n",
            "[6,   450] loss: 0.082\n",
            "[6,   500] loss: 0.077\n",
            "[6,   550] loss: 0.077\n",
            "[6,   600] loss: 0.077\n",
            "validating...\n",
            "Accuracy of the network on the test images: 89 %\n",
            "[7,    50] loss: 0.073\n",
            "[7,   100] loss: 0.076\n",
            "[7,   150] loss: 0.076\n",
            "[7,   200] loss: 0.073\n",
            "[7,   250] loss: 0.075\n",
            "[7,   300] loss: 0.073\n",
            "[7,   350] loss: 0.071\n",
            "[7,   400] loss: 0.071\n",
            "[7,   450] loss: 0.075\n",
            "[7,   500] loss: 0.071\n",
            "[7,   550] loss: 0.071\n",
            "[7,   600] loss: 0.072\n",
            "validating...\n",
            "Accuracy of the network on the test images: 89 %\n",
            "[8,    50] loss: 0.070\n",
            "[8,   100] loss: 0.070\n",
            "[8,   150] loss: 0.068\n",
            "[8,   200] loss: 0.070\n",
            "[8,   250] loss: 0.065\n",
            "[8,   300] loss: 0.067\n",
            "[8,   350] loss: 0.064\n",
            "[8,   400] loss: 0.068\n",
            "[8,   450] loss: 0.065\n",
            "[8,   500] loss: 0.068\n",
            "[8,   550] loss: 0.066\n",
            "[8,   600] loss: 0.068\n",
            "validating...\n",
            "Accuracy of the network on the test images: 90 %\n",
            "[9,    50] loss: 0.065\n",
            "[9,   100] loss: 0.065\n",
            "[9,   150] loss: 0.063\n",
            "[9,   200] loss: 0.064\n",
            "[9,   250] loss: 0.064\n",
            "[9,   300] loss: 0.063\n",
            "[9,   350] loss: 0.065\n",
            "[9,   400] loss: 0.063\n",
            "[9,   450] loss: 0.061\n",
            "[9,   500] loss: 0.063\n",
            "[9,   550] loss: 0.065\n",
            "[9,   600] loss: 0.063\n",
            "validating...\n",
            "Accuracy of the network on the test images: 90 %\n",
            "[10,    50] loss: 0.062\n",
            "[10,   100] loss: 0.063\n",
            "[10,   150] loss: 0.061\n",
            "[10,   200] loss: 0.060\n",
            "[10,   250] loss: 0.060\n",
            "[10,   300] loss: 0.060\n",
            "[10,   350] loss: 0.059\n",
            "[10,   400] loss: 0.060\n",
            "[10,   450] loss: 0.058\n",
            "[10,   500] loss: 0.058\n",
            "[10,   550] loss: 0.059\n",
            "[10,   600] loss: 0.063\n",
            "validating...\n",
            "Accuracy of the network on the test images: 90 %\n",
            "[11,    50] loss: 0.059\n",
            "[11,   100] loss: 0.060\n",
            "[11,   150] loss: 0.059\n",
            "[11,   200] loss: 0.060\n",
            "[11,   250] loss: 0.059\n",
            "[11,   300] loss: 0.055\n",
            "[11,   350] loss: 0.056\n",
            "[11,   400] loss: 0.056\n",
            "[11,   450] loss: 0.057\n",
            "[11,   500] loss: 0.059\n",
            "[11,   550] loss: 0.057\n",
            "[11,   600] loss: 0.058\n",
            "validating...\n",
            "Accuracy of the network on the test images: 91 %\n",
            "[12,    50] loss: 0.059\n",
            "[12,   100] loss: 0.056\n",
            "[12,   150] loss: 0.055\n",
            "[12,   200] loss: 0.056\n",
            "[12,   250] loss: 0.058\n",
            "[12,   300] loss: 0.057\n",
            "[12,   350] loss: 0.056\n",
            "[12,   400] loss: 0.055\n",
            "[12,   450] loss: 0.058\n",
            "[12,   500] loss: 0.053\n",
            "[12,   550] loss: 0.051\n",
            "[12,   600] loss: 0.055\n",
            "validating...\n",
            "Accuracy of the network on the test images: 91 %\n",
            "[13,    50] loss: 0.056\n",
            "[13,   100] loss: 0.053\n",
            "[13,   150] loss: 0.054\n",
            "[13,   200] loss: 0.054\n",
            "[13,   250] loss: 0.055\n",
            "[13,   300] loss: 0.054\n",
            "[13,   350] loss: 0.053\n",
            "[13,   400] loss: 0.057\n",
            "[13,   450] loss: 0.052\n",
            "[13,   500] loss: 0.057\n",
            "[13,   550] loss: 0.052\n",
            "[13,   600] loss: 0.052\n",
            "validating...\n",
            "Accuracy of the network on the test images: 91 %\n",
            "[14,    50] loss: 0.052\n",
            "[14,   100] loss: 0.053\n",
            "[14,   150] loss: 0.051\n",
            "[14,   200] loss: 0.053\n",
            "[14,   250] loss: 0.053\n",
            "[14,   300] loss: 0.050\n",
            "[14,   350] loss: 0.053\n",
            "[14,   400] loss: 0.054\n",
            "[14,   450] loss: 0.052\n",
            "[14,   500] loss: 0.052\n",
            "[14,   550] loss: 0.054\n",
            "[14,   600] loss: 0.053\n",
            "validating...\n",
            "Accuracy of the network on the test images: 91 %\n",
            "[15,    50] loss: 0.051\n",
            "[15,   100] loss: 0.050\n",
            "[15,   150] loss: 0.053\n",
            "[15,   200] loss: 0.053\n",
            "[15,   250] loss: 0.054\n",
            "[15,   300] loss: 0.050\n",
            "[15,   350] loss: 0.049\n",
            "[15,   400] loss: 0.051\n",
            "[15,   450] loss: 0.051\n",
            "[15,   500] loss: 0.053\n",
            "[15,   550] loss: 0.051\n",
            "[15,   600] loss: 0.048\n",
            "validating...\n",
            "Accuracy of the network on the test images: 92 %\n",
            "[16,    50] loss: 0.054\n",
            "[16,   100] loss: 0.050\n",
            "[16,   150] loss: 0.050\n",
            "[16,   200] loss: 0.047\n",
            "[16,   250] loss: 0.052\n",
            "[16,   300] loss: 0.049\n",
            "[16,   350] loss: 0.050\n",
            "[16,   400] loss: 0.049\n",
            "[16,   450] loss: 0.050\n",
            "[16,   500] loss: 0.049\n",
            "[16,   550] loss: 0.049\n",
            "[16,   600] loss: 0.050\n",
            "validating...\n",
            "Accuracy of the network on the test images: 92 %\n",
            "[17,    50] loss: 0.048\n",
            "[17,   100] loss: 0.050\n",
            "[17,   150] loss: 0.050\n",
            "[17,   200] loss: 0.053\n",
            "[17,   250] loss: 0.048\n",
            "[17,   300] loss: 0.048\n",
            "[17,   350] loss: 0.048\n",
            "[17,   400] loss: 0.048\n",
            "[17,   450] loss: 0.049\n",
            "[17,   500] loss: 0.047\n",
            "[17,   550] loss: 0.048\n",
            "[17,   600] loss: 0.048\n",
            "validating...\n",
            "Accuracy of the network on the test images: 92 %\n",
            "[18,    50] loss: 0.049\n",
            "[18,   100] loss: 0.048\n",
            "[18,   150] loss: 0.049\n",
            "[18,   200] loss: 0.048\n",
            "[18,   250] loss: 0.045\n",
            "[18,   300] loss: 0.049\n",
            "[18,   350] loss: 0.049\n",
            "[18,   400] loss: 0.047\n",
            "[18,   450] loss: 0.048\n",
            "[18,   500] loss: 0.046\n",
            "[18,   550] loss: 0.047\n",
            "[18,   600] loss: 0.048\n",
            "validating...\n",
            "Accuracy of the network on the test images: 92 %\n",
            "[19,    50] loss: 0.049\n",
            "[19,   100] loss: 0.048\n",
            "[19,   150] loss: 0.050\n",
            "[19,   200] loss: 0.047\n",
            "[19,   250] loss: 0.044\n",
            "[19,   300] loss: 0.050\n",
            "[19,   350] loss: 0.044\n",
            "[19,   400] loss: 0.047\n",
            "[19,   450] loss: 0.045\n",
            "[19,   500] loss: 0.045\n",
            "[19,   550] loss: 0.046\n",
            "[19,   600] loss: 0.047\n",
            "validating...\n",
            "Accuracy of the network on the test images: 92 %\n",
            "[20,    50] loss: 0.048\n",
            "[20,   100] loss: 0.045\n",
            "[20,   150] loss: 0.046\n",
            "[20,   200] loss: 0.044\n",
            "[20,   250] loss: 0.045\n",
            "[20,   300] loss: 0.045\n",
            "[20,   350] loss: 0.047\n",
            "[20,   400] loss: 0.046\n",
            "[20,   450] loss: 0.047\n",
            "[20,   500] loss: 0.045\n",
            "[20,   550] loss: 0.046\n",
            "[20,   600] loss: 0.046\n",
            "validating...\n",
            "Accuracy of the network on the test images: 92 %\n",
            "[21,    50] loss: 0.046\n",
            "[21,   100] loss: 0.044\n",
            "[21,   150] loss: 0.042\n",
            "[21,   200] loss: 0.045\n",
            "[21,   250] loss: 0.047\n",
            "[21,   300] loss: 0.043\n",
            "[21,   350] loss: 0.046\n",
            "[21,   400] loss: 0.047\n",
            "[21,   450] loss: 0.044\n",
            "[21,   500] loss: 0.044\n",
            "[21,   550] loss: 0.046\n",
            "[21,   600] loss: 0.047\n",
            "validating...\n",
            "Accuracy of the network on the test images: 92 %\n",
            "[22,    50] loss: 0.045\n",
            "[22,   100] loss: 0.045\n",
            "[22,   150] loss: 0.047\n",
            "[22,   200] loss: 0.044\n",
            "[22,   250] loss: 0.044\n",
            "[22,   300] loss: 0.044\n",
            "[22,   350] loss: 0.044\n",
            "[22,   400] loss: 0.044\n",
            "[22,   450] loss: 0.046\n",
            "[22,   500] loss: 0.043\n",
            "[22,   550] loss: 0.043\n",
            "[22,   600] loss: 0.044\n",
            "validating...\n",
            "Accuracy of the network on the test images: 92 %\n",
            "[23,    50] loss: 0.045\n",
            "[23,   100] loss: 0.044\n",
            "[23,   150] loss: 0.043\n",
            "[23,   200] loss: 0.047\n",
            "[23,   250] loss: 0.045\n",
            "[23,   300] loss: 0.044\n",
            "[23,   350] loss: 0.046\n",
            "[23,   400] loss: 0.044\n",
            "[23,   450] loss: 0.041\n",
            "[23,   500] loss: 0.041\n",
            "[23,   550] loss: 0.041\n",
            "[23,   600] loss: 0.045\n",
            "validating...\n",
            "Accuracy of the network on the test images: 93 %\n",
            "[24,    50] loss: 0.044\n",
            "[24,   100] loss: 0.042\n",
            "[24,   150] loss: 0.043\n",
            "[24,   200] loss: 0.042\n",
            "[24,   250] loss: 0.043\n",
            "[24,   300] loss: 0.044\n",
            "[24,   350] loss: 0.044\n",
            "[24,   400] loss: 0.042\n",
            "[24,   450] loss: 0.042\n",
            "[24,   500] loss: 0.044\n",
            "[24,   550] loss: 0.043\n",
            "[24,   600] loss: 0.043\n",
            "validating...\n",
            "Accuracy of the network on the test images: 93 %\n",
            "[25,    50] loss: 0.043\n",
            "[25,   100] loss: 0.043\n",
            "[25,   150] loss: 0.043\n",
            "[25,   200] loss: 0.042\n",
            "[25,   250] loss: 0.040\n",
            "[25,   300] loss: 0.042\n",
            "[25,   350] loss: 0.043\n",
            "[25,   400] loss: 0.042\n",
            "[25,   450] loss: 0.044\n",
            "[25,   500] loss: 0.043\n",
            "[25,   550] loss: 0.042\n",
            "[25,   600] loss: 0.042\n",
            "validating...\n",
            "Accuracy of the network on the test images: 93 %\n",
            "Finished Training\n"
          ],
          "name": "stdout"
        }
      ]
    },
    {
      "cell_type": "code",
      "metadata": {
        "colab": {
          "base_uri": "https://localhost:8080/",
          "height": 314
        },
        "id": "PVRIjEJtjcgQ",
        "outputId": "5eeb976f-d65d-4a50-a30d-243822fa2592"
      },
      "source": [
        "plt.plot(train_loss, label='training')\r\n",
        "plt.plot(val_loss, label='validation')\r\n",
        "plt.legend()\r\n",
        "plt.title('Loss')\r\n",
        "plt.xlabel('Epochs')\r\n",
        "plt.ylabel('Loss')"
      ],
      "execution_count": 102,
      "outputs": [
        {
          "output_type": "execute_result",
          "data": {
            "text/plain": [
              "Text(0, 0.5, 'Loss')"
            ]
          },
          "metadata": {
            "tags": []
          },
          "execution_count": 102
        },
        {
          "output_type": "display_data",
          "data": {
            "image/png": "[encoded data removed]",
            "text/plain": [
              "<Figure size 432x288 with 1 Axes>"
            ]
          },
          "metadata": {
            "tags": [],
            "needs_background": "light"
          }
        }
      ]
    },
    {
      "cell_type": "markdown",
      "metadata": {
        "id": "C44uK2Cze-Eg"
      },
      "source": [
        "Now, we want to test our trained model. For this task we use Accurracy as performance metric. Accuracy is as simples as:\r\n",
        "\r\n",
        "\\begin{equation}\r\n",
        "  Accuracy = \\frac{Number \\ of \\ correct \\ predictions}{Total \\ number \\ of \\ predictions}\r\n",
        "\\end{equation}\r\n",
        "\r\n",
        "Although it is woth to note that accuracy is not a reliable measure in real life but for this case it is good enough. Try to think in which cases accuracy fails to correcly measure the performance of a model."
      ]
    },
    {
      "cell_type": "code",
      "metadata": {
        "colab": {
          "base_uri": "https://localhost:8080/"
        },
        "id": "z8bvFBK8WSlM",
        "outputId": "0d02a3cd-6e33-446b-d627-d933f61f6350"
      },
      "source": [
        "#Evaluation of the trained model\r\n",
        "correct = 0\r\n",
        "total = 0\r\n",
        "with torch.no_grad():\r\n",
        "    for i, data in enumerate(test_loader, 0):\r\n",
        "        inputs, labels = data\r\n",
        "        inputs = inputs.to(device)\r\n",
        "        labels =  labels.type_as(inputs)\r\n",
        "        outputs = model(inputs)\r\n",
        "        predicted = torch.argmax(outputs,dim=1)\r\n",
        "        total += labels.shape[0]\r\n",
        "        correct += (predicted == labels).sum().item()\r\n",
        "\r\n",
        "print('Accuracy of the network on the test images: %d %%' % (\r\n",
        "    100 * correct / total))"
      ],
      "execution_count": 103,
      "outputs": [
        {
          "output_type": "stream",
          "text": [
            "Accuracy of the network on the test images: 93 %\n"
          ],
          "name": "stdout"
        }
      ]
    },
    {
      "cell_type": "markdown",
      "metadata": {
        "id": "yxzf7-5heRxn"
      },
      "source": [
        "So we got a 93% prediction accuracy with this model with just one hidden layer, do you think you can improve this results? Below we plot some test samples along with their predicted label."
      ]
    },
    {
      "cell_type": "code",
      "metadata": {
        "colab": {
          "base_uri": "https://localhost:8080/",
          "height": 525
        },
        "id": "jf5XyBiHZVfl",
        "outputId": "2ee132ad-fc50-477d-fc12-da0a9b3de5d3"
      },
      "source": [
        "from math import ceil\r\n",
        "n_samples = 6\r\n",
        "id = np.random.randint(0,len(test_dataset),n_samples)\r\n",
        "rows = ceil(n_samples/3)\r\n",
        "plt.figure(figsize=(rows*5,10))\r\n",
        "for i in range(len(id)):\r\n",
        "  images = test_dataset[id[i]][0].to(device)\r\n",
        "  pred_labels = torch.argmax(model(images),dim=1)[0]\r\n",
        "  plt.subplot(rows,3,i+1)\r\n",
        "  plt.imshow(images[0].cpu(), cmap='gray')\r\n",
        "  plt.title('prediction: %d'%(pred_labels))"
      ],
      "execution_count": 115,
      "outputs": [
        {
          "output_type": "display_data",
          "data": {
            "image/png": "[encoded data removed]",
            "text/plain": [
              "<Figure size 720x720 with 6 Axes>"
            ]
          },
          "metadata": {
            "tags": [],
            "needs_background": "light"
          }
        }
      ]
    }
  ]
}